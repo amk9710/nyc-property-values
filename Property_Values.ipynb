{
  "cells": [
    {
      "cell_type": "code",
      "execution_count": null,
      "metadata": {
        "colab": {
          "base_uri": "https://localhost:8080/"
        },
        "id": "ubexcilK_oCL",
        "outputId": "da11fe99-717e-46d4-98b8-4bd483f6726d"
      },
      "outputs": [
        {
          "output_type": "stream",
          "name": "stdout",
          "text": [
            "Looking in indexes: https://pypi.org/simple, https://us-python.pkg.dev/colab-wheels/public/simple/\n",
            "Collecting geopandas\n",
            "  Downloading geopandas-0.13.0-py3-none-any.whl (1.1 MB)\n",
            "\u001b[2K     \u001b[90m━━━━━━━━━━━━━━━━━━━━━━━━━━━━━━━━━━━━━━━━\u001b[0m \u001b[32m1.1/1.1 MB\u001b[0m \u001b[31m22.9 MB/s\u001b[0m eta \u001b[36m0:00:00\u001b[0m\n",
            "\u001b[?25hCollecting fiona>=1.8.19 (from geopandas)\n",
            "  Downloading Fiona-1.9.3-cp310-cp310-manylinux_2_17_x86_64.manylinux2014_x86_64.whl (16.0 MB)\n",
            "\u001b[2K     \u001b[90m━━━━━━━━━━━━━━━━━━━━━━━━━━━━━━━━━━━━━━━━\u001b[0m \u001b[32m16.0/16.0 MB\u001b[0m \u001b[31m49.7 MB/s\u001b[0m eta \u001b[36m0:00:00\u001b[0m\n",
            "\u001b[?25hRequirement already satisfied: packaging in /usr/local/lib/python3.10/dist-packages (from geopandas) (23.1)\n",
            "Requirement already satisfied: pandas>=1.1.0 in /usr/local/lib/python3.10/dist-packages (from geopandas) (1.5.3)\n",
            "Collecting pyproj>=3.0.1 (from geopandas)\n",
            "  Downloading pyproj-3.5.0-cp310-cp310-manylinux_2_17_x86_64.manylinux2014_x86_64.whl (7.7 MB)\n",
            "\u001b[2K     \u001b[90m━━━━━━━━━━━━━━━━━━━━━━━━━━━━━━━━━━━━━━━━\u001b[0m \u001b[32m7.7/7.7 MB\u001b[0m \u001b[31m22.4 MB/s\u001b[0m eta \u001b[36m0:00:00\u001b[0m\n",
            "\u001b[?25hRequirement already satisfied: shapely>=1.7.1 in /usr/local/lib/python3.10/dist-packages (from geopandas) (2.0.1)\n",
            "Requirement already satisfied: attrs>=19.2.0 in /usr/local/lib/python3.10/dist-packages (from fiona>=1.8.19->geopandas) (23.1.0)\n",
            "Requirement already satisfied: certifi in /usr/local/lib/python3.10/dist-packages (from fiona>=1.8.19->geopandas) (2022.12.7)\n",
            "Requirement already satisfied: click~=8.0 in /usr/local/lib/python3.10/dist-packages (from fiona>=1.8.19->geopandas) (8.1.3)\n",
            "Collecting click-plugins>=1.0 (from fiona>=1.8.19->geopandas)\n",
            "  Downloading click_plugins-1.1.1-py2.py3-none-any.whl (7.5 kB)\n",
            "Collecting cligj>=0.5 (from fiona>=1.8.19->geopandas)\n",
            "  Downloading cligj-0.7.2-py3-none-any.whl (7.1 kB)\n",
            "Collecting munch>=2.3.2 (from fiona>=1.8.19->geopandas)\n",
            "  Downloading munch-2.5.0-py2.py3-none-any.whl (10 kB)\n",
            "Requirement already satisfied: python-dateutil>=2.8.1 in /usr/local/lib/python3.10/dist-packages (from pandas>=1.1.0->geopandas) (2.8.2)\n",
            "Requirement already satisfied: pytz>=2020.1 in /usr/local/lib/python3.10/dist-packages (from pandas>=1.1.0->geopandas) (2022.7.1)\n",
            "Requirement already satisfied: numpy>=1.21.0 in /usr/local/lib/python3.10/dist-packages (from pandas>=1.1.0->geopandas) (1.22.4)\n",
            "Requirement already satisfied: six in /usr/local/lib/python3.10/dist-packages (from munch>=2.3.2->fiona>=1.8.19->geopandas) (1.16.0)\n",
            "Installing collected packages: pyproj, munch, cligj, click-plugins, fiona, geopandas\n",
            "Successfully installed click-plugins-1.1.1 cligj-0.7.2 fiona-1.9.3 geopandas-0.13.0 munch-2.5.0 pyproj-3.5.0\n"
          ]
        }
      ],
      "source": [
        "pip install geopandas"
      ]
    },
    {
      "cell_type": "code",
      "execution_count": null,
      "metadata": {
        "colab": {
          "base_uri": "https://localhost:8080/"
        },
        "id": "1Lbq56mBpCDO",
        "outputId": "a1954756-d906-429f-8836-01e32017b51c"
      },
      "outputs": [
        {
          "output_type": "stream",
          "name": "stdout",
          "text": [
            "Looking in indexes: https://pypi.org/simple, https://us-python.pkg.dev/colab-wheels/public/simple/\n",
            "Collecting pysal\n",
            "  Downloading pysal-23.1-py3-none-any.whl (17 kB)\n",
            "Collecting libpysal>=4.7.0 (from pysal)\n",
            "  Downloading libpysal-4.7.0-py3-none-any.whl (2.4 MB)\n",
            "\u001b[2K     \u001b[90m━━━━━━━━━━━━━━━━━━━━━━━━━━━━━━━━━━━━━━━━\u001b[0m \u001b[32m2.4/2.4 MB\u001b[0m \u001b[31m44.1 MB/s\u001b[0m eta \u001b[36m0:00:00\u001b[0m\n",
            "\u001b[?25hCollecting access>=1.1.8 (from pysal)\n",
            "  Downloading access-1.1.9-py3-none-any.whl (21 kB)\n",
            "Collecting esda>=2.4.1 (from pysal)\n",
            "  Downloading esda-2.4.3.tar.gz (116 kB)\n",
            "\u001b[2K     \u001b[90m━━━━━━━━━━━━━━━━━━━━━━━━━━━━━━━━━━━━━━━\u001b[0m \u001b[32m116.6/116.6 kB\u001b[0m \u001b[31m7.6 MB/s\u001b[0m eta \u001b[36m0:00:00\u001b[0m\n",
            "\u001b[?25h  Preparing metadata (setup.py) ... \u001b[?25l\u001b[?25hdone\n",
            "Collecting giddy>=2.3.3 (from pysal)\n",
            "  Downloading giddy-2.3.4-py3-none-any.whl (61 kB)\n",
            "\u001b[2K     \u001b[90m━━━━━━━━━━━━━━━━━━━━━━━━━━━━━━━━━━━━━━━━\u001b[0m \u001b[32m61.1/61.1 kB\u001b[0m \u001b[31m7.2 MB/s\u001b[0m eta \u001b[36m0:00:00\u001b[0m\n",
            "\u001b[?25hCollecting inequality>=1.0.0 (from pysal)\n",
            "  Downloading inequality-1.0.0.tar.gz (11 kB)\n",
            "  Preparing metadata (setup.py) ... \u001b[?25l\u001b[?25hdone\n",
            "Collecting pointpats>=2.2.0 (from pysal)\n",
            "  Downloading pointpats-2.3.0-py3-none-any.whl (59 kB)\n",
            "\u001b[2K     \u001b[90m━━━━━━━━━━━━━━━━━━━━━━━━━━━━━━━━━━━━━━━━\u001b[0m \u001b[32m59.2/59.2 kB\u001b[0m \u001b[31m4.4 MB/s\u001b[0m eta \u001b[36m0:00:00\u001b[0m\n",
            "\u001b[?25hCollecting segregation>=2.3.1 (from pysal)\n",
            "  Downloading segregation-2.4.2-py3-none-any.whl (147 kB)\n",
            "\u001b[2K     \u001b[90m━━━━━━━━━━━━━━━━━━━━━━━━━━━━━━━━━━━━━━\u001b[0m \u001b[32m147.5/147.5 kB\u001b[0m \u001b[31m11.3 MB/s\u001b[0m eta \u001b[36m0:00:00\u001b[0m\n",
            "\u001b[?25hCollecting spaghetti>=1.7.2 (from pysal)\n",
            "  Downloading spaghetti-1.7.2-py3-none-any.whl (50 kB)\n",
            "\u001b[2K     \u001b[90m━━━━━━━━━━━━━━━━━━━━━━━━━━━━━━━━━━━━━━━━\u001b[0m \u001b[32m50.3/50.3 kB\u001b[0m \u001b[31m5.9 MB/s\u001b[0m eta \u001b[36m0:00:00\u001b[0m\n",
            "\u001b[?25hCollecting mgwr>=2.1.2 (from pysal)\n",
            "  Downloading mgwr-2.1.2.tar.gz (41 kB)\n",
            "\u001b[2K     \u001b[90m━━━━━━━━━━━━━━━━━━━━━━━━━━━━━━━━━━━━━━━━\u001b[0m \u001b[32m41.8/41.8 kB\u001b[0m \u001b[31m4.8 MB/s\u001b[0m eta \u001b[36m0:00:00\u001b[0m\n",
            "\u001b[?25h  Preparing metadata (setup.py) ... \u001b[?25l\u001b[?25hdone\n",
            "Collecting momepy>=0.5.4 (from pysal)\n",
            "  Downloading momepy-0.6.0-py3-none-any.whl (275 kB)\n",
            "\u001b[2K     \u001b[90m━━━━━━━━━━━━━━━━━━━━━━━━━━━━━━━━━━━━━━\u001b[0m \u001b[32m275.7/275.7 kB\u001b[0m \u001b[31m17.0 MB/s\u001b[0m eta \u001b[36m0:00:00\u001b[0m\n",
            "\u001b[?25hCollecting spglm>=1.0.8 (from pysal)\n",
            "  Downloading spglm-1.0.8.tar.gz (37 kB)\n",
            "  Preparing metadata (setup.py) ... \u001b[?25l\u001b[?25hdone\n",
            "Collecting spint>=1.0.7 (from pysal)\n",
            "  Downloading spint-1.0.7.tar.gz (28 kB)\n",
            "  Preparing metadata (setup.py) ... \u001b[?25l\u001b[?25hdone\n",
            "Collecting spreg>=1.3.0 (from pysal)\n",
            "  Downloading spreg-1.3.2-py3-none-any.whl (220 kB)\n",
            "\u001b[2K     \u001b[90m━━━━━━━━━━━━━━━━━━━━━━━━━━━━━━━━━━━━━━\u001b[0m \u001b[32m220.2/220.2 kB\u001b[0m \u001b[31m21.2 MB/s\u001b[0m eta \u001b[36m0:00:00\u001b[0m\n",
            "\u001b[?25hCollecting spvcm>=0.3.0 (from pysal)\n",
            "  Downloading spvcm-0.3.0.tar.gz (5.7 MB)\n",
            "\u001b[2K     \u001b[90m━━━━━━━━━━━━━━━━━━━━━━━━━━━━━━━━━━━━━━━━\u001b[0m \u001b[32m5.7/5.7 MB\u001b[0m \u001b[31m58.4 MB/s\u001b[0m eta \u001b[36m0:00:00\u001b[0m\n",
            "\u001b[?25h  Preparing metadata (setup.py) ... \u001b[?25l\u001b[?25hdone\n",
            "Collecting tobler>=0.8.2 (from pysal)\n",
            "  Downloading tobler-0.10-py3-none-any.whl (30 kB)\n",
            "Collecting mapclassify>=2.5.0 (from pysal)\n",
            "  Downloading mapclassify-2.5.0-py3-none-any.whl (39 kB)\n",
            "Collecting splot>=1.1.5.post1 (from pysal)\n",
            "  Downloading splot-1.1.5.post1-py3-none-any.whl (39 kB)\n",
            "Collecting spopt>=0.5.0 (from pysal)\n",
            "  Downloading spopt-0.5.0-py3-none-any.whl (112 kB)\n",
            "\u001b[2K     \u001b[90m━━━━━━━━━━━━━━━━━━━━━━━━━━━━━━━━━━━━━━━\u001b[0m \u001b[32m112.9/112.9 kB\u001b[0m \u001b[31m5.5 MB/s\u001b[0m eta \u001b[36m0:00:00\u001b[0m\n",
            "\u001b[?25hRequirement already satisfied: geopandas in /usr/local/lib/python3.10/dist-packages (from access>=1.1.8->pysal) (0.13.0)\n",
            "Requirement already satisfied: numpy>=1.3 in /usr/local/lib/python3.10/dist-packages (from access>=1.1.8->pysal) (1.22.4)\n",
            "Requirement already satisfied: pandas>=0.23.4 in /usr/local/lib/python3.10/dist-packages (from access>=1.1.8->pysal) (1.5.3)\n",
            "Requirement already satisfied: requests>=2 in /usr/local/lib/python3.10/dist-packages (from access>=1.1.8->pysal) (2.27.1)\n",
            "Requirement already satisfied: scipy>=0.11 in /usr/local/lib/python3.10/dist-packages (from esda>=2.4.1->pysal) (1.10.1)\n",
            "Requirement already satisfied: scikit-learn in /usr/local/lib/python3.10/dist-packages (from esda>=2.4.1->pysal) (1.2.2)\n",
            "Collecting quantecon>=0.4.7 (from giddy>=2.3.3->pysal)\n",
            "  Downloading quantecon-0.7.0-py3-none-any.whl (214 kB)\n",
            "\u001b[2K     \u001b[90m━━━━━━━━━━━━━━━━━━━━━━━━━━━━━━━━━━━━━━\u001b[0m \u001b[32m214.8/214.8 kB\u001b[0m \u001b[31m19.9 MB/s\u001b[0m eta \u001b[36m0:00:00\u001b[0m\n",
            "\u001b[?25hRequirement already satisfied: platformdirs in /usr/local/lib/python3.10/dist-packages (from libpysal>=4.7.0->pysal) (3.3.0)\n",
            "Requirement already satisfied: beautifulsoup4 in /usr/local/lib/python3.10/dist-packages (from libpysal>=4.7.0->pysal) (4.11.2)\n",
            "Requirement already satisfied: jinja2 in /usr/local/lib/python3.10/dist-packages (from libpysal>=4.7.0->pysal) (3.1.2)\n",
            "Requirement already satisfied: packaging in /usr/local/lib/python3.10/dist-packages (from libpysal>=4.7.0->pysal) (23.1)\n",
            "Requirement already satisfied: networkx in /usr/local/lib/python3.10/dist-packages (from mapclassify>=2.5.0->pysal) (3.1)\n",
            "Requirement already satisfied: shapely>=2 in /usr/local/lib/python3.10/dist-packages (from momepy>=0.5.4->pysal) (2.0.1)\n",
            "Requirement already satisfied: tqdm>=4.27.0 in /usr/local/lib/python3.10/dist-packages (from momepy>=0.5.4->pysal) (4.65.0)\n",
            "Requirement already satisfied: matplotlib in /usr/local/lib/python3.10/dist-packages (from pointpats>=2.2.0->pysal) (3.7.1)\n",
            "Collecting deprecation (from segregation>=2.3.1->pysal)\n",
            "  Downloading deprecation-2.1.0-py2.py3-none-any.whl (11 kB)\n",
            "Requirement already satisfied: joblib in /usr/local/lib/python3.10/dist-packages (from segregation>=2.3.1->pysal) (1.2.0)\n",
            "Requirement already satisfied: seaborn in /usr/local/lib/python3.10/dist-packages (from segregation>=2.3.1->pysal) (0.12.2)\n",
            "Requirement already satisfied: numba in /usr/local/lib/python3.10/dist-packages (from segregation>=2.3.1->pysal) (0.56.4)\n",
            "Requirement already satisfied: pyproj>=3 in /usr/local/lib/python3.10/dist-packages (from segregation>=2.3.1->pysal) (3.5.0)\n",
            "Collecting rtree (from spaghetti>=1.7.2->pysal)\n",
            "  Downloading Rtree-1.0.1-cp310-cp310-manylinux_2_17_x86_64.manylinux2014_x86_64.whl (1.0 MB)\n",
            "\u001b[2K     \u001b[90m━━━━━━━━━━━━━━━━━━━━━━━━━━━━━━━━━━━━━━━━\u001b[0m \u001b[32m1.0/1.0 MB\u001b[0m \u001b[31m31.8 MB/s\u001b[0m eta \u001b[36m0:00:00\u001b[0m\n",
            "\u001b[?25hCollecting pulp (from spopt>=0.5.0->pysal)\n",
            "  Downloading PuLP-2.7.0-py3-none-any.whl (14.3 MB)\n",
            "\u001b[2K     \u001b[90m━━━━━━━━━━━━━━━━━━━━━━━━━━━━━━━━━━━━━━━━\u001b[0m \u001b[32m14.3/14.3 MB\u001b[0m \u001b[31m35.1 MB/s\u001b[0m eta \u001b[36m0:00:00\u001b[0m\n",
            "\u001b[?25hCollecting rasterio (from tobler>=0.8.2->pysal)\n",
            "  Downloading rasterio-1.3.6-cp310-cp310-manylinux_2_17_x86_64.manylinux2014_x86_64.whl (20.0 MB)\n",
            "\u001b[2K     \u001b[90m━━━━━━━━━━━━━━━━━━━━━━━━━━━━━━━━━━━━━━━━\u001b[0m \u001b[32m20.0/20.0 MB\u001b[0m \u001b[31m42.8 MB/s\u001b[0m eta \u001b[36m0:00:00\u001b[0m\n",
            "\u001b[?25hRequirement already satisfied: statsmodels in /usr/local/lib/python3.10/dist-packages (from tobler>=0.8.2->pysal) (0.13.5)\n",
            "Collecting rasterstats (from tobler>=0.8.2->pysal)\n",
            "  Downloading rasterstats-0.18.0-py3-none-any.whl (17 kB)\n",
            "Requirement already satisfied: fiona>=1.8.19 in /usr/local/lib/python3.10/dist-packages (from geopandas->access>=1.1.8->pysal) (1.9.3)\n",
            "Requirement already satisfied: python-dateutil>=2.8.1 in /usr/local/lib/python3.10/dist-packages (from pandas>=0.23.4->access>=1.1.8->pysal) (2.8.2)\n",
            "Requirement already satisfied: pytz>=2020.1 in /usr/local/lib/python3.10/dist-packages (from pandas>=0.23.4->access>=1.1.8->pysal) (2022.7.1)\n",
            "Requirement already satisfied: certifi in /usr/local/lib/python3.10/dist-packages (from pyproj>=3->segregation>=2.3.1->pysal) (2022.12.7)\n",
            "Requirement already satisfied: sympy in /usr/local/lib/python3.10/dist-packages (from quantecon>=0.4.7->giddy>=2.3.3->pysal) (1.11.1)\n",
            "Requirement already satisfied: llvmlite<0.40,>=0.39.0dev0 in /usr/local/lib/python3.10/dist-packages (from numba->segregation>=2.3.1->pysal) (0.39.1)\n",
            "Requirement already satisfied: setuptools in /usr/local/lib/python3.10/dist-packages (from numba->segregation>=2.3.1->pysal) (67.7.2)\n",
            "Requirement already satisfied: urllib3<1.27,>=1.21.1 in /usr/local/lib/python3.10/dist-packages (from requests>=2->access>=1.1.8->pysal) (1.26.15)\n",
            "Requirement already satisfied: charset-normalizer~=2.0.0 in /usr/local/lib/python3.10/dist-packages (from requests>=2->access>=1.1.8->pysal) (2.0.12)\n",
            "Requirement already satisfied: idna<4,>=2.5 in /usr/local/lib/python3.10/dist-packages (from requests>=2->access>=1.1.8->pysal) (3.4)\n",
            "Requirement already satisfied: threadpoolctl>=2.0.0 in /usr/local/lib/python3.10/dist-packages (from scikit-learn->esda>=2.4.1->pysal) (3.1.0)\n",
            "Requirement already satisfied: soupsieve>1.2 in /usr/local/lib/python3.10/dist-packages (from beautifulsoup4->libpysal>=4.7.0->pysal) (2.4.1)\n",
            "Requirement already satisfied: MarkupSafe>=2.0 in /usr/local/lib/python3.10/dist-packages (from jinja2->libpysal>=4.7.0->pysal) (2.1.2)\n",
            "Requirement already satisfied: contourpy>=1.0.1 in /usr/local/lib/python3.10/dist-packages (from matplotlib->pointpats>=2.2.0->pysal) (1.0.7)\n",
            "Requirement already satisfied: cycler>=0.10 in /usr/local/lib/python3.10/dist-packages (from matplotlib->pointpats>=2.2.0->pysal) (0.11.0)\n",
            "Requirement already satisfied: fonttools>=4.22.0 in /usr/local/lib/python3.10/dist-packages (from matplotlib->pointpats>=2.2.0->pysal) (4.39.3)\n",
            "Requirement already satisfied: kiwisolver>=1.0.1 in /usr/local/lib/python3.10/dist-packages (from matplotlib->pointpats>=2.2.0->pysal) (1.4.4)\n",
            "Requirement already satisfied: pillow>=6.2.0 in /usr/local/lib/python3.10/dist-packages (from matplotlib->pointpats>=2.2.0->pysal) (8.4.0)\n",
            "Requirement already satisfied: pyparsing>=2.3.1 in /usr/local/lib/python3.10/dist-packages (from matplotlib->pointpats>=2.2.0->pysal) (3.0.9)\n",
            "Collecting affine (from rasterio->tobler>=0.8.2->pysal)\n",
            "  Downloading affine-2.4.0-py3-none-any.whl (15 kB)\n",
            "Requirement already satisfied: attrs in /usr/local/lib/python3.10/dist-packages (from rasterio->tobler>=0.8.2->pysal) (23.1.0)\n",
            "Requirement already satisfied: click>=4.0 in /usr/local/lib/python3.10/dist-packages (from rasterio->tobler>=0.8.2->pysal) (8.1.3)\n",
            "Requirement already satisfied: cligj>=0.5 in /usr/local/lib/python3.10/dist-packages (from rasterio->tobler>=0.8.2->pysal) (0.7.2)\n",
            "Collecting snuggs>=1.4.1 (from rasterio->tobler>=0.8.2->pysal)\n",
            "  Downloading snuggs-1.4.7-py3-none-any.whl (5.4 kB)\n",
            "Requirement already satisfied: click-plugins in /usr/local/lib/python3.10/dist-packages (from rasterio->tobler>=0.8.2->pysal) (1.1.1)\n",
            "Collecting fiona>=1.8.19 (from geopandas->access>=1.1.8->pysal)\n",
            "  Downloading Fiona-1.8.22-cp310-cp310-manylinux_2_17_x86_64.manylinux2014_x86_64.whl (16.6 MB)\n",
            "\u001b[2K     \u001b[90m━━━━━━━━━━━━━━━━━━━━━━━━━━━━━━━━━━━━━━━━\u001b[0m \u001b[32m16.6/16.6 MB\u001b[0m \u001b[31m20.3 MB/s\u001b[0m eta \u001b[36m0:00:00\u001b[0m\n",
            "\u001b[?25hCollecting simplejson (from rasterstats->tobler>=0.8.2->pysal)\n",
            "  Downloading simplejson-3.19.1-cp310-cp310-manylinux_2_5_x86_64.manylinux1_x86_64.manylinux_2_17_x86_64.manylinux2014_x86_64.whl (137 kB)\n",
            "\u001b[2K     \u001b[90m━━━━━━━━━━━━━━━━━━━━━━━━━━━━━━━━━━━━━━━\u001b[0m \u001b[32m137.9/137.9 kB\u001b[0m \u001b[31m1.4 MB/s\u001b[0m eta \u001b[36m0:00:00\u001b[0m\n",
            "\u001b[?25hRequirement already satisfied: patsy>=0.5.2 in /usr/local/lib/python3.10/dist-packages (from statsmodels->tobler>=0.8.2->pysal) (0.5.3)\n",
            "Requirement already satisfied: six>=1.7 in /usr/local/lib/python3.10/dist-packages (from fiona>=1.8.19->geopandas->access>=1.1.8->pysal) (1.16.0)\n",
            "Requirement already satisfied: munch in /usr/local/lib/python3.10/dist-packages (from fiona>=1.8.19->geopandas->access>=1.1.8->pysal) (2.5.0)\n",
            "Requirement already satisfied: mpmath>=0.19 in /usr/local/lib/python3.10/dist-packages (from sympy->quantecon>=0.4.7->giddy>=2.3.3->pysal) (1.3.0)\n",
            "Building wheels for collected packages: esda, inequality, mgwr, spglm, spint, spvcm\n",
            "  Building wheel for esda (setup.py) ... \u001b[?25l\u001b[?25hdone\n",
            "  Created wheel for esda: filename=esda-2.4.3-py3-none-any.whl size=122765 sha256=86201ac6db677971f1520c0fb6903b7717148d3eff456567dcb788a59e433323\n",
            "  Stored in directory: /root/.cache/pip/wheels/ed/88/61/8705bb427b9aeb4ded8f07eb8ea3e8cada26881368c75619cb\n",
            "  Building wheel for inequality (setup.py) ... \u001b[?25l\u001b[?25hdone\n",
            "  Created wheel for inequality: filename=inequality-1.0.0-py3-none-any.whl size=11781 sha256=c7936ee48a2cd881dbacf68b95d345848351c602fec073f53bcf9c1583c3c337\n",
            "  Stored in directory: /root/.cache/pip/wheels/52/f7/af/eb988b28568f650a2329b2b3e954019a1c3ceb084dae385b51\n",
            "  Building wheel for mgwr (setup.py) ... \u001b[?25l\u001b[?25hdone\n",
            "  Created wheel for mgwr: filename=mgwr-2.1.2-py3-none-any.whl size=46365 sha256=2be9057cf4cd9c05c60f5cf20604bd2fb7d598ea3cfb09720bd8950b99b06871\n",
            "  Stored in directory: /root/.cache/pip/wheels/4d/43/6e/bd2d0e1ccee77089e0b266ebc4948d9a90ef363e0be23663aa\n",
            "  Building wheel for spglm (setup.py) ... \u001b[?25l\u001b[?25hdone\n",
            "  Created wheel for spglm: filename=spglm-1.0.8-py3-none-any.whl size=38785 sha256=9a60e1ea70193fbb1bc2bca9b2a4283126cc38f86acf70b20f9770d3962c26d1\n",
            "  Stored in directory: /root/.cache/pip/wheels/a2/a7/67/07d6d6809173d768c16235f813520d6a4053984a160aa933fa\n",
            "  Building wheel for spint (setup.py) ... \u001b[?25l\u001b[?25hdone\n",
            "  Created wheel for spint: filename=spint-1.0.7-py3-none-any.whl size=31365 sha256=d0a9aa4983960da02190d90e90b765fb9bba6f3071969986a1db245c6d5b9189\n",
            "  Stored in directory: /root/.cache/pip/wheels/f6/1d/ab/81b0c9d17a778a97ec078147cb11901afdab420c4894dcfbc5\n",
            "  Building wheel for spvcm (setup.py) ... \u001b[?25l\u001b[?25hdone\n",
            "  Created wheel for spvcm: filename=spvcm-0.3.0-py3-none-any.whl size=5777186 sha256=2b281d8d00d47bd81efe070b8ef6e685515753e4a1ab011cb46e74acf2ede9e3\n",
            "  Stored in directory: /root/.cache/pip/wheels/1c/58/6f/debcb62c0a142a6615a65f23217209b543b478d309edfa4e2b\n",
            "Successfully built esda inequality mgwr spglm spint spvcm\n",
            "Installing collected packages: pulp, snuggs, simplejson, rtree, deprecation, affine, rasterio, quantecon, inequality, fiona, rasterstats, mapclassify, libpysal, tobler, spreg, segregation, pointpats, momepy, esda, access, spvcm, spglm, spaghetti, giddy, spopt, splot, spint, mgwr, pysal\n",
            "  Attempting uninstall: fiona\n",
            "    Found existing installation: Fiona 1.9.3\n",
            "    Uninstalling Fiona-1.9.3:\n",
            "      Successfully uninstalled Fiona-1.9.3\n",
            "Successfully installed access-1.1.9 affine-2.4.0 deprecation-2.1.0 esda-2.4.3 fiona-1.8.22 giddy-2.3.4 inequality-1.0.0 libpysal-4.7.0 mapclassify-2.5.0 mgwr-2.1.2 momepy-0.6.0 pointpats-2.3.0 pulp-2.7.0 pysal-23.1 quantecon-0.7.0 rasterio-1.3.6 rasterstats-0.18.0 rtree-1.0.1 segregation-2.4.2 simplejson-3.19.1 snuggs-1.4.7 spaghetti-1.7.2 spglm-1.0.8 spint-1.0.7 splot-1.1.5.post1 spopt-0.5.0 spreg-1.3.2 spvcm-0.3.0 tobler-0.10\n"
          ]
        }
      ],
      "source": [
        "pip install -U pysal"
      ]
    },
    {
      "cell_type": "code",
      "execution_count": null,
      "metadata": {
        "colab": {
          "base_uri": "https://localhost:8080/"
        },
        "id": "AhipmZGn3MQV",
        "outputId": "c4caec8a-12e9-4db4-cf04-122ff488cbb3"
      },
      "outputs": [
        {
          "output_type": "stream",
          "name": "stdout",
          "text": [
            "Looking in indexes: https://pypi.org/simple, https://us-python.pkg.dev/colab-wheels/public/simple/\n",
            "Collecting pykrige\n",
            "  Downloading PyKrige-1.7.0-cp310-cp310-manylinux_2_17_x86_64.manylinux2014_x86_64.whl (852 kB)\n",
            "\u001b[2K     \u001b[90m━━━━━━━━━━━━━━━━━━━━━━━━━━━━━━━━━━━━━━\u001b[0m \u001b[32m852.6/852.6 kB\u001b[0m \u001b[31m31.2 MB/s\u001b[0m eta \u001b[36m0:00:00\u001b[0m\n",
            "\u001b[?25hRequirement already satisfied: numpy<2,>=1.14.5 in /usr/local/lib/python3.10/dist-packages (from pykrige) (1.22.4)\n",
            "Requirement already satisfied: scipy<2,>=1.1.0 in /usr/local/lib/python3.10/dist-packages (from pykrige) (1.10.1)\n",
            "Installing collected packages: pykrige\n",
            "Successfully installed pykrige-1.7.0\n"
          ]
        }
      ],
      "source": [
        "pip install pykrige"
      ]
    },
    {
      "cell_type": "code",
      "execution_count": null,
      "metadata": {
        "colab": {
          "base_uri": "https://localhost:8080/"
        },
        "id": "hTtocYPmrfus",
        "outputId": "2dbace68-bdb8-44fb-df1f-2bc02721dce2"
      },
      "outputs": [
        {
          "output_type": "stream",
          "name": "stderr",
          "text": [
            "/usr/local/lib/python3.10/dist-packages/spaghetti/network.py:39: FutureWarning: The next major release of pysal/spaghetti (2.0.0) will drop support for all ``libpysal.cg`` geometries. This change is a first step in refactoring ``spaghetti`` that is expected to result in dramatically reduced runtimes for network instantiation and operations. Users currently requiring network and point pattern input as ``libpysal.cg`` geometries should prepare for this simply by converting to ``shapely`` geometries.\n",
            "  warnings.warn(f\"{dep_msg}\", FutureWarning)\n"
          ]
        }
      ],
      "source": [
        "import pandas as pd\n",
        "import requests\n",
        "import json\n",
        "import pysal.lib\n",
        "from pysal.explore import esda\n",
        "import libpysal as lps\n",
        "import geopandas as gpd\n",
        "import numpy as np\n",
        "from scipy.spatial.distance import pdist, squareform\n",
        "from scipy.cluster.hierarchy import linkage, dendrogram\n",
        "import matplotlib.pyplot as plt\n",
        "import os \n",
        "from google.colab import drive\n",
        "import glob\n",
        "from sklearn.cluster import KMeans\n",
        "from sklearn.metrics import silhouette_score\n",
        "from sklearn.model_selection import train_test_split\n",
        "from matplotlib import pyplot as plt\n",
        "from pykrige.ok import OrdinaryKriging"
      ]
    },
    {
      "cell_type": "code",
      "execution_count": null,
      "metadata": {
        "id": "OlptpfFpqUnn"
      },
      "outputs": [],
      "source": [
        "pd.set_option(\"display.float_format\", lambda x: \"%.2f\" % x)\n",
        "pd.set_option('display.max_columns', None)"
      ]
    },
    {
      "cell_type": "code",
      "execution_count": null,
      "metadata": {
        "colab": {
          "base_uri": "https://localhost:8080/"
        },
        "id": "AxsaA1Ajw9Yl",
        "outputId": "3a94045d-0aa7-45b6-a92e-fecc2308dd3a"
      },
      "outputs": [
        {
          "output_type": "stream",
          "name": "stdout",
          "text": [
            "Mounted at /content/gdrive/\n"
          ]
        }
      ],
      "source": [
        "from google.colab import drive\n",
        "drive.mount('/content/gdrive/')"
      ]
    },
    {
      "cell_type": "markdown",
      "metadata": {
        "id": "rgWD5Fyhw_uR"
      },
      "source": [
        "Sales Data "
      ]
    },
    {
      "cell_type": "code",
      "execution_count": null,
      "metadata": {
        "id": "0mmCfaUXrx8S"
      },
      "outputs": [],
      "source": [
        "NYC_OPEN_DATA_API_KEY = '1mdrg3dpip0d9mabvpt69mo0d'\n",
        "endpoint = 'https://data.cityofnewyork.us/resource/usep-8jbt.json?$limit=100000'\n",
        "headers={'ym1kxdEC8e3Xowsi5RyNg9tw5': NYC_OPEN_DATA_API_KEY}\n",
        "result = requests.get(endpoint, headers=headers)\n",
        "data = json.loads(result.content)\n",
        "sales = pd.DataFrame(data)"
      ]
    },
    {
      "cell_type": "code",
      "execution_count": null,
      "metadata": {
        "colab": {
          "base_uri": "https://localhost:8080/"
        },
        "id": "wT48yOLNvJwW",
        "outputId": "ebf57689-f91f-473c-f890-fb3ed5f20166"
      },
      "outputs": [
        {
          "output_type": "execute_result",
          "data": {
            "text/plain": [
              "(97202, 20)"
            ]
          },
          "metadata": {},
          "execution_count": 8
        }
      ],
      "source": [
        "sales.shape"
      ]
    },
    {
      "cell_type": "code",
      "execution_count": null,
      "metadata": {
        "colab": {
          "base_uri": "https://localhost:8080/"
        },
        "id": "fcerfsDLxgfH",
        "outputId": "469ac955-7d5b-4e43-e872-f0e8ac89169a"
      },
      "outputs": [
        {
          "output_type": "execute_result",
          "data": {
            "text/plain": [
              "Index(['borough', 'neighborhood', 'building_class_category',\n",
              "       'tax_class_at_present', 'block', 'lot', 'building_class_at_present',\n",
              "       'address', 'zip_code', 'residential_units', 'commercial_units',\n",
              "       'total_units', 'land_square_feet', 'gross_square_feet', 'year_built',\n",
              "       'tax_class_at_time_of_sale', 'building_class_at_time_of', 'sale_price',\n",
              "       'sale_date', 'apartment_number'],\n",
              "      dtype='object')"
            ]
          },
          "metadata": {},
          "execution_count": 9
        }
      ],
      "source": [
        "sales.columns"
      ]
    },
    {
      "cell_type": "code",
      "execution_count": null,
      "metadata": {
        "colab": {
          "base_uri": "https://localhost:8080/"
        },
        "id": "OWnSACf63F0b",
        "outputId": "ddc5a0a8-0f32-4ddb-ade7-8241269cfb1e"
      },
      "outputs": [
        {
          "output_type": "stream",
          "name": "stdout",
          "text": [
            "Minimum date: 2021-03-01T00:00:00.000\n",
            "Maximum date: 2022-02-28T00:00:00.000\n"
          ]
        }
      ],
      "source": [
        "min_date = sales['sale_date'].min()\n",
        "max_date = sales['sale_date'].max()\n",
        "\n",
        "# Print the results\n",
        "print(\"Minimum date:\", min_date)\n",
        "print(\"Maximum date:\", max_date)"
      ]
    },
    {
      "cell_type": "markdown",
      "metadata": {
        "id": "P4zRVhhv3KoS"
      },
      "source": [
        "Loading different Data source for additional dates: \n"
      ]
    },
    {
      "cell_type": "code",
      "execution_count": null,
      "metadata": {
        "colab": {
          "base_uri": "https://localhost:8080/"
        },
        "id": "HsvKG5Q8Bb8x",
        "outputId": "02641bae-084d-46f6-8a4d-411c1ec185ea"
      },
      "outputs": [
        {
          "output_type": "stream",
          "name": "stdout",
          "text": [
            "(261216, 21)\n"
          ]
        }
      ],
      "source": [
        "\n",
        "def load_excel(filepath):\n",
        "    # Read data from Excel file\n",
        "    xlsx_data = pd.read_excel(filepath)\n",
        "    \n",
        "    # Drop the first 5 rows as headers\n",
        "    xlsx_data.drop(xlsx_data.index[:5], inplace=True)\n",
        "    \n",
        "    # Set the column names to the values in the sixth row\n",
        "    xlsx_data.columns = xlsx_data.iloc[0]\n",
        "    \n",
        "    # Drop the fourth row (assumes it is the redundant column name information)\n",
        "    xlsx_data.drop(xlsx_data.index[0], inplace=True)\n",
        "    \n",
        "    return xlsx_data\n",
        "\n",
        "# Concatenate data from multiple Excel files into a single DataFrame\n",
        "PATH_FOLDER = \"/content/gdrive/MyDrive/Spatial/Sales\"\n",
        "files_list = glob.glob(os.path.join(PATH_FOLDER, \"*.xlsx\"))\n",
        "\n",
        "db = pd.DataFrame()\n",
        "for f in files_list:\n",
        "    df = load_excel(f)\n",
        "    db = pd.concat([db, df])\n",
        "\n",
        "# Print the shape of the DataFrame\n",
        "print(db.shape)\n"
      ]
    },
    {
      "cell_type": "code",
      "execution_count": null,
      "metadata": {
        "colab": {
          "base_uri": "https://localhost:8080/",
          "height": 548
        },
        "id": "OOmq-lRhD-OR",
        "outputId": "5f89bcc3-3484-4356-8804-1bfdf896df0e"
      },
      "outputs": [
        {
          "output_type": "execute_result",
          "data": {
            "text/plain": [
              "5  BOROUGH   NEIGHBORHOOD         BUILDING CLASS CATEGORY  \\\n",
              "6      NaN            NaN                             NaN   \n",
              "7        1  ALPHABET CITY         01 ONE FAMILY DWELLINGS   \n",
              "8        1  ALPHABET CITY         02 TWO FAMILY DWELLINGS   \n",
              "9        1  ALPHABET CITY  07 RENTALS - WALKUP APARTMENTS   \n",
              "10       1  ALPHABET CITY  07 RENTALS - WALKUP APARTMENTS   \n",
              "\n",
              "5  TAX CLASS AT PRESENT BLOCK  LOT EASE-MENT BUILDING CLASS AT PRESENT  \\\n",
              "6                   NaN   NaN  NaN       NaN                       NaN   \n",
              "7                     1   374   46       NaN                        A4   \n",
              "8                     1   377    1       NaN                        S2   \n",
              "9                    2B   373   16       NaN                        C1   \n",
              "10                   2B   373   17       NaN                        C1   \n",
              "\n",
              "5               ADDRESS APARTMENT NUMBER ZIP CODE RESIDENTIAL\\nUNITS  \\\n",
              "6                   NaN              NaN      NaN                NaN   \n",
              "7   347 EAST 4TH STREET              NaN    10009                  1   \n",
              "8          110 AVENUE C              NaN    10009                  2   \n",
              "9   326 EAST 4TH STREET              NaN    10009                 10   \n",
              "10  328 EAST 4TH STREET              NaN    10009                 10   \n",
              "\n",
              "5  COMMERCIAL\\nUNITS TOTAL \\nUNITS LAND \\nSQUARE FEET GROSS \\nSQUARE FEET  \\\n",
              "6                NaN           NaN                NaN                 NaN   \n",
              "7                  0             1               2116                4400   \n",
              "8                  1             3               1502                2790   \n",
              "9                  0            10               2204                8625   \n",
              "10                 0            10               2204                8625   \n",
              "\n",
              "5  YEAR BUILT TAX CLASS AT TIME OF SALE BUILDING CLASS\\nAT TIME OF SALE  \\\n",
              "6         NaN                       NaN                             NaN   \n",
              "7        1900                         1                              A4   \n",
              "8        1901                         1                              S2   \n",
              "9        1899                         2                              C1   \n",
              "10       1900                         2                              C1   \n",
              "\n",
              "5  SALE PRICE            SALE DATE  \n",
              "6         NaN                  NaN  \n",
              "7      399000  2022-09-29 00:00:00  \n",
              "8     2999999  2022-09-15 00:00:00  \n",
              "9    16800000  2022-08-04 00:00:00  \n",
              "10   16800000  2022-08-04 00:00:00  "
            ],
            "text/html": [
              "\n",
              "  <div id=\"df-cdcf4d93-1932-4d7c-b26c-74756ef27c02\">\n",
              "    <div class=\"colab-df-container\">\n",
              "      <div>\n",
              "<style scoped>\n",
              "    .dataframe tbody tr th:only-of-type {\n",
              "        vertical-align: middle;\n",
              "    }\n",
              "\n",
              "    .dataframe tbody tr th {\n",
              "        vertical-align: top;\n",
              "    }\n",
              "\n",
              "    .dataframe thead th {\n",
              "        text-align: right;\n",
              "    }\n",
              "</style>\n",
              "<table border=\"1\" class=\"dataframe\">\n",
              "  <thead>\n",
              "    <tr style=\"text-align: right;\">\n",
              "      <th>5</th>\n",
              "      <th>BOROUGH</th>\n",
              "      <th>NEIGHBORHOOD</th>\n",
              "      <th>BUILDING CLASS CATEGORY</th>\n",
              "      <th>TAX CLASS AT PRESENT</th>\n",
              "      <th>BLOCK</th>\n",
              "      <th>LOT</th>\n",
              "      <th>EASE-MENT</th>\n",
              "      <th>BUILDING CLASS AT PRESENT</th>\n",
              "      <th>ADDRESS</th>\n",
              "      <th>APARTMENT NUMBER</th>\n",
              "      <th>ZIP CODE</th>\n",
              "      <th>RESIDENTIAL\\nUNITS</th>\n",
              "      <th>COMMERCIAL\\nUNITS</th>\n",
              "      <th>TOTAL \\nUNITS</th>\n",
              "      <th>LAND \\nSQUARE FEET</th>\n",
              "      <th>GROSS \\nSQUARE FEET</th>\n",
              "      <th>YEAR BUILT</th>\n",
              "      <th>TAX CLASS AT TIME OF SALE</th>\n",
              "      <th>BUILDING CLASS\\nAT TIME OF SALE</th>\n",
              "      <th>SALE PRICE</th>\n",
              "      <th>SALE DATE</th>\n",
              "    </tr>\n",
              "  </thead>\n",
              "  <tbody>\n",
              "    <tr>\n",
              "      <th>6</th>\n",
              "      <td>NaN</td>\n",
              "      <td>NaN</td>\n",
              "      <td>NaN</td>\n",
              "      <td>NaN</td>\n",
              "      <td>NaN</td>\n",
              "      <td>NaN</td>\n",
              "      <td>NaN</td>\n",
              "      <td>NaN</td>\n",
              "      <td>NaN</td>\n",
              "      <td>NaN</td>\n",
              "      <td>NaN</td>\n",
              "      <td>NaN</td>\n",
              "      <td>NaN</td>\n",
              "      <td>NaN</td>\n",
              "      <td>NaN</td>\n",
              "      <td>NaN</td>\n",
              "      <td>NaN</td>\n",
              "      <td>NaN</td>\n",
              "      <td>NaN</td>\n",
              "      <td>NaN</td>\n",
              "      <td>NaN</td>\n",
              "    </tr>\n",
              "    <tr>\n",
              "      <th>7</th>\n",
              "      <td>1</td>\n",
              "      <td>ALPHABET CITY</td>\n",
              "      <td>01 ONE FAMILY DWELLINGS</td>\n",
              "      <td>1</td>\n",
              "      <td>374</td>\n",
              "      <td>46</td>\n",
              "      <td>NaN</td>\n",
              "      <td>A4</td>\n",
              "      <td>347 EAST 4TH STREET</td>\n",
              "      <td>NaN</td>\n",
              "      <td>10009</td>\n",
              "      <td>1</td>\n",
              "      <td>0</td>\n",
              "      <td>1</td>\n",
              "      <td>2116</td>\n",
              "      <td>4400</td>\n",
              "      <td>1900</td>\n",
              "      <td>1</td>\n",
              "      <td>A4</td>\n",
              "      <td>399000</td>\n",
              "      <td>2022-09-29 00:00:00</td>\n",
              "    </tr>\n",
              "    <tr>\n",
              "      <th>8</th>\n",
              "      <td>1</td>\n",
              "      <td>ALPHABET CITY</td>\n",
              "      <td>02 TWO FAMILY DWELLINGS</td>\n",
              "      <td>1</td>\n",
              "      <td>377</td>\n",
              "      <td>1</td>\n",
              "      <td>NaN</td>\n",
              "      <td>S2</td>\n",
              "      <td>110 AVENUE C</td>\n",
              "      <td>NaN</td>\n",
              "      <td>10009</td>\n",
              "      <td>2</td>\n",
              "      <td>1</td>\n",
              "      <td>3</td>\n",
              "      <td>1502</td>\n",
              "      <td>2790</td>\n",
              "      <td>1901</td>\n",
              "      <td>1</td>\n",
              "      <td>S2</td>\n",
              "      <td>2999999</td>\n",
              "      <td>2022-09-15 00:00:00</td>\n",
              "    </tr>\n",
              "    <tr>\n",
              "      <th>9</th>\n",
              "      <td>1</td>\n",
              "      <td>ALPHABET CITY</td>\n",
              "      <td>07 RENTALS - WALKUP APARTMENTS</td>\n",
              "      <td>2B</td>\n",
              "      <td>373</td>\n",
              "      <td>16</td>\n",
              "      <td>NaN</td>\n",
              "      <td>C1</td>\n",
              "      <td>326 EAST 4TH STREET</td>\n",
              "      <td>NaN</td>\n",
              "      <td>10009</td>\n",
              "      <td>10</td>\n",
              "      <td>0</td>\n",
              "      <td>10</td>\n",
              "      <td>2204</td>\n",
              "      <td>8625</td>\n",
              "      <td>1899</td>\n",
              "      <td>2</td>\n",
              "      <td>C1</td>\n",
              "      <td>16800000</td>\n",
              "      <td>2022-08-04 00:00:00</td>\n",
              "    </tr>\n",
              "    <tr>\n",
              "      <th>10</th>\n",
              "      <td>1</td>\n",
              "      <td>ALPHABET CITY</td>\n",
              "      <td>07 RENTALS - WALKUP APARTMENTS</td>\n",
              "      <td>2B</td>\n",
              "      <td>373</td>\n",
              "      <td>17</td>\n",
              "      <td>NaN</td>\n",
              "      <td>C1</td>\n",
              "      <td>328 EAST 4TH STREET</td>\n",
              "      <td>NaN</td>\n",
              "      <td>10009</td>\n",
              "      <td>10</td>\n",
              "      <td>0</td>\n",
              "      <td>10</td>\n",
              "      <td>2204</td>\n",
              "      <td>8625</td>\n",
              "      <td>1900</td>\n",
              "      <td>2</td>\n",
              "      <td>C1</td>\n",
              "      <td>16800000</td>\n",
              "      <td>2022-08-04 00:00:00</td>\n",
              "    </tr>\n",
              "  </tbody>\n",
              "</table>\n",
              "</div>\n",
              "      <button class=\"colab-df-convert\" onclick=\"convertToInteractive('df-cdcf4d93-1932-4d7c-b26c-74756ef27c02')\"\n",
              "              title=\"Convert this dataframe to an interactive table.\"\n",
              "              style=\"display:none;\">\n",
              "        \n",
              "  <svg xmlns=\"http://www.w3.org/2000/svg\" height=\"24px\"viewBox=\"0 0 24 24\"\n",
              "       width=\"24px\">\n",
              "    <path d=\"M0 0h24v24H0V0z\" fill=\"none\"/>\n",
              "    <path d=\"M18.56 5.44l.94 2.06.94-2.06 2.06-.94-2.06-.94-.94-2.06-.94 2.06-2.06.94zm-11 1L8.5 8.5l.94-2.06 2.06-.94-2.06-.94L8.5 2.5l-.94 2.06-2.06.94zm10 10l.94 2.06.94-2.06 2.06-.94-2.06-.94-.94-2.06-.94 2.06-2.06.94z\"/><path d=\"M17.41 7.96l-1.37-1.37c-.4-.4-.92-.59-1.43-.59-.52 0-1.04.2-1.43.59L10.3 9.45l-7.72 7.72c-.78.78-.78 2.05 0 2.83L4 21.41c.39.39.9.59 1.41.59.51 0 1.02-.2 1.41-.59l7.78-7.78 2.81-2.81c.8-.78.8-2.07 0-2.86zM5.41 20L4 18.59l7.72-7.72 1.47 1.35L5.41 20z\"/>\n",
              "  </svg>\n",
              "      </button>\n",
              "      \n",
              "  <style>\n",
              "    .colab-df-container {\n",
              "      display:flex;\n",
              "      flex-wrap:wrap;\n",
              "      gap: 12px;\n",
              "    }\n",
              "\n",
              "    .colab-df-convert {\n",
              "      background-color: #E8F0FE;\n",
              "      border: none;\n",
              "      border-radius: 50%;\n",
              "      cursor: pointer;\n",
              "      display: none;\n",
              "      fill: #1967D2;\n",
              "      height: 32px;\n",
              "      padding: 0 0 0 0;\n",
              "      width: 32px;\n",
              "    }\n",
              "\n",
              "    .colab-df-convert:hover {\n",
              "      background-color: #E2EBFA;\n",
              "      box-shadow: 0px 1px 2px rgba(60, 64, 67, 0.3), 0px 1px 3px 1px rgba(60, 64, 67, 0.15);\n",
              "      fill: #174EA6;\n",
              "    }\n",
              "\n",
              "    [theme=dark] .colab-df-convert {\n",
              "      background-color: #3B4455;\n",
              "      fill: #D2E3FC;\n",
              "    }\n",
              "\n",
              "    [theme=dark] .colab-df-convert:hover {\n",
              "      background-color: #434B5C;\n",
              "      box-shadow: 0px 1px 3px 1px rgba(0, 0, 0, 0.15);\n",
              "      filter: drop-shadow(0px 1px 2px rgba(0, 0, 0, 0.3));\n",
              "      fill: #FFFFFF;\n",
              "    }\n",
              "  </style>\n",
              "\n",
              "      <script>\n",
              "        const buttonEl =\n",
              "          document.querySelector('#df-cdcf4d93-1932-4d7c-b26c-74756ef27c02 button.colab-df-convert');\n",
              "        buttonEl.style.display =\n",
              "          google.colab.kernel.accessAllowed ? 'block' : 'none';\n",
              "\n",
              "        async function convertToInteractive(key) {\n",
              "          const element = document.querySelector('#df-cdcf4d93-1932-4d7c-b26c-74756ef27c02');\n",
              "          const dataTable =\n",
              "            await google.colab.kernel.invokeFunction('convertToInteractive',\n",
              "                                                     [key], {});\n",
              "          if (!dataTable) return;\n",
              "\n",
              "          const docLinkHtml = 'Like what you see? Visit the ' +\n",
              "            '<a target=\"_blank\" href=https://colab.research.google.com/notebooks/data_table.ipynb>data table notebook</a>'\n",
              "            + ' to learn more about interactive tables.';\n",
              "          element.innerHTML = '';\n",
              "          dataTable['output_type'] = 'display_data';\n",
              "          await google.colab.output.renderOutput(dataTable, element);\n",
              "          const docLink = document.createElement('div');\n",
              "          docLink.innerHTML = docLinkHtml;\n",
              "          element.appendChild(docLink);\n",
              "        }\n",
              "      </script>\n",
              "    </div>\n",
              "  </div>\n",
              "  "
            ]
          },
          "metadata": {},
          "execution_count": 12
        }
      ],
      "source": [
        "db.head()"
      ]
    },
    {
      "cell_type": "code",
      "execution_count": null,
      "metadata": {
        "id": "DwVGOqJREKLz"
      },
      "outputs": [],
      "source": [
        "sales = db.drop(index = 6)"
      ]
    },
    {
      "cell_type": "code",
      "execution_count": null,
      "metadata": {
        "colab": {
          "base_uri": "https://localhost:8080/"
        },
        "id": "WaVP8y_4xVej",
        "outputId": "ff9ed91c-e80c-42de-a707-4b12a7eafbe5"
      },
      "outputs": [
        {
          "output_type": "execute_result",
          "data": {
            "text/plain": [
              "array(['01 ONE FAMILY DWELLINGS', '02 TWO FAMILY DWELLINGS',\n",
              "       '07 RENTALS - WALKUP APARTMENTS',\n",
              "       '08 RENTALS - ELEVATOR APARTMENTS', '09 COOPS - WALKUP APARTMENTS',\n",
              "       '10 COOPS - ELEVATOR APARTMENTS', '12 CONDOS - WALKUP APARTMENTS',\n",
              "       '13 CONDOS - ELEVATOR APARTMENTS', '14 RENTALS - 4-10 UNIT',\n",
              "       '15 CONDOS - 2-10 UNIT RESIDENTIAL', '17 CONDO COOPS',\n",
              "       '28 COMMERCIAL CONDOS', '29 COMMERCIAL GARAGES', '30 WAREHOUSES',\n",
              "       '46 CONDO STORE BUILDINGS', '03 THREE FAMILY DWELLINGS',\n",
              "       '04 TAX CLASS 1 CONDOS',\n",
              "       '16 CONDOS - 2-10 UNIT WITH COMMERCIAL UNIT',\n",
              "       '21 OFFICE BUILDINGS', '22 STORE BUILDINGS', '25 LUXURY HOTELS',\n",
              "       '26 OTHER HOTELS', '43 CONDO OFFICE BUILDINGS', '44 CONDO PARKING',\n",
              "       '47 CONDO NON-BUSINESS STORAGE',\n",
              "       '48 CONDO TERRACES/GARDENS/CABANAS', '31 COMMERCIAL VACANT LAND',\n",
              "       '37 RELIGIOUS FACILITIES', '11 SPECIAL CONDO BILLING LOTS',\n",
              "       '35 INDOOR PUBLIC AND CULTURAL FACILITIES',\n",
              "       '42 CONDO CULTURAL/MEDICAL/EDUCATIONAL/ETC',\n",
              "       '41 TAX CLASS 4 - OTHER', '45 CONDO HOTELS',\n",
              "       '32 HOSPITAL AND HEALTH FACILITIES', '33 EDUCATIONAL FACILITIES',\n",
              "       '40 SELECTED GOVERNMENTAL FACILITIES', '38 ASYLUMS AND HOMES',\n",
              "       '34 THEATRES', '49 CONDO WAREHOUSES/FACTORY/INDUS', '27 FACTORIES',\n",
              "       '05 TAX CLASS 1 VACANT LAND', '06 TAX CLASS 1 - OTHER',\n",
              "       '36 OUTDOOR RECREATIONAL FACILITIES',\n",
              "       '39 TRANSPORTATION FACILITIES'], dtype=object)"
            ]
          },
          "metadata": {},
          "execution_count": 14
        }
      ],
      "source": [
        "sales['BUILDING CLASS CATEGORY'].unique()"
      ]
    },
    {
      "cell_type": "code",
      "execution_count": null,
      "metadata": {
        "id": "galKFl8-vueV"
      },
      "outputs": [],
      "source": [
        "#filtering only residential properties\n",
        "res_sales = sales[sales['BUILDING CLASS CATEGORY'].isin(['01 ONE FAMILY DWELLINGS', '02 TWO FAMILY DWELLINGS',\n",
        "       '07 RENTALS - WALKUP APARTMENTS',\n",
        "       '08 RENTALS - ELEVATOR APARTMENTS', '09 COOPS - WALKUP APARTMENTS',\n",
        "       '10 COOPS - ELEVATOR APARTMENTS', '12 CONDOS - WALKUP APARTMENTS',\n",
        "       '13 CONDOS - ELEVATOR APARTMENTS', '14 RENTALS - 4-10 UNIT',\n",
        "       '15 CONDOS - 2-10 UNIT RESIDENTIAL', '17 CONDO COOPS',\n",
        "       '28 COMMERCIAL CONDOS','46 CONDO STORE BUILDINGS', '03 THREE FAMILY DWELLINGS',\n",
        "       '04 TAX CLASS 1 CONDOS',\n",
        "       '16 CONDOS - 2-10 UNIT WITH COMMERCIAL UNIT'])]"
      ]
    },
    {
      "cell_type": "code",
      "execution_count": null,
      "metadata": {
        "colab": {
          "base_uri": "https://localhost:8080/"
        },
        "id": "0Bq0lwmrrmt3",
        "outputId": "c8a3f370-602d-4a06-8d7f-3d58a9d28a29"
      },
      "outputs": [
        {
          "output_type": "execute_result",
          "data": {
            "text/plain": [
              "(240640, 21)"
            ]
          },
          "metadata": {},
          "execution_count": 16
        }
      ],
      "source": [
        "res_sales.shape"
      ]
    },
    {
      "cell_type": "code",
      "execution_count": null,
      "metadata": {
        "colab": {
          "base_uri": "https://localhost:8080/",
          "height": 617
        },
        "id": "lr17rmvjytGc",
        "outputId": "ce1c4d1a-1451-4a82-b7c0-ddc94e69e507"
      },
      "outputs": [
        {
          "output_type": "execute_result",
          "data": {
            "text/plain": [
              "5  BOROUGH   NEIGHBORHOOD         BUILDING CLASS CATEGORY  \\\n",
              "7        1  ALPHABET CITY         01 ONE FAMILY DWELLINGS   \n",
              "8        1  ALPHABET CITY         02 TWO FAMILY DWELLINGS   \n",
              "9        1  ALPHABET CITY  07 RENTALS - WALKUP APARTMENTS   \n",
              "10       1  ALPHABET CITY  07 RENTALS - WALKUP APARTMENTS   \n",
              "11       1  ALPHABET CITY  07 RENTALS - WALKUP APARTMENTS   \n",
              "\n",
              "5  TAX CLASS AT PRESENT BLOCK LOT EASE-MENT BUILDING CLASS AT PRESENT  \\\n",
              "7                     1   374  46       NaN                        A4   \n",
              "8                     1   377   1       NaN                        S2   \n",
              "9                    2B   373  16       NaN                        C1   \n",
              "10                   2B   373  17       NaN                        C1   \n",
              "11                    2   376  54       NaN                        C4   \n",
              "\n",
              "5                     ADDRESS APARTMENT NUMBER ZIP CODE RESIDENTIAL\\nUNITS  \\\n",
              "7         347 EAST 4TH STREET              NaN    10009                  1   \n",
              "8                110 AVENUE C              NaN    10009                  2   \n",
              "9         326 EAST 4TH STREET              NaN    10009                 10   \n",
              "10        328 EAST 4TH STREET              NaN    10009                 10   \n",
              "11  719 EAST SIXTH STREET, 1B              NaN    10009                 20   \n",
              "\n",
              "5  COMMERCIAL\\nUNITS TOTAL \\nUNITS LAND \\nSQUARE FEET GROSS \\nSQUARE FEET  \\\n",
              "7                  0             1               2116                4400   \n",
              "8                  1             3               1502                2790   \n",
              "9                  0            10               2204                8625   \n",
              "10                 0            10               2204                8625   \n",
              "11                 0            20               2302                9750   \n",
              "\n",
              "5  YEAR BUILT TAX CLASS AT TIME OF SALE BUILDING CLASS\\nAT TIME OF SALE  \\\n",
              "7        1900                         1                              A4   \n",
              "8        1901                         1                              S2   \n",
              "9        1899                         2                              C1   \n",
              "10       1900                         2                              C1   \n",
              "11       1900                         2                              C4   \n",
              "\n",
              "5  SALE PRICE            SALE DATE  \n",
              "7      399000  2022-09-29 00:00:00  \n",
              "8     2999999  2022-09-15 00:00:00  \n",
              "9    16800000  2022-08-04 00:00:00  \n",
              "10   16800000  2022-08-04 00:00:00  \n",
              "11     158822  2022-09-27 00:00:00  "
            ],
            "text/html": [
              "\n",
              "  <div id=\"df-9f9042aa-01ec-44c5-a46b-7d189e2c526a\">\n",
              "    <div class=\"colab-df-container\">\n",
              "      <div>\n",
              "<style scoped>\n",
              "    .dataframe tbody tr th:only-of-type {\n",
              "        vertical-align: middle;\n",
              "    }\n",
              "\n",
              "    .dataframe tbody tr th {\n",
              "        vertical-align: top;\n",
              "    }\n",
              "\n",
              "    .dataframe thead th {\n",
              "        text-align: right;\n",
              "    }\n",
              "</style>\n",
              "<table border=\"1\" class=\"dataframe\">\n",
              "  <thead>\n",
              "    <tr style=\"text-align: right;\">\n",
              "      <th>5</th>\n",
              "      <th>BOROUGH</th>\n",
              "      <th>NEIGHBORHOOD</th>\n",
              "      <th>BUILDING CLASS CATEGORY</th>\n",
              "      <th>TAX CLASS AT PRESENT</th>\n",
              "      <th>BLOCK</th>\n",
              "      <th>LOT</th>\n",
              "      <th>EASE-MENT</th>\n",
              "      <th>BUILDING CLASS AT PRESENT</th>\n",
              "      <th>ADDRESS</th>\n",
              "      <th>APARTMENT NUMBER</th>\n",
              "      <th>ZIP CODE</th>\n",
              "      <th>RESIDENTIAL\\nUNITS</th>\n",
              "      <th>COMMERCIAL\\nUNITS</th>\n",
              "      <th>TOTAL \\nUNITS</th>\n",
              "      <th>LAND \\nSQUARE FEET</th>\n",
              "      <th>GROSS \\nSQUARE FEET</th>\n",
              "      <th>YEAR BUILT</th>\n",
              "      <th>TAX CLASS AT TIME OF SALE</th>\n",
              "      <th>BUILDING CLASS\\nAT TIME OF SALE</th>\n",
              "      <th>SALE PRICE</th>\n",
              "      <th>SALE DATE</th>\n",
              "    </tr>\n",
              "  </thead>\n",
              "  <tbody>\n",
              "    <tr>\n",
              "      <th>7</th>\n",
              "      <td>1</td>\n",
              "      <td>ALPHABET CITY</td>\n",
              "      <td>01 ONE FAMILY DWELLINGS</td>\n",
              "      <td>1</td>\n",
              "      <td>374</td>\n",
              "      <td>46</td>\n",
              "      <td>NaN</td>\n",
              "      <td>A4</td>\n",
              "      <td>347 EAST 4TH STREET</td>\n",
              "      <td>NaN</td>\n",
              "      <td>10009</td>\n",
              "      <td>1</td>\n",
              "      <td>0</td>\n",
              "      <td>1</td>\n",
              "      <td>2116</td>\n",
              "      <td>4400</td>\n",
              "      <td>1900</td>\n",
              "      <td>1</td>\n",
              "      <td>A4</td>\n",
              "      <td>399000</td>\n",
              "      <td>2022-09-29 00:00:00</td>\n",
              "    </tr>\n",
              "    <tr>\n",
              "      <th>8</th>\n",
              "      <td>1</td>\n",
              "      <td>ALPHABET CITY</td>\n",
              "      <td>02 TWO FAMILY DWELLINGS</td>\n",
              "      <td>1</td>\n",
              "      <td>377</td>\n",
              "      <td>1</td>\n",
              "      <td>NaN</td>\n",
              "      <td>S2</td>\n",
              "      <td>110 AVENUE C</td>\n",
              "      <td>NaN</td>\n",
              "      <td>10009</td>\n",
              "      <td>2</td>\n",
              "      <td>1</td>\n",
              "      <td>3</td>\n",
              "      <td>1502</td>\n",
              "      <td>2790</td>\n",
              "      <td>1901</td>\n",
              "      <td>1</td>\n",
              "      <td>S2</td>\n",
              "      <td>2999999</td>\n",
              "      <td>2022-09-15 00:00:00</td>\n",
              "    </tr>\n",
              "    <tr>\n",
              "      <th>9</th>\n",
              "      <td>1</td>\n",
              "      <td>ALPHABET CITY</td>\n",
              "      <td>07 RENTALS - WALKUP APARTMENTS</td>\n",
              "      <td>2B</td>\n",
              "      <td>373</td>\n",
              "      <td>16</td>\n",
              "      <td>NaN</td>\n",
              "      <td>C1</td>\n",
              "      <td>326 EAST 4TH STREET</td>\n",
              "      <td>NaN</td>\n",
              "      <td>10009</td>\n",
              "      <td>10</td>\n",
              "      <td>0</td>\n",
              "      <td>10</td>\n",
              "      <td>2204</td>\n",
              "      <td>8625</td>\n",
              "      <td>1899</td>\n",
              "      <td>2</td>\n",
              "      <td>C1</td>\n",
              "      <td>16800000</td>\n",
              "      <td>2022-08-04 00:00:00</td>\n",
              "    </tr>\n",
              "    <tr>\n",
              "      <th>10</th>\n",
              "      <td>1</td>\n",
              "      <td>ALPHABET CITY</td>\n",
              "      <td>07 RENTALS - WALKUP APARTMENTS</td>\n",
              "      <td>2B</td>\n",
              "      <td>373</td>\n",
              "      <td>17</td>\n",
              "      <td>NaN</td>\n",
              "      <td>C1</td>\n",
              "      <td>328 EAST 4TH STREET</td>\n",
              "      <td>NaN</td>\n",
              "      <td>10009</td>\n",
              "      <td>10</td>\n",
              "      <td>0</td>\n",
              "      <td>10</td>\n",
              "      <td>2204</td>\n",
              "      <td>8625</td>\n",
              "      <td>1900</td>\n",
              "      <td>2</td>\n",
              "      <td>C1</td>\n",
              "      <td>16800000</td>\n",
              "      <td>2022-08-04 00:00:00</td>\n",
              "    </tr>\n",
              "    <tr>\n",
              "      <th>11</th>\n",
              "      <td>1</td>\n",
              "      <td>ALPHABET CITY</td>\n",
              "      <td>07 RENTALS - WALKUP APARTMENTS</td>\n",
              "      <td>2</td>\n",
              "      <td>376</td>\n",
              "      <td>54</td>\n",
              "      <td>NaN</td>\n",
              "      <td>C4</td>\n",
              "      <td>719 EAST SIXTH STREET, 1B</td>\n",
              "      <td>NaN</td>\n",
              "      <td>10009</td>\n",
              "      <td>20</td>\n",
              "      <td>0</td>\n",
              "      <td>20</td>\n",
              "      <td>2302</td>\n",
              "      <td>9750</td>\n",
              "      <td>1900</td>\n",
              "      <td>2</td>\n",
              "      <td>C4</td>\n",
              "      <td>158822</td>\n",
              "      <td>2022-09-27 00:00:00</td>\n",
              "    </tr>\n",
              "  </tbody>\n",
              "</table>\n",
              "</div>\n",
              "      <button class=\"colab-df-convert\" onclick=\"convertToInteractive('df-9f9042aa-01ec-44c5-a46b-7d189e2c526a')\"\n",
              "              title=\"Convert this dataframe to an interactive table.\"\n",
              "              style=\"display:none;\">\n",
              "        \n",
              "  <svg xmlns=\"http://www.w3.org/2000/svg\" height=\"24px\"viewBox=\"0 0 24 24\"\n",
              "       width=\"24px\">\n",
              "    <path d=\"M0 0h24v24H0V0z\" fill=\"none\"/>\n",
              "    <path d=\"M18.56 5.44l.94 2.06.94-2.06 2.06-.94-2.06-.94-.94-2.06-.94 2.06-2.06.94zm-11 1L8.5 8.5l.94-2.06 2.06-.94-2.06-.94L8.5 2.5l-.94 2.06-2.06.94zm10 10l.94 2.06.94-2.06 2.06-.94-2.06-.94-.94-2.06-.94 2.06-2.06.94z\"/><path d=\"M17.41 7.96l-1.37-1.37c-.4-.4-.92-.59-1.43-.59-.52 0-1.04.2-1.43.59L10.3 9.45l-7.72 7.72c-.78.78-.78 2.05 0 2.83L4 21.41c.39.39.9.59 1.41.59.51 0 1.02-.2 1.41-.59l7.78-7.78 2.81-2.81c.8-.78.8-2.07 0-2.86zM5.41 20L4 18.59l7.72-7.72 1.47 1.35L5.41 20z\"/>\n",
              "  </svg>\n",
              "      </button>\n",
              "      \n",
              "  <style>\n",
              "    .colab-df-container {\n",
              "      display:flex;\n",
              "      flex-wrap:wrap;\n",
              "      gap: 12px;\n",
              "    }\n",
              "\n",
              "    .colab-df-convert {\n",
              "      background-color: #E8F0FE;\n",
              "      border: none;\n",
              "      border-radius: 50%;\n",
              "      cursor: pointer;\n",
              "      display: none;\n",
              "      fill: #1967D2;\n",
              "      height: 32px;\n",
              "      padding: 0 0 0 0;\n",
              "      width: 32px;\n",
              "    }\n",
              "\n",
              "    .colab-df-convert:hover {\n",
              "      background-color: #E2EBFA;\n",
              "      box-shadow: 0px 1px 2px rgba(60, 64, 67, 0.3), 0px 1px 3px 1px rgba(60, 64, 67, 0.15);\n",
              "      fill: #174EA6;\n",
              "    }\n",
              "\n",
              "    [theme=dark] .colab-df-convert {\n",
              "      background-color: #3B4455;\n",
              "      fill: #D2E3FC;\n",
              "    }\n",
              "\n",
              "    [theme=dark] .colab-df-convert:hover {\n",
              "      background-color: #434B5C;\n",
              "      box-shadow: 0px 1px 3px 1px rgba(0, 0, 0, 0.15);\n",
              "      filter: drop-shadow(0px 1px 2px rgba(0, 0, 0, 0.3));\n",
              "      fill: #FFFFFF;\n",
              "    }\n",
              "  </style>\n",
              "\n",
              "      <script>\n",
              "        const buttonEl =\n",
              "          document.querySelector('#df-9f9042aa-01ec-44c5-a46b-7d189e2c526a button.colab-df-convert');\n",
              "        buttonEl.style.display =\n",
              "          google.colab.kernel.accessAllowed ? 'block' : 'none';\n",
              "\n",
              "        async function convertToInteractive(key) {\n",
              "          const element = document.querySelector('#df-9f9042aa-01ec-44c5-a46b-7d189e2c526a');\n",
              "          const dataTable =\n",
              "            await google.colab.kernel.invokeFunction('convertToInteractive',\n",
              "                                                     [key], {});\n",
              "          if (!dataTable) return;\n",
              "\n",
              "          const docLinkHtml = 'Like what you see? Visit the ' +\n",
              "            '<a target=\"_blank\" href=https://colab.research.google.com/notebooks/data_table.ipynb>data table notebook</a>'\n",
              "            + ' to learn more about interactive tables.';\n",
              "          element.innerHTML = '';\n",
              "          dataTable['output_type'] = 'display_data';\n",
              "          await google.colab.output.renderOutput(dataTable, element);\n",
              "          const docLink = document.createElement('div');\n",
              "          docLink.innerHTML = docLinkHtml;\n",
              "          element.appendChild(docLink);\n",
              "        }\n",
              "      </script>\n",
              "    </div>\n",
              "  </div>\n",
              "  "
            ]
          },
          "metadata": {},
          "execution_count": 17
        }
      ],
      "source": [
        "res_sales.head()"
      ]
    },
    {
      "cell_type": "code",
      "execution_count": null,
      "metadata": {
        "colab": {
          "base_uri": "https://localhost:8080/"
        },
        "id": "5o35CYj4xr4V",
        "outputId": "f3d93e4d-6e8e-4726-cce2-ded152aee55f"
      },
      "outputs": [
        {
          "output_type": "stream",
          "name": "stderr",
          "text": [
            "<ipython-input-18-6aa54879bfdc>:1: SettingWithCopyWarning: \n",
            "A value is trying to be set on a copy of a slice from a DataFrame.\n",
            "Try using .loc[row_indexer,col_indexer] = value instead\n",
            "\n",
            "See the caveats in the documentation: https://pandas.pydata.org/pandas-docs/stable/user_guide/indexing.html#returning-a-view-versus-a-copy\n",
            "  res_sales[['STREET', 'APTNO']] = res_sales['ADDRESS'].str.rsplit(',', n=1, expand=True)\n",
            "<ipython-input-18-6aa54879bfdc>:1: SettingWithCopyWarning: \n",
            "A value is trying to be set on a copy of a slice from a DataFrame.\n",
            "Try using .loc[row_indexer,col_indexer] = value instead\n",
            "\n",
            "See the caveats in the documentation: https://pandas.pydata.org/pandas-docs/stable/user_guide/indexing.html#returning-a-view-versus-a-copy\n",
            "  res_sales[['STREET', 'APTNO']] = res_sales['ADDRESS'].str.rsplit(',', n=1, expand=True)\n"
          ]
        }
      ],
      "source": [
        "res_sales[['STREET', 'APTNO']] = res_sales['ADDRESS'].str.rsplit(',', n=1, expand=True)\n",
        "res_sales = res_sales.drop('ADDRESS', axis=1)"
      ]
    },
    {
      "cell_type": "code",
      "execution_count": null,
      "metadata": {
        "colab": {
          "base_uri": "https://localhost:8080/"
        },
        "id": "E6MGHclzzDJa",
        "outputId": "c16d79a2-3776-4f75-c92a-c5082622c7f8"
      },
      "outputs": [
        {
          "output_type": "execute_result",
          "data": {
            "text/plain": [
              "Index(['BOROUGH', 'NEIGHBORHOOD', 'BUILDING CLASS CATEGORY',\n",
              "       'TAX CLASS AT PRESENT', 'BLOCK', 'LOT', 'EASE-MENT',\n",
              "       'BUILDING CLASS AT PRESENT', 'APARTMENT NUMBER', 'ZIP CODE',\n",
              "       'RESIDENTIAL\\nUNITS', 'COMMERCIAL\\nUNITS', 'TOTAL \\nUNITS',\n",
              "       'LAND \\nSQUARE FEET', 'GROSS \\nSQUARE FEET', 'YEAR BUILT',\n",
              "       'TAX CLASS AT TIME OF SALE', 'BUILDING CLASS\\nAT TIME OF SALE',\n",
              "       'SALE PRICE', 'SALE DATE', 'STREET', 'APTNO'],\n",
              "      dtype='object', name=5)"
            ]
          },
          "metadata": {},
          "execution_count": 19
        }
      ],
      "source": [
        "res_sales.columns"
      ]
    },
    {
      "cell_type": "code",
      "execution_count": null,
      "metadata": {
        "colab": {
          "base_uri": "https://localhost:8080/"
        },
        "id": "eS35PaTTE8Eb",
        "outputId": "62db8563-fee2-4fa7-8111-ec8f4314333c"
      },
      "outputs": [
        {
          "output_type": "execute_result",
          "data": {
            "text/plain": [
              "5\n",
              "BOROUGH                            object\n",
              "NEIGHBORHOOD                       object\n",
              "BUILDING CLASS CATEGORY            object\n",
              "TAX CLASS AT PRESENT               object\n",
              "BLOCK                              object\n",
              "LOT                                object\n",
              "EASE-MENT                          object\n",
              "BUILDING CLASS AT PRESENT          object\n",
              "APARTMENT NUMBER                   object\n",
              "ZIP CODE                           object\n",
              "RESIDENTIAL\\nUNITS                 object\n",
              "COMMERCIAL\\nUNITS                  object\n",
              "TOTAL \\nUNITS                      object\n",
              "LAND \\nSQUARE FEET                 object\n",
              "GROSS \\nSQUARE FEET                object\n",
              "YEAR BUILT                         object\n",
              "TAX CLASS AT TIME OF SALE          object\n",
              "BUILDING CLASS\\nAT TIME OF SALE    object\n",
              "SALE PRICE                         object\n",
              "SALE DATE                          object\n",
              "STREET                             object\n",
              "APTNO                              object\n",
              "dtype: object"
            ]
          },
          "metadata": {},
          "execution_count": 20
        }
      ],
      "source": [
        "res_sales.dtypes"
      ]
    },
    {
      "cell_type": "code",
      "execution_count": null,
      "metadata": {
        "id": "d4PM4x2y0Hk3"
      },
      "outputs": [],
      "source": [
        "res_sales['bbl'] = res_sales['BOROUGH'].astype(str) + res_sales['BLOCK'].astype(str).str.zfill(5) + res_sales['LOT'].astype(str).str.zfill(4)\n"
      ]
    },
    {
      "cell_type": "markdown",
      "metadata": {
        "id": "x--60zgN8bfS"
      },
      "source": [
        "checking apartment number columns"
      ]
    },
    {
      "cell_type": "code",
      "execution_count": null,
      "metadata": {
        "colab": {
          "base_uri": "https://localhost:8080/"
        },
        "id": "70hDg3O25wzn",
        "outputId": "42336c58-6d90-44c1-aedb-94fca1810975"
      },
      "outputs": [
        {
          "output_type": "execute_result",
          "data": {
            "text/plain": [
              "(7464,)"
            ]
          },
          "metadata": {},
          "execution_count": 22
        }
      ],
      "source": [
        "apartment_number_counts = res_sales['APARTMENT NUMBER'].value_counts()\n",
        "apartment_number_counts.shape\n"
      ]
    },
    {
      "cell_type": "code",
      "execution_count": null,
      "metadata": {
        "colab": {
          "base_uri": "https://localhost:8080/"
        },
        "id": "Rk7egDAx8UEN",
        "outputId": "b376d42e-5261-43c7-c7b4-13a287d784f6"
      },
      "outputs": [
        {
          "output_type": "execute_result",
          "data": {
            "text/plain": [
              "(12764,)"
            ]
          },
          "metadata": {},
          "execution_count": 23
        }
      ],
      "source": [
        "aptno_counts = res_sales['APTNO'].value_counts()\n",
        "aptno_counts.shape"
      ]
    },
    {
      "cell_type": "code",
      "execution_count": null,
      "metadata": {
        "colab": {
          "base_uri": "https://localhost:8080/"
        },
        "id": "5omnS9QZANbu",
        "outputId": "f6929d5b-8cf3-4d28-d1d1-82d20a2ae6e9"
      },
      "outputs": [
        {
          "output_type": "execute_result",
          "data": {
            "text/plain": [
              "(12826,)"
            ]
          },
          "metadata": {},
          "execution_count": 24
        }
      ],
      "source": [
        "res_sales['APTNO'] = res_sales['APTNO'].fillna(res_sales['APARTMENT NUMBER'])\n",
        "aptno_counts = res_sales['APTNO'].value_counts()\n",
        "aptno_counts.shape"
      ]
    },
    {
      "cell_type": "code",
      "execution_count": null,
      "metadata": {
        "id": "eGMRxRmgFVpG"
      },
      "outputs": [],
      "source": [
        "res_sales = res_sales[['bbl', 'BUILDING CLASS CATEGORY',\n",
        "       'RESIDENTIAL\\nUNITS', 'YEAR BUILT',\n",
        "       'SALE PRICE', 'APTNO']]"
      ]
    },
    {
      "cell_type": "code",
      "execution_count": null,
      "metadata": {
        "colab": {
          "base_uri": "https://localhost:8080/",
          "height": 206
        },
        "id": "3GCag5nb8vEr",
        "outputId": "3f344d4a-2608-4a00-9aa7-45f44b1f79c7"
      },
      "outputs": [
        {
          "output_type": "execute_result",
          "data": {
            "text/plain": [
              "5          bbl         BUILDING CLASS CATEGORY RESIDENTIAL\\nUNITS YEAR BUILT  \\\n",
              "7   1003740046         01 ONE FAMILY DWELLINGS                  1       1900   \n",
              "8   1003770001         02 TWO FAMILY DWELLINGS                  2       1901   \n",
              "9   1003730016  07 RENTALS - WALKUP APARTMENTS                 10       1899   \n",
              "10  1003730017  07 RENTALS - WALKUP APARTMENTS                 10       1900   \n",
              "11  1003760054  07 RENTALS - WALKUP APARTMENTS                 20       1900   \n",
              "\n",
              "5  SALE PRICE APTNO  \n",
              "7      399000   NaN  \n",
              "8     2999999   NaN  \n",
              "9    16800000   NaN  \n",
              "10   16800000   NaN  \n",
              "11     158822    1B  "
            ],
            "text/html": [
              "\n",
              "  <div id=\"df-a81b1fff-4d8a-40eb-a772-966fcaf4a195\">\n",
              "    <div class=\"colab-df-container\">\n",
              "      <div>\n",
              "<style scoped>\n",
              "    .dataframe tbody tr th:only-of-type {\n",
              "        vertical-align: middle;\n",
              "    }\n",
              "\n",
              "    .dataframe tbody tr th {\n",
              "        vertical-align: top;\n",
              "    }\n",
              "\n",
              "    .dataframe thead th {\n",
              "        text-align: right;\n",
              "    }\n",
              "</style>\n",
              "<table border=\"1\" class=\"dataframe\">\n",
              "  <thead>\n",
              "    <tr style=\"text-align: right;\">\n",
              "      <th>5</th>\n",
              "      <th>bbl</th>\n",
              "      <th>BUILDING CLASS CATEGORY</th>\n",
              "      <th>RESIDENTIAL\\nUNITS</th>\n",
              "      <th>YEAR BUILT</th>\n",
              "      <th>SALE PRICE</th>\n",
              "      <th>APTNO</th>\n",
              "    </tr>\n",
              "  </thead>\n",
              "  <tbody>\n",
              "    <tr>\n",
              "      <th>7</th>\n",
              "      <td>1003740046</td>\n",
              "      <td>01 ONE FAMILY DWELLINGS</td>\n",
              "      <td>1</td>\n",
              "      <td>1900</td>\n",
              "      <td>399000</td>\n",
              "      <td>NaN</td>\n",
              "    </tr>\n",
              "    <tr>\n",
              "      <th>8</th>\n",
              "      <td>1003770001</td>\n",
              "      <td>02 TWO FAMILY DWELLINGS</td>\n",
              "      <td>2</td>\n",
              "      <td>1901</td>\n",
              "      <td>2999999</td>\n",
              "      <td>NaN</td>\n",
              "    </tr>\n",
              "    <tr>\n",
              "      <th>9</th>\n",
              "      <td>1003730016</td>\n",
              "      <td>07 RENTALS - WALKUP APARTMENTS</td>\n",
              "      <td>10</td>\n",
              "      <td>1899</td>\n",
              "      <td>16800000</td>\n",
              "      <td>NaN</td>\n",
              "    </tr>\n",
              "    <tr>\n",
              "      <th>10</th>\n",
              "      <td>1003730017</td>\n",
              "      <td>07 RENTALS - WALKUP APARTMENTS</td>\n",
              "      <td>10</td>\n",
              "      <td>1900</td>\n",
              "      <td>16800000</td>\n",
              "      <td>NaN</td>\n",
              "    </tr>\n",
              "    <tr>\n",
              "      <th>11</th>\n",
              "      <td>1003760054</td>\n",
              "      <td>07 RENTALS - WALKUP APARTMENTS</td>\n",
              "      <td>20</td>\n",
              "      <td>1900</td>\n",
              "      <td>158822</td>\n",
              "      <td>1B</td>\n",
              "    </tr>\n",
              "  </tbody>\n",
              "</table>\n",
              "</div>\n",
              "      <button class=\"colab-df-convert\" onclick=\"convertToInteractive('df-a81b1fff-4d8a-40eb-a772-966fcaf4a195')\"\n",
              "              title=\"Convert this dataframe to an interactive table.\"\n",
              "              style=\"display:none;\">\n",
              "        \n",
              "  <svg xmlns=\"http://www.w3.org/2000/svg\" height=\"24px\"viewBox=\"0 0 24 24\"\n",
              "       width=\"24px\">\n",
              "    <path d=\"M0 0h24v24H0V0z\" fill=\"none\"/>\n",
              "    <path d=\"M18.56 5.44l.94 2.06.94-2.06 2.06-.94-2.06-.94-.94-2.06-.94 2.06-2.06.94zm-11 1L8.5 8.5l.94-2.06 2.06-.94-2.06-.94L8.5 2.5l-.94 2.06-2.06.94zm10 10l.94 2.06.94-2.06 2.06-.94-2.06-.94-.94-2.06-.94 2.06-2.06.94z\"/><path d=\"M17.41 7.96l-1.37-1.37c-.4-.4-.92-.59-1.43-.59-.52 0-1.04.2-1.43.59L10.3 9.45l-7.72 7.72c-.78.78-.78 2.05 0 2.83L4 21.41c.39.39.9.59 1.41.59.51 0 1.02-.2 1.41-.59l7.78-7.78 2.81-2.81c.8-.78.8-2.07 0-2.86zM5.41 20L4 18.59l7.72-7.72 1.47 1.35L5.41 20z\"/>\n",
              "  </svg>\n",
              "      </button>\n",
              "      \n",
              "  <style>\n",
              "    .colab-df-container {\n",
              "      display:flex;\n",
              "      flex-wrap:wrap;\n",
              "      gap: 12px;\n",
              "    }\n",
              "\n",
              "    .colab-df-convert {\n",
              "      background-color: #E8F0FE;\n",
              "      border: none;\n",
              "      border-radius: 50%;\n",
              "      cursor: pointer;\n",
              "      display: none;\n",
              "      fill: #1967D2;\n",
              "      height: 32px;\n",
              "      padding: 0 0 0 0;\n",
              "      width: 32px;\n",
              "    }\n",
              "\n",
              "    .colab-df-convert:hover {\n",
              "      background-color: #E2EBFA;\n",
              "      box-shadow: 0px 1px 2px rgba(60, 64, 67, 0.3), 0px 1px 3px 1px rgba(60, 64, 67, 0.15);\n",
              "      fill: #174EA6;\n",
              "    }\n",
              "\n",
              "    [theme=dark] .colab-df-convert {\n",
              "      background-color: #3B4455;\n",
              "      fill: #D2E3FC;\n",
              "    }\n",
              "\n",
              "    [theme=dark] .colab-df-convert:hover {\n",
              "      background-color: #434B5C;\n",
              "      box-shadow: 0px 1px 3px 1px rgba(0, 0, 0, 0.15);\n",
              "      filter: drop-shadow(0px 1px 2px rgba(0, 0, 0, 0.3));\n",
              "      fill: #FFFFFF;\n",
              "    }\n",
              "  </style>\n",
              "\n",
              "      <script>\n",
              "        const buttonEl =\n",
              "          document.querySelector('#df-a81b1fff-4d8a-40eb-a772-966fcaf4a195 button.colab-df-convert');\n",
              "        buttonEl.style.display =\n",
              "          google.colab.kernel.accessAllowed ? 'block' : 'none';\n",
              "\n",
              "        async function convertToInteractive(key) {\n",
              "          const element = document.querySelector('#df-a81b1fff-4d8a-40eb-a772-966fcaf4a195');\n",
              "          const dataTable =\n",
              "            await google.colab.kernel.invokeFunction('convertToInteractive',\n",
              "                                                     [key], {});\n",
              "          if (!dataTable) return;\n",
              "\n",
              "          const docLinkHtml = 'Like what you see? Visit the ' +\n",
              "            '<a target=\"_blank\" href=https://colab.research.google.com/notebooks/data_table.ipynb>data table notebook</a>'\n",
              "            + ' to learn more about interactive tables.';\n",
              "          element.innerHTML = '';\n",
              "          dataTable['output_type'] = 'display_data';\n",
              "          await google.colab.output.renderOutput(dataTable, element);\n",
              "          const docLink = document.createElement('div');\n",
              "          docLink.innerHTML = docLinkHtml;\n",
              "          element.appendChild(docLink);\n",
              "        }\n",
              "      </script>\n",
              "    </div>\n",
              "  </div>\n",
              "  "
            ]
          },
          "metadata": {},
          "execution_count": 26
        }
      ],
      "source": [
        "res_sales.head()"
      ]
    },
    {
      "cell_type": "code",
      "execution_count": null,
      "metadata": {
        "colab": {
          "base_uri": "https://localhost:8080/"
        },
        "id": "I00vJ43-EieK",
        "outputId": "7dbcc029-906e-4871-e4fe-4046df04c3e5"
      },
      "outputs": [
        {
          "output_type": "stream",
          "name": "stdout",
          "text": [
            "64831\n"
          ]
        }
      ],
      "source": [
        "duplicates = res_sales.duplicated('bbl').sum()\n",
        "\n",
        "print(duplicates)"
      ]
    },
    {
      "cell_type": "code",
      "execution_count": null,
      "metadata": {
        "colab": {
          "base_uri": "https://localhost:8080/"
        },
        "id": "77mCSHTBEzM3",
        "outputId": "2b22b665-fb73-4ef6-ed16-ba0ffb98a0fb"
      },
      "outputs": [
        {
          "output_type": "execute_result",
          "data": {
            "text/plain": [
              "(240640, 6)"
            ]
          },
          "metadata": {},
          "execution_count": 28
        }
      ],
      "source": [
        "res_sales.shape"
      ]
    },
    {
      "cell_type": "code",
      "execution_count": null,
      "metadata": {
        "id": "p0OGWgPaGqc7",
        "colab": {
          "base_uri": "https://localhost:8080/"
        },
        "outputId": "b647782d-5176-4707-9615-ea7882103204"
      },
      "outputs": [
        {
          "output_type": "stream",
          "name": "stderr",
          "text": [
            "<ipython-input-29-37b8b7c8796d>:1: SettingWithCopyWarning: \n",
            "A value is trying to be set on a copy of a slice from a DataFrame.\n",
            "Try using .loc[row_indexer,col_indexer] = value instead\n",
            "\n",
            "See the caveats in the documentation: https://pandas.pydata.org/pandas-docs/stable/user_guide/indexing.html#returning-a-view-versus-a-copy\n",
            "  res_sales['SALE PRICE'] = res_sales['SALE PRICE'].astype(float)\n"
          ]
        }
      ],
      "source": [
        "res_sales['SALE PRICE'] = res_sales['SALE PRICE'].astype(float)\n",
        "res_sales = res_sales.loc[res_sales['SALE PRICE'] > 0]"
      ]
    },
    {
      "cell_type": "code",
      "execution_count": null,
      "metadata": {
        "colab": {
          "base_uri": "https://localhost:8080/"
        },
        "id": "0x4CUyH4-u0o",
        "outputId": "92ef11a7-f5a3-4f98-e7ac-ba342fdaafb1"
      },
      "outputs": [
        {
          "output_type": "execute_result",
          "data": {
            "text/plain": [
              "(170552, 6)"
            ]
          },
          "metadata": {},
          "execution_count": 30
        }
      ],
      "source": [
        "res_sales.shape"
      ]
    },
    {
      "cell_type": "code",
      "execution_count": null,
      "metadata": {
        "colab": {
          "base_uri": "https://localhost:8080/",
          "height": 300
        },
        "id": "91jeDzwa_9Kh",
        "outputId": "4c200810-0d43-4fa5-fb56-51e41b4dcd53"
      },
      "outputs": [
        {
          "output_type": "execute_result",
          "data": {
            "text/plain": [
              "5       SALE PRICE\n",
              "count    170552.00\n",
              "mean    1644777.48\n",
              "std     7013521.81\n",
              "min           1.00\n",
              "25%      490000.00\n",
              "50%      760000.00\n",
              "75%     1260000.00\n",
              "max   837000000.00"
            ],
            "text/html": [
              "\n",
              "  <div id=\"df-81487237-5ad3-497a-bfec-d699dff22a75\">\n",
              "    <div class=\"colab-df-container\">\n",
              "      <div>\n",
              "<style scoped>\n",
              "    .dataframe tbody tr th:only-of-type {\n",
              "        vertical-align: middle;\n",
              "    }\n",
              "\n",
              "    .dataframe tbody tr th {\n",
              "        vertical-align: top;\n",
              "    }\n",
              "\n",
              "    .dataframe thead th {\n",
              "        text-align: right;\n",
              "    }\n",
              "</style>\n",
              "<table border=\"1\" class=\"dataframe\">\n",
              "  <thead>\n",
              "    <tr style=\"text-align: right;\">\n",
              "      <th>5</th>\n",
              "      <th>SALE PRICE</th>\n",
              "    </tr>\n",
              "  </thead>\n",
              "  <tbody>\n",
              "    <tr>\n",
              "      <th>count</th>\n",
              "      <td>170552.00</td>\n",
              "    </tr>\n",
              "    <tr>\n",
              "      <th>mean</th>\n",
              "      <td>1644777.48</td>\n",
              "    </tr>\n",
              "    <tr>\n",
              "      <th>std</th>\n",
              "      <td>7013521.81</td>\n",
              "    </tr>\n",
              "    <tr>\n",
              "      <th>min</th>\n",
              "      <td>1.00</td>\n",
              "    </tr>\n",
              "    <tr>\n",
              "      <th>25%</th>\n",
              "      <td>490000.00</td>\n",
              "    </tr>\n",
              "    <tr>\n",
              "      <th>50%</th>\n",
              "      <td>760000.00</td>\n",
              "    </tr>\n",
              "    <tr>\n",
              "      <th>75%</th>\n",
              "      <td>1260000.00</td>\n",
              "    </tr>\n",
              "    <tr>\n",
              "      <th>max</th>\n",
              "      <td>837000000.00</td>\n",
              "    </tr>\n",
              "  </tbody>\n",
              "</table>\n",
              "</div>\n",
              "      <button class=\"colab-df-convert\" onclick=\"convertToInteractive('df-81487237-5ad3-497a-bfec-d699dff22a75')\"\n",
              "              title=\"Convert this dataframe to an interactive table.\"\n",
              "              style=\"display:none;\">\n",
              "        \n",
              "  <svg xmlns=\"http://www.w3.org/2000/svg\" height=\"24px\"viewBox=\"0 0 24 24\"\n",
              "       width=\"24px\">\n",
              "    <path d=\"M0 0h24v24H0V0z\" fill=\"none\"/>\n",
              "    <path d=\"M18.56 5.44l.94 2.06.94-2.06 2.06-.94-2.06-.94-.94-2.06-.94 2.06-2.06.94zm-11 1L8.5 8.5l.94-2.06 2.06-.94-2.06-.94L8.5 2.5l-.94 2.06-2.06.94zm10 10l.94 2.06.94-2.06 2.06-.94-2.06-.94-.94-2.06-.94 2.06-2.06.94z\"/><path d=\"M17.41 7.96l-1.37-1.37c-.4-.4-.92-.59-1.43-.59-.52 0-1.04.2-1.43.59L10.3 9.45l-7.72 7.72c-.78.78-.78 2.05 0 2.83L4 21.41c.39.39.9.59 1.41.59.51 0 1.02-.2 1.41-.59l7.78-7.78 2.81-2.81c.8-.78.8-2.07 0-2.86zM5.41 20L4 18.59l7.72-7.72 1.47 1.35L5.41 20z\"/>\n",
              "  </svg>\n",
              "      </button>\n",
              "      \n",
              "  <style>\n",
              "    .colab-df-container {\n",
              "      display:flex;\n",
              "      flex-wrap:wrap;\n",
              "      gap: 12px;\n",
              "    }\n",
              "\n",
              "    .colab-df-convert {\n",
              "      background-color: #E8F0FE;\n",
              "      border: none;\n",
              "      border-radius: 50%;\n",
              "      cursor: pointer;\n",
              "      display: none;\n",
              "      fill: #1967D2;\n",
              "      height: 32px;\n",
              "      padding: 0 0 0 0;\n",
              "      width: 32px;\n",
              "    }\n",
              "\n",
              "    .colab-df-convert:hover {\n",
              "      background-color: #E2EBFA;\n",
              "      box-shadow: 0px 1px 2px rgba(60, 64, 67, 0.3), 0px 1px 3px 1px rgba(60, 64, 67, 0.15);\n",
              "      fill: #174EA6;\n",
              "    }\n",
              "\n",
              "    [theme=dark] .colab-df-convert {\n",
              "      background-color: #3B4455;\n",
              "      fill: #D2E3FC;\n",
              "    }\n",
              "\n",
              "    [theme=dark] .colab-df-convert:hover {\n",
              "      background-color: #434B5C;\n",
              "      box-shadow: 0px 1px 3px 1px rgba(0, 0, 0, 0.15);\n",
              "      filter: drop-shadow(0px 1px 2px rgba(0, 0, 0, 0.3));\n",
              "      fill: #FFFFFF;\n",
              "    }\n",
              "  </style>\n",
              "\n",
              "      <script>\n",
              "        const buttonEl =\n",
              "          document.querySelector('#df-81487237-5ad3-497a-bfec-d699dff22a75 button.colab-df-convert');\n",
              "        buttonEl.style.display =\n",
              "          google.colab.kernel.accessAllowed ? 'block' : 'none';\n",
              "\n",
              "        async function convertToInteractive(key) {\n",
              "          const element = document.querySelector('#df-81487237-5ad3-497a-bfec-d699dff22a75');\n",
              "          const dataTable =\n",
              "            await google.colab.kernel.invokeFunction('convertToInteractive',\n",
              "                                                     [key], {});\n",
              "          if (!dataTable) return;\n",
              "\n",
              "          const docLinkHtml = 'Like what you see? Visit the ' +\n",
              "            '<a target=\"_blank\" href=https://colab.research.google.com/notebooks/data_table.ipynb>data table notebook</a>'\n",
              "            + ' to learn more about interactive tables.';\n",
              "          element.innerHTML = '';\n",
              "          dataTable['output_type'] = 'display_data';\n",
              "          await google.colab.output.renderOutput(dataTable, element);\n",
              "          const docLink = document.createElement('div');\n",
              "          docLink.innerHTML = docLinkHtml;\n",
              "          element.appendChild(docLink);\n",
              "        }\n",
              "      </script>\n",
              "    </div>\n",
              "  </div>\n",
              "  "
            ]
          },
          "metadata": {},
          "execution_count": 31
        }
      ],
      "source": [
        "res_sales.describe()"
      ]
    },
    {
      "cell_type": "code",
      "execution_count": null,
      "metadata": {
        "colab": {
          "base_uri": "https://localhost:8080/",
          "height": 300
        },
        "id": "7m15HU68BO2f",
        "outputId": "360bd792-1bb8-42da-93c1-de5505a902cc"
      },
      "outputs": [
        {
          "output_type": "execute_result",
          "data": {
            "text/plain": [
              "5       SALE PRICE\n",
              "count    166662.00\n",
              "mean    1683153.45\n",
              "std     7090348.38\n",
              "min       10040.00\n",
              "25%      510000.00\n",
              "50%      775000.00\n",
              "75%     1280000.00\n",
              "max   837000000.00"
            ],
            "text/html": [
              "\n",
              "  <div id=\"df-7b49fe80-9c55-4294-abbc-fcd3115d296b\">\n",
              "    <div class=\"colab-df-container\">\n",
              "      <div>\n",
              "<style scoped>\n",
              "    .dataframe tbody tr th:only-of-type {\n",
              "        vertical-align: middle;\n",
              "    }\n",
              "\n",
              "    .dataframe tbody tr th {\n",
              "        vertical-align: top;\n",
              "    }\n",
              "\n",
              "    .dataframe thead th {\n",
              "        text-align: right;\n",
              "    }\n",
              "</style>\n",
              "<table border=\"1\" class=\"dataframe\">\n",
              "  <thead>\n",
              "    <tr style=\"text-align: right;\">\n",
              "      <th>5</th>\n",
              "      <th>SALE PRICE</th>\n",
              "    </tr>\n",
              "  </thead>\n",
              "  <tbody>\n",
              "    <tr>\n",
              "      <th>count</th>\n",
              "      <td>166662.00</td>\n",
              "    </tr>\n",
              "    <tr>\n",
              "      <th>mean</th>\n",
              "      <td>1683153.45</td>\n",
              "    </tr>\n",
              "    <tr>\n",
              "      <th>std</th>\n",
              "      <td>7090348.38</td>\n",
              "    </tr>\n",
              "    <tr>\n",
              "      <th>min</th>\n",
              "      <td>10040.00</td>\n",
              "    </tr>\n",
              "    <tr>\n",
              "      <th>25%</th>\n",
              "      <td>510000.00</td>\n",
              "    </tr>\n",
              "    <tr>\n",
              "      <th>50%</th>\n",
              "      <td>775000.00</td>\n",
              "    </tr>\n",
              "    <tr>\n",
              "      <th>75%</th>\n",
              "      <td>1280000.00</td>\n",
              "    </tr>\n",
              "    <tr>\n",
              "      <th>max</th>\n",
              "      <td>837000000.00</td>\n",
              "    </tr>\n",
              "  </tbody>\n",
              "</table>\n",
              "</div>\n",
              "      <button class=\"colab-df-convert\" onclick=\"convertToInteractive('df-7b49fe80-9c55-4294-abbc-fcd3115d296b')\"\n",
              "              title=\"Convert this dataframe to an interactive table.\"\n",
              "              style=\"display:none;\">\n",
              "        \n",
              "  <svg xmlns=\"http://www.w3.org/2000/svg\" height=\"24px\"viewBox=\"0 0 24 24\"\n",
              "       width=\"24px\">\n",
              "    <path d=\"M0 0h24v24H0V0z\" fill=\"none\"/>\n",
              "    <path d=\"M18.56 5.44l.94 2.06.94-2.06 2.06-.94-2.06-.94-.94-2.06-.94 2.06-2.06.94zm-11 1L8.5 8.5l.94-2.06 2.06-.94-2.06-.94L8.5 2.5l-.94 2.06-2.06.94zm10 10l.94 2.06.94-2.06 2.06-.94-2.06-.94-.94-2.06-.94 2.06-2.06.94z\"/><path d=\"M17.41 7.96l-1.37-1.37c-.4-.4-.92-.59-1.43-.59-.52 0-1.04.2-1.43.59L10.3 9.45l-7.72 7.72c-.78.78-.78 2.05 0 2.83L4 21.41c.39.39.9.59 1.41.59.51 0 1.02-.2 1.41-.59l7.78-7.78 2.81-2.81c.8-.78.8-2.07 0-2.86zM5.41 20L4 18.59l7.72-7.72 1.47 1.35L5.41 20z\"/>\n",
              "  </svg>\n",
              "      </button>\n",
              "      \n",
              "  <style>\n",
              "    .colab-df-container {\n",
              "      display:flex;\n",
              "      flex-wrap:wrap;\n",
              "      gap: 12px;\n",
              "    }\n",
              "\n",
              "    .colab-df-convert {\n",
              "      background-color: #E8F0FE;\n",
              "      border: none;\n",
              "      border-radius: 50%;\n",
              "      cursor: pointer;\n",
              "      display: none;\n",
              "      fill: #1967D2;\n",
              "      height: 32px;\n",
              "      padding: 0 0 0 0;\n",
              "      width: 32px;\n",
              "    }\n",
              "\n",
              "    .colab-df-convert:hover {\n",
              "      background-color: #E2EBFA;\n",
              "      box-shadow: 0px 1px 2px rgba(60, 64, 67, 0.3), 0px 1px 3px 1px rgba(60, 64, 67, 0.15);\n",
              "      fill: #174EA6;\n",
              "    }\n",
              "\n",
              "    [theme=dark] .colab-df-convert {\n",
              "      background-color: #3B4455;\n",
              "      fill: #D2E3FC;\n",
              "    }\n",
              "\n",
              "    [theme=dark] .colab-df-convert:hover {\n",
              "      background-color: #434B5C;\n",
              "      box-shadow: 0px 1px 3px 1px rgba(0, 0, 0, 0.15);\n",
              "      filter: drop-shadow(0px 1px 2px rgba(0, 0, 0, 0.3));\n",
              "      fill: #FFFFFF;\n",
              "    }\n",
              "  </style>\n",
              "\n",
              "      <script>\n",
              "        const buttonEl =\n",
              "          document.querySelector('#df-7b49fe80-9c55-4294-abbc-fcd3115d296b button.colab-df-convert');\n",
              "        buttonEl.style.display =\n",
              "          google.colab.kernel.accessAllowed ? 'block' : 'none';\n",
              "\n",
              "        async function convertToInteractive(key) {\n",
              "          const element = document.querySelector('#df-7b49fe80-9c55-4294-abbc-fcd3115d296b');\n",
              "          const dataTable =\n",
              "            await google.colab.kernel.invokeFunction('convertToInteractive',\n",
              "                                                     [key], {});\n",
              "          if (!dataTable) return;\n",
              "\n",
              "          const docLinkHtml = 'Like what you see? Visit the ' +\n",
              "            '<a target=\"_blank\" href=https://colab.research.google.com/notebooks/data_table.ipynb>data table notebook</a>'\n",
              "            + ' to learn more about interactive tables.';\n",
              "          element.innerHTML = '';\n",
              "          dataTable['output_type'] = 'display_data';\n",
              "          await google.colab.output.renderOutput(dataTable, element);\n",
              "          const docLink = document.createElement('div');\n",
              "          docLink.innerHTML = docLinkHtml;\n",
              "          element.appendChild(docLink);\n",
              "        }\n",
              "      </script>\n",
              "    </div>\n",
              "  </div>\n",
              "  "
            ]
          },
          "metadata": {},
          "execution_count": 32
        }
      ],
      "source": [
        "res_sales = res_sales.loc[res_sales['SALE PRICE'] > 10000]\n",
        "res_sales.describe()"
      ]
    },
    {
      "cell_type": "code",
      "execution_count": null,
      "metadata": {
        "colab": {
          "base_uri": "https://localhost:8080/"
        },
        "id": "rJ5c-mNn-0jk",
        "outputId": "75d7f0f1-2bf5-4297-9aaa-75a3b7229dcc"
      },
      "outputs": [
        {
          "output_type": "stream",
          "name": "stderr",
          "text": [
            "<ipython-input-33-6e494463f3a3>:1: SettingWithCopyWarning: \n",
            "A value is trying to be set on a copy of a slice from a DataFrame.\n",
            "Try using .loc[row_indexer,col_indexer] = value instead\n",
            "\n",
            "See the caveats in the documentation: https://pandas.pydata.org/pandas-docs/stable/user_guide/indexing.html#returning-a-view-versus-a-copy\n",
            "  res_sales.loc[:, 'bbl'] = res_sales['bbl'].astype(float).astype(int)\n",
            "<ipython-input-33-6e494463f3a3>:1: DeprecationWarning: In a future version, `df.iloc[:, i] = newvals` will attempt to set the values inplace instead of always setting a new array. To retain the old behavior, use either `df[df.columns[i]] = newvals` or, if columns are non-unique, `df.isetitem(i, newvals)`\n",
            "  res_sales.loc[:, 'bbl'] = res_sales['bbl'].astype(float).astype(int)\n"
          ]
        }
      ],
      "source": [
        "res_sales.loc[:, 'bbl'] = res_sales['bbl'].astype(float).astype(int)\n"
      ]
    },
    {
      "cell_type": "markdown",
      "metadata": {
        "id": "6KQ5sDpo1ILs"
      },
      "source": [
        "# BUILDING SALE PRICE"
      ]
    },
    {
      "cell_type": "code",
      "execution_count": null,
      "metadata": {
        "colab": {
          "base_uri": "https://localhost:8080/",
          "height": 206
        },
        "id": "DAT6A5zCkE7V",
        "outputId": "ba2381f3-d2b9-4a32-e735-2d660be943ab"
      },
      "outputs": [
        {
          "output_type": "execute_result",
          "data": {
            "text/plain": [
              "5         bbl   SALE PRICE RESIDENTIAL\\nUNITS\n",
              "0  1000290026   6250000.00                  4\n",
              "1  1000290046  10100000.00                  3\n",
              "2  1000290047  10100000.00                  4\n",
              "3  1000640023   9500000.00                  9\n",
              "4  1000690032 247500000.00                416"
            ],
            "text/html": [
              "\n",
              "  <div id=\"df-5c36f27f-158d-4cfa-a16f-735284bcee63\">\n",
              "    <div class=\"colab-df-container\">\n",
              "      <div>\n",
              "<style scoped>\n",
              "    .dataframe tbody tr th:only-of-type {\n",
              "        vertical-align: middle;\n",
              "    }\n",
              "\n",
              "    .dataframe tbody tr th {\n",
              "        vertical-align: top;\n",
              "    }\n",
              "\n",
              "    .dataframe thead th {\n",
              "        text-align: right;\n",
              "    }\n",
              "</style>\n",
              "<table border=\"1\" class=\"dataframe\">\n",
              "  <thead>\n",
              "    <tr style=\"text-align: right;\">\n",
              "      <th>5</th>\n",
              "      <th>bbl</th>\n",
              "      <th>SALE PRICE</th>\n",
              "      <th>RESIDENTIAL\\nUNITS</th>\n",
              "    </tr>\n",
              "  </thead>\n",
              "  <tbody>\n",
              "    <tr>\n",
              "      <th>0</th>\n",
              "      <td>1000290026</td>\n",
              "      <td>6250000.00</td>\n",
              "      <td>4</td>\n",
              "    </tr>\n",
              "    <tr>\n",
              "      <th>1</th>\n",
              "      <td>1000290046</td>\n",
              "      <td>10100000.00</td>\n",
              "      <td>3</td>\n",
              "    </tr>\n",
              "    <tr>\n",
              "      <th>2</th>\n",
              "      <td>1000290047</td>\n",
              "      <td>10100000.00</td>\n",
              "      <td>4</td>\n",
              "    </tr>\n",
              "    <tr>\n",
              "      <th>3</th>\n",
              "      <td>1000640023</td>\n",
              "      <td>9500000.00</td>\n",
              "      <td>9</td>\n",
              "    </tr>\n",
              "    <tr>\n",
              "      <th>4</th>\n",
              "      <td>1000690032</td>\n",
              "      <td>247500000.00</td>\n",
              "      <td>416</td>\n",
              "    </tr>\n",
              "  </tbody>\n",
              "</table>\n",
              "</div>\n",
              "      <button class=\"colab-df-convert\" onclick=\"convertToInteractive('df-5c36f27f-158d-4cfa-a16f-735284bcee63')\"\n",
              "              title=\"Convert this dataframe to an interactive table.\"\n",
              "              style=\"display:none;\">\n",
              "        \n",
              "  <svg xmlns=\"http://www.w3.org/2000/svg\" height=\"24px\"viewBox=\"0 0 24 24\"\n",
              "       width=\"24px\">\n",
              "    <path d=\"M0 0h24v24H0V0z\" fill=\"none\"/>\n",
              "    <path d=\"M18.56 5.44l.94 2.06.94-2.06 2.06-.94-2.06-.94-.94-2.06-.94 2.06-2.06.94zm-11 1L8.5 8.5l.94-2.06 2.06-.94-2.06-.94L8.5 2.5l-.94 2.06-2.06.94zm10 10l.94 2.06.94-2.06 2.06-.94-2.06-.94-.94-2.06-.94 2.06-2.06.94z\"/><path d=\"M17.41 7.96l-1.37-1.37c-.4-.4-.92-.59-1.43-.59-.52 0-1.04.2-1.43.59L10.3 9.45l-7.72 7.72c-.78.78-.78 2.05 0 2.83L4 21.41c.39.39.9.59 1.41.59.51 0 1.02-.2 1.41-.59l7.78-7.78 2.81-2.81c.8-.78.8-2.07 0-2.86zM5.41 20L4 18.59l7.72-7.72 1.47 1.35L5.41 20z\"/>\n",
              "  </svg>\n",
              "      </button>\n",
              "      \n",
              "  <style>\n",
              "    .colab-df-container {\n",
              "      display:flex;\n",
              "      flex-wrap:wrap;\n",
              "      gap: 12px;\n",
              "    }\n",
              "\n",
              "    .colab-df-convert {\n",
              "      background-color: #E8F0FE;\n",
              "      border: none;\n",
              "      border-radius: 50%;\n",
              "      cursor: pointer;\n",
              "      display: none;\n",
              "      fill: #1967D2;\n",
              "      height: 32px;\n",
              "      padding: 0 0 0 0;\n",
              "      width: 32px;\n",
              "    }\n",
              "\n",
              "    .colab-df-convert:hover {\n",
              "      background-color: #E2EBFA;\n",
              "      box-shadow: 0px 1px 2px rgba(60, 64, 67, 0.3), 0px 1px 3px 1px rgba(60, 64, 67, 0.15);\n",
              "      fill: #174EA6;\n",
              "    }\n",
              "\n",
              "    [theme=dark] .colab-df-convert {\n",
              "      background-color: #3B4455;\n",
              "      fill: #D2E3FC;\n",
              "    }\n",
              "\n",
              "    [theme=dark] .colab-df-convert:hover {\n",
              "      background-color: #434B5C;\n",
              "      box-shadow: 0px 1px 3px 1px rgba(0, 0, 0, 0.15);\n",
              "      filter: drop-shadow(0px 1px 2px rgba(0, 0, 0, 0.3));\n",
              "      fill: #FFFFFF;\n",
              "    }\n",
              "  </style>\n",
              "\n",
              "      <script>\n",
              "        const buttonEl =\n",
              "          document.querySelector('#df-5c36f27f-158d-4cfa-a16f-735284bcee63 button.colab-df-convert');\n",
              "        buttonEl.style.display =\n",
              "          google.colab.kernel.accessAllowed ? 'block' : 'none';\n",
              "\n",
              "        async function convertToInteractive(key) {\n",
              "          const element = document.querySelector('#df-5c36f27f-158d-4cfa-a16f-735284bcee63');\n",
              "          const dataTable =\n",
              "            await google.colab.kernel.invokeFunction('convertToInteractive',\n",
              "                                                     [key], {});\n",
              "          if (!dataTable) return;\n",
              "\n",
              "          const docLinkHtml = 'Like what you see? Visit the ' +\n",
              "            '<a target=\"_blank\" href=https://colab.research.google.com/notebooks/data_table.ipynb>data table notebook</a>'\n",
              "            + ' to learn more about interactive tables.';\n",
              "          element.innerHTML = '';\n",
              "          dataTable['output_type'] = 'display_data';\n",
              "          await google.colab.output.renderOutput(dataTable, element);\n",
              "          const docLink = document.createElement('div');\n",
              "          docLink.innerHTML = docLinkHtml;\n",
              "          element.appendChild(docLink);\n",
              "        }\n",
              "      </script>\n",
              "    </div>\n",
              "  </div>\n",
              "  "
            ]
          },
          "metadata": {},
          "execution_count": 34
        }
      ],
      "source": [
        "#averaging sale prices for duplicate bbls \n",
        "bldg_sales = res_sales[res_sales['APTNO'].isnull()]\n",
        "bldg_sales =bldg_sales.groupby(['bbl']).agg({'SALE PRICE': 'mean', 'RESIDENTIAL\\nUNITS' : 'first'}).reset_index()\n",
        "bldg_sales.head()"
      ]
    },
    {
      "cell_type": "code",
      "execution_count": null,
      "metadata": {
        "id": "W6bxW5sAMvIe"
      },
      "outputs": [],
      "source": [
        "bldg_sales['RESIDENTIAL\\nUNITS'].fillna(value=1, inplace=True)\n",
        "bldg_sales['RESIDENTIAL\\nUNITS'] =bldg_sales['RESIDENTIAL\\nUNITS'].astype(float).astype(int)\n",
        "bldg_sales['RESIDENTIAL\\nUNITS'] = bldg_sales['RESIDENTIAL\\nUNITS'].replace(0, 1)\n",
        "bldg_sales['bldg_price'] = bldg_sales['SALE PRICE']"
      ]
    },
    {
      "cell_type": "code",
      "execution_count": null,
      "metadata": {
        "colab": {
          "base_uri": "https://localhost:8080/"
        },
        "id": "7WRrhDSsmG4h",
        "outputId": "99970a20-b7a1-4fec-fc58-dc629e228844"
      },
      "outputs": [
        {
          "output_type": "execute_result",
          "data": {
            "text/plain": [
              "(70460, 4)"
            ]
          },
          "metadata": {},
          "execution_count": 36
        }
      ],
      "source": [
        "#number of buildings\n",
        "bldg_sales.shape"
      ]
    },
    {
      "cell_type": "markdown",
      "metadata": {
        "id": "0fZk5L3eyvfR"
      },
      "source": [
        "# APARTMENT SALE PRICE"
      ]
    },
    {
      "cell_type": "code",
      "execution_count": null,
      "metadata": {
        "colab": {
          "base_uri": "https://localhost:8080/",
          "height": 206
        },
        "id": "hKTZf3pAleFc",
        "outputId": "828cdda3-8334-42e1-acc9-e6e2bd4108ac"
      },
      "outputs": [
        {
          "output_type": "execute_result",
          "data": {
            "text/plain": [
              "5          bbl RESIDENTIAL\\nUNITS  SALE PRICE APTNO\n",
              "11  1003760054                 20   158822.00    1B\n",
              "14  1003790025                  7  1635000.00     4\n",
              "17  1003900050                 29   235251.00    5W\n",
              "21  1003930037                  8    21919.00    3B\n",
              "29  1004020055                 10   999000.00     4"
            ],
            "text/html": [
              "\n",
              "  <div id=\"df-a3b47030-def7-4f96-9122-873503d38083\">\n",
              "    <div class=\"colab-df-container\">\n",
              "      <div>\n",
              "<style scoped>\n",
              "    .dataframe tbody tr th:only-of-type {\n",
              "        vertical-align: middle;\n",
              "    }\n",
              "\n",
              "    .dataframe tbody tr th {\n",
              "        vertical-align: top;\n",
              "    }\n",
              "\n",
              "    .dataframe thead th {\n",
              "        text-align: right;\n",
              "    }\n",
              "</style>\n",
              "<table border=\"1\" class=\"dataframe\">\n",
              "  <thead>\n",
              "    <tr style=\"text-align: right;\">\n",
              "      <th>5</th>\n",
              "      <th>bbl</th>\n",
              "      <th>RESIDENTIAL\\nUNITS</th>\n",
              "      <th>SALE PRICE</th>\n",
              "      <th>APTNO</th>\n",
              "    </tr>\n",
              "  </thead>\n",
              "  <tbody>\n",
              "    <tr>\n",
              "      <th>11</th>\n",
              "      <td>1003760054</td>\n",
              "      <td>20</td>\n",
              "      <td>158822.00</td>\n",
              "      <td>1B</td>\n",
              "    </tr>\n",
              "    <tr>\n",
              "      <th>14</th>\n",
              "      <td>1003790025</td>\n",
              "      <td>7</td>\n",
              "      <td>1635000.00</td>\n",
              "      <td>4</td>\n",
              "    </tr>\n",
              "    <tr>\n",
              "      <th>17</th>\n",
              "      <td>1003900050</td>\n",
              "      <td>29</td>\n",
              "      <td>235251.00</td>\n",
              "      <td>5W</td>\n",
              "    </tr>\n",
              "    <tr>\n",
              "      <th>21</th>\n",
              "      <td>1003930037</td>\n",
              "      <td>8</td>\n",
              "      <td>21919.00</td>\n",
              "      <td>3B</td>\n",
              "    </tr>\n",
              "    <tr>\n",
              "      <th>29</th>\n",
              "      <td>1004020055</td>\n",
              "      <td>10</td>\n",
              "      <td>999000.00</td>\n",
              "      <td>4</td>\n",
              "    </tr>\n",
              "  </tbody>\n",
              "</table>\n",
              "</div>\n",
              "      <button class=\"colab-df-convert\" onclick=\"convertToInteractive('df-a3b47030-def7-4f96-9122-873503d38083')\"\n",
              "              title=\"Convert this dataframe to an interactive table.\"\n",
              "              style=\"display:none;\">\n",
              "        \n",
              "  <svg xmlns=\"http://www.w3.org/2000/svg\" height=\"24px\"viewBox=\"0 0 24 24\"\n",
              "       width=\"24px\">\n",
              "    <path d=\"M0 0h24v24H0V0z\" fill=\"none\"/>\n",
              "    <path d=\"M18.56 5.44l.94 2.06.94-2.06 2.06-.94-2.06-.94-.94-2.06-.94 2.06-2.06.94zm-11 1L8.5 8.5l.94-2.06 2.06-.94-2.06-.94L8.5 2.5l-.94 2.06-2.06.94zm10 10l.94 2.06.94-2.06 2.06-.94-2.06-.94-.94-2.06-.94 2.06-2.06.94z\"/><path d=\"M17.41 7.96l-1.37-1.37c-.4-.4-.92-.59-1.43-.59-.52 0-1.04.2-1.43.59L10.3 9.45l-7.72 7.72c-.78.78-.78 2.05 0 2.83L4 21.41c.39.39.9.59 1.41.59.51 0 1.02-.2 1.41-.59l7.78-7.78 2.81-2.81c.8-.78.8-2.07 0-2.86zM5.41 20L4 18.59l7.72-7.72 1.47 1.35L5.41 20z\"/>\n",
              "  </svg>\n",
              "      </button>\n",
              "      \n",
              "  <style>\n",
              "    .colab-df-container {\n",
              "      display:flex;\n",
              "      flex-wrap:wrap;\n",
              "      gap: 12px;\n",
              "    }\n",
              "\n",
              "    .colab-df-convert {\n",
              "      background-color: #E8F0FE;\n",
              "      border: none;\n",
              "      border-radius: 50%;\n",
              "      cursor: pointer;\n",
              "      display: none;\n",
              "      fill: #1967D2;\n",
              "      height: 32px;\n",
              "      padding: 0 0 0 0;\n",
              "      width: 32px;\n",
              "    }\n",
              "\n",
              "    .colab-df-convert:hover {\n",
              "      background-color: #E2EBFA;\n",
              "      box-shadow: 0px 1px 2px rgba(60, 64, 67, 0.3), 0px 1px 3px 1px rgba(60, 64, 67, 0.15);\n",
              "      fill: #174EA6;\n",
              "    }\n",
              "\n",
              "    [theme=dark] .colab-df-convert {\n",
              "      background-color: #3B4455;\n",
              "      fill: #D2E3FC;\n",
              "    }\n",
              "\n",
              "    [theme=dark] .colab-df-convert:hover {\n",
              "      background-color: #434B5C;\n",
              "      box-shadow: 0px 1px 3px 1px rgba(0, 0, 0, 0.15);\n",
              "      filter: drop-shadow(0px 1px 2px rgba(0, 0, 0, 0.3));\n",
              "      fill: #FFFFFF;\n",
              "    }\n",
              "  </style>\n",
              "\n",
              "      <script>\n",
              "        const buttonEl =\n",
              "          document.querySelector('#df-a3b47030-def7-4f96-9122-873503d38083 button.colab-df-convert');\n",
              "        buttonEl.style.display =\n",
              "          google.colab.kernel.accessAllowed ? 'block' : 'none';\n",
              "\n",
              "        async function convertToInteractive(key) {\n",
              "          const element = document.querySelector('#df-a3b47030-def7-4f96-9122-873503d38083');\n",
              "          const dataTable =\n",
              "            await google.colab.kernel.invokeFunction('convertToInteractive',\n",
              "                                                     [key], {});\n",
              "          if (!dataTable) return;\n",
              "\n",
              "          const docLinkHtml = 'Like what you see? Visit the ' +\n",
              "            '<a target=\"_blank\" href=https://colab.research.google.com/notebooks/data_table.ipynb>data table notebook</a>'\n",
              "            + ' to learn more about interactive tables.';\n",
              "          element.innerHTML = '';\n",
              "          dataTable['output_type'] = 'display_data';\n",
              "          await google.colab.output.renderOutput(dataTable, element);\n",
              "          const docLink = document.createElement('div');\n",
              "          docLink.innerHTML = docLinkHtml;\n",
              "          element.appendChild(docLink);\n",
              "        }\n",
              "      </script>\n",
              "    </div>\n",
              "  </div>\n",
              "  "
            ]
          },
          "metadata": {},
          "execution_count": 37
        }
      ],
      "source": [
        "apt_sales = res_sales[res_sales['APTNO'].notnull()]\n",
        "apt_sales = apt_sales[['bbl', 'RESIDENTIAL\\nUNITS', 'SALE PRICE', 'APTNO' ]]\n",
        "apt_sales.head()"
      ]
    },
    {
      "cell_type": "code",
      "execution_count": null,
      "metadata": {
        "colab": {
          "base_uri": "https://localhost:8080/"
        },
        "id": "hxKNqY35JciV",
        "outputId": "61fab035-0b24-4adc-eba4-a820fd2c00cb"
      },
      "outputs": [
        {
          "output_type": "execute_result",
          "data": {
            "text/plain": [
              "(92217, 4)"
            ]
          },
          "metadata": {},
          "execution_count": 38
        }
      ],
      "source": [
        "apt_sales.shape"
      ]
    },
    {
      "cell_type": "code",
      "execution_count": null,
      "metadata": {
        "id": "8PGmo3VkyHjG"
      },
      "outputs": [],
      "source": [
        "apt_sales['RESIDENTIAL\\nUNITS'].fillna(value=1, inplace=True)\n",
        "apt_sales['RESIDENTIAL\\nUNITS'] =apt_sales['RESIDENTIAL\\nUNITS'].astype(float).astype(int)\n",
        "apt_sales['RESIDENTIAL\\nUNITS'] = apt_sales['RESIDENTIAL\\nUNITS'].replace(0, 1)"
      ]
    },
    {
      "cell_type": "code",
      "execution_count": null,
      "metadata": {
        "id": "QVDxF3xZahFS"
      },
      "outputs": [],
      "source": [
        "apt_sales =apt_sales.groupby(['bbl']).agg({ 'RESIDENTIAL\\nUNITS' : 'max', 'SALE PRICE': 'mean' }).reset_index()\n",
        "apt_sales['bldg_price'] = apt_sales['SALE PRICE']*apt_sales['RESIDENTIAL\\nUNITS']"
      ]
    },
    {
      "cell_type": "code",
      "execution_count": null,
      "metadata": {
        "colab": {
          "base_uri": "https://localhost:8080/",
          "height": 206
        },
        "id": "hLOuExnETlNU",
        "outputId": "9095d28c-b595-4dd3-e482-4652649ef128"
      },
      "outputs": [
        {
          "output_type": "execute_result",
          "data": {
            "text/plain": [
              "5         bbl  RESIDENTIAL\\nUNITS  SALE PRICE  bldg_price\n",
              "0  1000110014                   1  1398900.00  1398900.00\n",
              "1  1000151105                   1 14771485.00 14771485.00\n",
              "2  1000151106                   1  7868467.50  7868467.50\n",
              "3  1000151107                   1 14771485.00 14771485.00\n",
              "4  1000151109                   1 14771485.00 14771485.00"
            ],
            "text/html": [
              "\n",
              "  <div id=\"df-15df183b-4f8d-4789-a21e-e6ef786ea58d\">\n",
              "    <div class=\"colab-df-container\">\n",
              "      <div>\n",
              "<style scoped>\n",
              "    .dataframe tbody tr th:only-of-type {\n",
              "        vertical-align: middle;\n",
              "    }\n",
              "\n",
              "    .dataframe tbody tr th {\n",
              "        vertical-align: top;\n",
              "    }\n",
              "\n",
              "    .dataframe thead th {\n",
              "        text-align: right;\n",
              "    }\n",
              "</style>\n",
              "<table border=\"1\" class=\"dataframe\">\n",
              "  <thead>\n",
              "    <tr style=\"text-align: right;\">\n",
              "      <th>5</th>\n",
              "      <th>bbl</th>\n",
              "      <th>RESIDENTIAL\\nUNITS</th>\n",
              "      <th>SALE PRICE</th>\n",
              "      <th>bldg_price</th>\n",
              "    </tr>\n",
              "  </thead>\n",
              "  <tbody>\n",
              "    <tr>\n",
              "      <th>0</th>\n",
              "      <td>1000110014</td>\n",
              "      <td>1</td>\n",
              "      <td>1398900.00</td>\n",
              "      <td>1398900.00</td>\n",
              "    </tr>\n",
              "    <tr>\n",
              "      <th>1</th>\n",
              "      <td>1000151105</td>\n",
              "      <td>1</td>\n",
              "      <td>14771485.00</td>\n",
              "      <td>14771485.00</td>\n",
              "    </tr>\n",
              "    <tr>\n",
              "      <th>2</th>\n",
              "      <td>1000151106</td>\n",
              "      <td>1</td>\n",
              "      <td>7868467.50</td>\n",
              "      <td>7868467.50</td>\n",
              "    </tr>\n",
              "    <tr>\n",
              "      <th>3</th>\n",
              "      <td>1000151107</td>\n",
              "      <td>1</td>\n",
              "      <td>14771485.00</td>\n",
              "      <td>14771485.00</td>\n",
              "    </tr>\n",
              "    <tr>\n",
              "      <th>4</th>\n",
              "      <td>1000151109</td>\n",
              "      <td>1</td>\n",
              "      <td>14771485.00</td>\n",
              "      <td>14771485.00</td>\n",
              "    </tr>\n",
              "  </tbody>\n",
              "</table>\n",
              "</div>\n",
              "      <button class=\"colab-df-convert\" onclick=\"convertToInteractive('df-15df183b-4f8d-4789-a21e-e6ef786ea58d')\"\n",
              "              title=\"Convert this dataframe to an interactive table.\"\n",
              "              style=\"display:none;\">\n",
              "        \n",
              "  <svg xmlns=\"http://www.w3.org/2000/svg\" height=\"24px\"viewBox=\"0 0 24 24\"\n",
              "       width=\"24px\">\n",
              "    <path d=\"M0 0h24v24H0V0z\" fill=\"none\"/>\n",
              "    <path d=\"M18.56 5.44l.94 2.06.94-2.06 2.06-.94-2.06-.94-.94-2.06-.94 2.06-2.06.94zm-11 1L8.5 8.5l.94-2.06 2.06-.94-2.06-.94L8.5 2.5l-.94 2.06-2.06.94zm10 10l.94 2.06.94-2.06 2.06-.94-2.06-.94-.94-2.06-.94 2.06-2.06.94z\"/><path d=\"M17.41 7.96l-1.37-1.37c-.4-.4-.92-.59-1.43-.59-.52 0-1.04.2-1.43.59L10.3 9.45l-7.72 7.72c-.78.78-.78 2.05 0 2.83L4 21.41c.39.39.9.59 1.41.59.51 0 1.02-.2 1.41-.59l7.78-7.78 2.81-2.81c.8-.78.8-2.07 0-2.86zM5.41 20L4 18.59l7.72-7.72 1.47 1.35L5.41 20z\"/>\n",
              "  </svg>\n",
              "      </button>\n",
              "      \n",
              "  <style>\n",
              "    .colab-df-container {\n",
              "      display:flex;\n",
              "      flex-wrap:wrap;\n",
              "      gap: 12px;\n",
              "    }\n",
              "\n",
              "    .colab-df-convert {\n",
              "      background-color: #E8F0FE;\n",
              "      border: none;\n",
              "      border-radius: 50%;\n",
              "      cursor: pointer;\n",
              "      display: none;\n",
              "      fill: #1967D2;\n",
              "      height: 32px;\n",
              "      padding: 0 0 0 0;\n",
              "      width: 32px;\n",
              "    }\n",
              "\n",
              "    .colab-df-convert:hover {\n",
              "      background-color: #E2EBFA;\n",
              "      box-shadow: 0px 1px 2px rgba(60, 64, 67, 0.3), 0px 1px 3px 1px rgba(60, 64, 67, 0.15);\n",
              "      fill: #174EA6;\n",
              "    }\n",
              "\n",
              "    [theme=dark] .colab-df-convert {\n",
              "      background-color: #3B4455;\n",
              "      fill: #D2E3FC;\n",
              "    }\n",
              "\n",
              "    [theme=dark] .colab-df-convert:hover {\n",
              "      background-color: #434B5C;\n",
              "      box-shadow: 0px 1px 3px 1px rgba(0, 0, 0, 0.15);\n",
              "      filter: drop-shadow(0px 1px 2px rgba(0, 0, 0, 0.3));\n",
              "      fill: #FFFFFF;\n",
              "    }\n",
              "  </style>\n",
              "\n",
              "      <script>\n",
              "        const buttonEl =\n",
              "          document.querySelector('#df-15df183b-4f8d-4789-a21e-e6ef786ea58d button.colab-df-convert');\n",
              "        buttonEl.style.display =\n",
              "          google.colab.kernel.accessAllowed ? 'block' : 'none';\n",
              "\n",
              "        async function convertToInteractive(key) {\n",
              "          const element = document.querySelector('#df-15df183b-4f8d-4789-a21e-e6ef786ea58d');\n",
              "          const dataTable =\n",
              "            await google.colab.kernel.invokeFunction('convertToInteractive',\n",
              "                                                     [key], {});\n",
              "          if (!dataTable) return;\n",
              "\n",
              "          const docLinkHtml = 'Like what you see? Visit the ' +\n",
              "            '<a target=\"_blank\" href=https://colab.research.google.com/notebooks/data_table.ipynb>data table notebook</a>'\n",
              "            + ' to learn more about interactive tables.';\n",
              "          element.innerHTML = '';\n",
              "          dataTable['output_type'] = 'display_data';\n",
              "          await google.colab.output.renderOutput(dataTable, element);\n",
              "          const docLink = document.createElement('div');\n",
              "          docLink.innerHTML = docLinkHtml;\n",
              "          element.appendChild(docLink);\n",
              "        }\n",
              "      </script>\n",
              "    </div>\n",
              "  </div>\n",
              "  "
            ]
          },
          "metadata": {},
          "execution_count": 41
        }
      ],
      "source": [
        "apt_sales.head()"
      ]
    },
    {
      "cell_type": "code",
      "execution_count": null,
      "metadata": {
        "id": "GonD-2JdT_Io"
      },
      "outputs": [],
      "source": [
        "#concatenate dataframes"
      ]
    },
    {
      "cell_type": "markdown",
      "metadata": {
        "id": "QKpBIdFd0esw"
      },
      "source": [
        "concatenate DFs \n"
      ]
    },
    {
      "cell_type": "code",
      "execution_count": null,
      "metadata": {
        "id": "xSxaSY6nUdy1"
      },
      "outputs": [],
      "source": [
        "all_sales = pd.concat([apt_sales, bldg_sales], axis = 0)"
      ]
    },
    {
      "cell_type": "code",
      "execution_count": null,
      "metadata": {
        "id": "QzIMVSvf0gYP"
      },
      "outputs": [],
      "source": [
        "#for duplicate bbl in apt sales and bldg dataframe, take assumed max\n",
        "all_sales =all_sales.groupby(['bbl']).agg({'bldg_price': 'max'}).reset_index()"
      ]
    },
    {
      "cell_type": "code",
      "execution_count": null,
      "metadata": {
        "id": "IQnQXGJe14we"
      },
      "outputs": [],
      "source": [
        "#remove data outside 3 standard deviations from the mean\n",
        "# calculate z-scores\n",
        "all_sales['z_score'] = (all_sales['bldg_price'] - all_sales['bldg_price'].mean()) / all_sales['bldg_price'].std()\n",
        "# remove outliers\n",
        "all_sales = all_sales[np.abs(all_sales['z_score']) <= 3]\n",
        "\n",
        "# remove z-score column\n",
        "all_sales = all_sales.drop(columns=['z_score'])\n",
        "\n"
      ]
    },
    {
      "cell_type": "markdown",
      "metadata": {
        "id": "b8AT3mfw1iqK"
      },
      "source": [
        "### Pluto"
      ]
    },
    {
      "cell_type": "code",
      "execution_count": null,
      "metadata": {
        "id": "zmhrI9hF1mUs"
      },
      "outputs": [],
      "source": [
        "NYC_OPEN_DATA_API_KEY ='1mdrg3dpip0d9mabvpt69mo0d'\n",
        "endpoint = 'https://data.cityofnewyork.us/resource/64uk-42ks.json?$limit=100000000'\n",
        "headers={'ym1kxdEC8e3Xowsi5RyNg9tw5': NYC_OPEN_DATA_API_KEY}\n",
        "result = requests.get(endpoint, headers=headers)\n",
        "data = json.loads(result.content)\n",
        "pluto = pd.DataFrame(data)"
      ]
    },
    {
      "cell_type": "code",
      "execution_count": null,
      "metadata": {
        "colab": {
          "base_uri": "https://localhost:8080/"
        },
        "id": "93CydW5p2jLz",
        "outputId": "e3a7bc26-fda7-4946-d0e0-9777cc1cc175"
      },
      "outputs": [
        {
          "output_type": "execute_result",
          "data": {
            "text/plain": [
              "Index(['borough', 'block', 'lot', 'cd', 'ct2010', 'cb2010', 'schooldist',\n",
              "       'council', 'zipcode', 'firecomp', 'policeprct', 'healtharea',\n",
              "       'sanitboro', 'sanitsub', 'address', 'zonedist1', 'splitzone',\n",
              "       'bldgclass', 'landuse', 'easements', 'ownername', 'lotarea', 'bldgarea',\n",
              "       'comarea', 'resarea', 'officearea', 'retailarea', 'garagearea',\n",
              "       'strgearea', 'factryarea', 'otherarea', 'areasource', 'numbldgs',\n",
              "       'numfloors', 'unitsres', 'unitstotal', 'lotfront', 'lotdepth',\n",
              "       'bldgfront', 'bldgdepth', 'ext', 'proxcode', 'irrlotcode', 'lottype',\n",
              "       'bsmtcode', 'assessland', 'assesstot', 'exempttot', 'yearbuilt',\n",
              "       'yearalter1', 'yearalter2', 'builtfar', 'residfar', 'commfar',\n",
              "       'facilfar', 'borocode', 'bbl', 'tract2010', 'xcoord', 'ycoord',\n",
              "       'latitude', 'longitude', 'zonemap', 'sanborn', 'taxmap', 'plutomapid',\n",
              "       'version', 'sanitdistrict', 'healthcenterdistrict', 'bct2020',\n",
              "       'bctcb2020', 'histdist', 'dcpedited', 'spdist1', 'appbbl', 'appdate',\n",
              "       'overlay1', 'condono', 'pfirm15_flag', 'zonedist2', 'zmcode',\n",
              "       'edesignum', 'ownertype', 'landmark', 'ltdheight', 'firm07_flag',\n",
              "       'overlay2', 'spdist2', 'zonedist3', 'zonedist4'],\n",
              "      dtype='object')"
            ]
          },
          "metadata": {},
          "execution_count": 47
        }
      ],
      "source": [
        "pluto.columns"
      ]
    },
    {
      "cell_type": "code",
      "execution_count": null,
      "metadata": {
        "colab": {
          "base_uri": "https://localhost:8080/"
        },
        "id": "pN-YzhAytiEl",
        "outputId": "60730e43-837e-45c1-e6c6-e652d18da432"
      },
      "outputs": [
        {
          "output_type": "execute_result",
          "data": {
            "text/plain": [
              "(859068, 90)"
            ]
          },
          "metadata": {},
          "execution_count": 48
        }
      ],
      "source": [
        "pluto.shape"
      ]
    },
    {
      "cell_type": "code",
      "execution_count": null,
      "metadata": {
        "colab": {
          "base_uri": "https://localhost:8080/"
        },
        "id": "zJ268JistMXP",
        "outputId": "7e16f75f-cac6-4aa9-ff4d-e4c97b126d1a"
      },
      "outputs": [
        {
          "output_type": "stream",
          "name": "stderr",
          "text": [
            "<ipython-input-49-91a890cae729>:7: SettingWithCopyWarning: \n",
            "A value is trying to be set on a copy of a slice from a DataFrame.\n",
            "Try using .loc[row_indexer,col_indexer] = value instead\n",
            "\n",
            "See the caveats in the documentation: https://pandas.pydata.org/pandas-docs/stable/user_guide/indexing.html#returning-a-view-versus-a-copy\n",
            "  res_pluto['bldgclass'] = res_pluto['bldgclass'].str[0]\n"
          ]
        }
      ],
      "source": [
        "#filtering to include only residential/ mixed use buildings \n",
        "\n",
        "pluto['bldgclass'] = pluto['bldgclass'].fillna('')\n",
        "\n",
        "res_pluto = pluto[pluto['bldgclass'].str.startswith(('A', 'B', 'C', 'D', 'R', 'S'))]\n",
        "#keep only first letter of building category \n",
        "res_pluto['bldgclass'] = res_pluto['bldgclass'].str[0]"
      ]
    },
    {
      "cell_type": "code",
      "execution_count": null,
      "metadata": {
        "colab": {
          "base_uri": "https://localhost:8080/"
        },
        "id": "hjN60Eqdt-wG",
        "outputId": "74745d72-5c2d-44d7-ef06-b1c0fedb8907"
      },
      "outputs": [
        {
          "output_type": "execute_result",
          "data": {
            "text/plain": [
              "(759772, 90)"
            ]
          },
          "metadata": {},
          "execution_count": 50
        }
      ],
      "source": [
        "#eliminated ~ 100k records\n",
        "res_pluto.shape\n"
      ]
    },
    {
      "cell_type": "code",
      "execution_count": null,
      "metadata": {
        "colab": {
          "base_uri": "https://localhost:8080/"
        },
        "id": "jw0d2S5H3Ghp",
        "outputId": "42474ea1-2a72-4ca1-9774-d597e48ae37e"
      },
      "outputs": [
        {
          "output_type": "stream",
          "name": "stderr",
          "text": [
            "<ipython-input-51-99f74e8437ff>:1: SettingWithCopyWarning: \n",
            "A value is trying to be set on a copy of a slice from a DataFrame.\n",
            "Try using .loc[row_indexer,col_indexer] = value instead\n",
            "\n",
            "See the caveats in the documentation: https://pandas.pydata.org/pandas-docs/stable/user_guide/indexing.html#returning-a-view-versus-a-copy\n",
            "  res_pluto.loc[:, 'bbl'] = res_pluto['bbl'].astype(float).astype(int)\n",
            "<ipython-input-51-99f74e8437ff>:1: DeprecationWarning: In a future version, `df.iloc[:, i] = newvals` will attempt to set the values inplace instead of always setting a new array. To retain the old behavior, use either `df[df.columns[i]] = newvals` or, if columns are non-unique, `df.isetitem(i, newvals)`\n",
            "  res_pluto.loc[:, 'bbl'] = res_pluto['bbl'].astype(float).astype(int)\n"
          ]
        }
      ],
      "source": [
        "res_pluto.loc[:, 'bbl'] = res_pluto['bbl'].astype(float).astype(int)\n"
      ]
    },
    {
      "cell_type": "code",
      "execution_count": null,
      "metadata": {
        "colab": {
          "base_uri": "https://localhost:8080/"
        },
        "id": "yuC1jNIw2VUV",
        "outputId": "7d077c23-2ed6-451f-a14f-5fd749c54f2c"
      },
      "outputs": [
        {
          "output_type": "execute_result",
          "data": {
            "text/plain": [
              "Index(['borough', 'block', 'lot', 'cd', 'ct2010', 'cb2010', 'schooldist',\n",
              "       'council', 'zipcode', 'firecomp', 'policeprct', 'healtharea',\n",
              "       'sanitboro', 'sanitsub', 'address', 'zonedist1', 'splitzone',\n",
              "       'bldgclass', 'landuse', 'easements', 'ownername', 'lotarea', 'bldgarea',\n",
              "       'comarea', 'resarea', 'officearea', 'retailarea', 'garagearea',\n",
              "       'strgearea', 'factryarea', 'otherarea', 'areasource', 'numbldgs',\n",
              "       'numfloors', 'unitsres', 'unitstotal', 'lotfront', 'lotdepth',\n",
              "       'bldgfront', 'bldgdepth', 'ext', 'proxcode', 'irrlotcode', 'lottype',\n",
              "       'bsmtcode', 'assessland', 'assesstot', 'exempttot', 'yearbuilt',\n",
              "       'yearalter1', 'yearalter2', 'builtfar', 'residfar', 'commfar',\n",
              "       'facilfar', 'borocode', 'bbl', 'tract2010', 'xcoord', 'ycoord',\n",
              "       'latitude', 'longitude', 'zonemap', 'sanborn', 'taxmap', 'plutomapid',\n",
              "       'version', 'sanitdistrict', 'healthcenterdistrict', 'bct2020',\n",
              "       'bctcb2020', 'histdist', 'dcpedited', 'spdist1', 'appbbl', 'appdate',\n",
              "       'overlay1', 'condono', 'pfirm15_flag', 'zonedist2', 'zmcode',\n",
              "       'edesignum', 'ownertype', 'landmark', 'ltdheight', 'firm07_flag',\n",
              "       'overlay2', 'spdist2', 'zonedist3', 'zonedist4'],\n",
              "      dtype='object')"
            ]
          },
          "metadata": {},
          "execution_count": 52
        }
      ],
      "source": [
        "res_pluto.columns"
      ]
    },
    {
      "cell_type": "code",
      "execution_count": null,
      "metadata": {
        "colab": {
          "base_uri": "https://localhost:8080/",
          "height": 270
        },
        "id": "-RMN6rCJrNsW",
        "outputId": "81b38cac-86c1-4d82-a4c8-ca79cad1539c"
      },
      "outputs": [
        {
          "output_type": "execute_result",
          "data": {
            "text/plain": [
              "          bbl lotarea comarea resarea officearea retailarea garagearea  \\\n",
              "0  2022860024    1666       0    1216          0          0          0   \n",
              "1  2022860103    1874       0    1440          0          0          0   \n",
              "2  1012490146    1812       0    4378          0          0          0   \n",
              "3  1012490149    2115       0    6750          0          0          0   \n",
              "5  4119390131    3000       0    1764          0          0          0   \n",
              "\n",
              "  numbldgs  numfloors unitsres    lotfront     lotdepth yearbuilt landmark  \\\n",
              "0        1  2.0000000        1  16.6700000  100.0000000      1910      NaN   \n",
              "1        1  2.0000000        2  18.7500000  100.0000000      1910      NaN   \n",
              "2        1  4.0000000        9  18.0000000  100.6700000      1893      NaN   \n",
              "3        1  4.0000000       10  21.0000000  100.6700000      1894      NaN   \n",
              "5        1  2.0000000        2  30.0000000  100.0000000      1960      NaN   \n",
              "\n",
              "  yearalter1 bldgclass  \n",
              "0          0         A  \n",
              "1          0         B  \n",
              "2          0         C  \n",
              "3          0         C  \n",
              "5          0         B  "
            ],
            "text/html": [
              "\n",
              "  <div id=\"df-601d9ea3-adba-41fb-865c-a4e1caefd3f5\">\n",
              "    <div class=\"colab-df-container\">\n",
              "      <div>\n",
              "<style scoped>\n",
              "    .dataframe tbody tr th:only-of-type {\n",
              "        vertical-align: middle;\n",
              "    }\n",
              "\n",
              "    .dataframe tbody tr th {\n",
              "        vertical-align: top;\n",
              "    }\n",
              "\n",
              "    .dataframe thead th {\n",
              "        text-align: right;\n",
              "    }\n",
              "</style>\n",
              "<table border=\"1\" class=\"dataframe\">\n",
              "  <thead>\n",
              "    <tr style=\"text-align: right;\">\n",
              "      <th></th>\n",
              "      <th>bbl</th>\n",
              "      <th>lotarea</th>\n",
              "      <th>comarea</th>\n",
              "      <th>resarea</th>\n",
              "      <th>officearea</th>\n",
              "      <th>retailarea</th>\n",
              "      <th>garagearea</th>\n",
              "      <th>numbldgs</th>\n",
              "      <th>numfloors</th>\n",
              "      <th>unitsres</th>\n",
              "      <th>lotfront</th>\n",
              "      <th>lotdepth</th>\n",
              "      <th>yearbuilt</th>\n",
              "      <th>landmark</th>\n",
              "      <th>yearalter1</th>\n",
              "      <th>bldgclass</th>\n",
              "    </tr>\n",
              "  </thead>\n",
              "  <tbody>\n",
              "    <tr>\n",
              "      <th>0</th>\n",
              "      <td>2022860024</td>\n",
              "      <td>1666</td>\n",
              "      <td>0</td>\n",
              "      <td>1216</td>\n",
              "      <td>0</td>\n",
              "      <td>0</td>\n",
              "      <td>0</td>\n",
              "      <td>1</td>\n",
              "      <td>2.0000000</td>\n",
              "      <td>1</td>\n",
              "      <td>16.6700000</td>\n",
              "      <td>100.0000000</td>\n",
              "      <td>1910</td>\n",
              "      <td>NaN</td>\n",
              "      <td>0</td>\n",
              "      <td>A</td>\n",
              "    </tr>\n",
              "    <tr>\n",
              "      <th>1</th>\n",
              "      <td>2022860103</td>\n",
              "      <td>1874</td>\n",
              "      <td>0</td>\n",
              "      <td>1440</td>\n",
              "      <td>0</td>\n",
              "      <td>0</td>\n",
              "      <td>0</td>\n",
              "      <td>1</td>\n",
              "      <td>2.0000000</td>\n",
              "      <td>2</td>\n",
              "      <td>18.7500000</td>\n",
              "      <td>100.0000000</td>\n",
              "      <td>1910</td>\n",
              "      <td>NaN</td>\n",
              "      <td>0</td>\n",
              "      <td>B</td>\n",
              "    </tr>\n",
              "    <tr>\n",
              "      <th>2</th>\n",
              "      <td>1012490146</td>\n",
              "      <td>1812</td>\n",
              "      <td>0</td>\n",
              "      <td>4378</td>\n",
              "      <td>0</td>\n",
              "      <td>0</td>\n",
              "      <td>0</td>\n",
              "      <td>1</td>\n",
              "      <td>4.0000000</td>\n",
              "      <td>9</td>\n",
              "      <td>18.0000000</td>\n",
              "      <td>100.6700000</td>\n",
              "      <td>1893</td>\n",
              "      <td>NaN</td>\n",
              "      <td>0</td>\n",
              "      <td>C</td>\n",
              "    </tr>\n",
              "    <tr>\n",
              "      <th>3</th>\n",
              "      <td>1012490149</td>\n",
              "      <td>2115</td>\n",
              "      <td>0</td>\n",
              "      <td>6750</td>\n",
              "      <td>0</td>\n",
              "      <td>0</td>\n",
              "      <td>0</td>\n",
              "      <td>1</td>\n",
              "      <td>4.0000000</td>\n",
              "      <td>10</td>\n",
              "      <td>21.0000000</td>\n",
              "      <td>100.6700000</td>\n",
              "      <td>1894</td>\n",
              "      <td>NaN</td>\n",
              "      <td>0</td>\n",
              "      <td>C</td>\n",
              "    </tr>\n",
              "    <tr>\n",
              "      <th>5</th>\n",
              "      <td>4119390131</td>\n",
              "      <td>3000</td>\n",
              "      <td>0</td>\n",
              "      <td>1764</td>\n",
              "      <td>0</td>\n",
              "      <td>0</td>\n",
              "      <td>0</td>\n",
              "      <td>1</td>\n",
              "      <td>2.0000000</td>\n",
              "      <td>2</td>\n",
              "      <td>30.0000000</td>\n",
              "      <td>100.0000000</td>\n",
              "      <td>1960</td>\n",
              "      <td>NaN</td>\n",
              "      <td>0</td>\n",
              "      <td>B</td>\n",
              "    </tr>\n",
              "  </tbody>\n",
              "</table>\n",
              "</div>\n",
              "      <button class=\"colab-df-convert\" onclick=\"convertToInteractive('df-601d9ea3-adba-41fb-865c-a4e1caefd3f5')\"\n",
              "              title=\"Convert this dataframe to an interactive table.\"\n",
              "              style=\"display:none;\">\n",
              "        \n",
              "  <svg xmlns=\"http://www.w3.org/2000/svg\" height=\"24px\"viewBox=\"0 0 24 24\"\n",
              "       width=\"24px\">\n",
              "    <path d=\"M0 0h24v24H0V0z\" fill=\"none\"/>\n",
              "    <path d=\"M18.56 5.44l.94 2.06.94-2.06 2.06-.94-2.06-.94-.94-2.06-.94 2.06-2.06.94zm-11 1L8.5 8.5l.94-2.06 2.06-.94-2.06-.94L8.5 2.5l-.94 2.06-2.06.94zm10 10l.94 2.06.94-2.06 2.06-.94-2.06-.94-.94-2.06-.94 2.06-2.06.94z\"/><path d=\"M17.41 7.96l-1.37-1.37c-.4-.4-.92-.59-1.43-.59-.52 0-1.04.2-1.43.59L10.3 9.45l-7.72 7.72c-.78.78-.78 2.05 0 2.83L4 21.41c.39.39.9.59 1.41.59.51 0 1.02-.2 1.41-.59l7.78-7.78 2.81-2.81c.8-.78.8-2.07 0-2.86zM5.41 20L4 18.59l7.72-7.72 1.47 1.35L5.41 20z\"/>\n",
              "  </svg>\n",
              "      </button>\n",
              "      \n",
              "  <style>\n",
              "    .colab-df-container {\n",
              "      display:flex;\n",
              "      flex-wrap:wrap;\n",
              "      gap: 12px;\n",
              "    }\n",
              "\n",
              "    .colab-df-convert {\n",
              "      background-color: #E8F0FE;\n",
              "      border: none;\n",
              "      border-radius: 50%;\n",
              "      cursor: pointer;\n",
              "      display: none;\n",
              "      fill: #1967D2;\n",
              "      height: 32px;\n",
              "      padding: 0 0 0 0;\n",
              "      width: 32px;\n",
              "    }\n",
              "\n",
              "    .colab-df-convert:hover {\n",
              "      background-color: #E2EBFA;\n",
              "      box-shadow: 0px 1px 2px rgba(60, 64, 67, 0.3), 0px 1px 3px 1px rgba(60, 64, 67, 0.15);\n",
              "      fill: #174EA6;\n",
              "    }\n",
              "\n",
              "    [theme=dark] .colab-df-convert {\n",
              "      background-color: #3B4455;\n",
              "      fill: #D2E3FC;\n",
              "    }\n",
              "\n",
              "    [theme=dark] .colab-df-convert:hover {\n",
              "      background-color: #434B5C;\n",
              "      box-shadow: 0px 1px 3px 1px rgba(0, 0, 0, 0.15);\n",
              "      filter: drop-shadow(0px 1px 2px rgba(0, 0, 0, 0.3));\n",
              "      fill: #FFFFFF;\n",
              "    }\n",
              "  </style>\n",
              "\n",
              "      <script>\n",
              "        const buttonEl =\n",
              "          document.querySelector('#df-601d9ea3-adba-41fb-865c-a4e1caefd3f5 button.colab-df-convert');\n",
              "        buttonEl.style.display =\n",
              "          google.colab.kernel.accessAllowed ? 'block' : 'none';\n",
              "\n",
              "        async function convertToInteractive(key) {\n",
              "          const element = document.querySelector('#df-601d9ea3-adba-41fb-865c-a4e1caefd3f5');\n",
              "          const dataTable =\n",
              "            await google.colab.kernel.invokeFunction('convertToInteractive',\n",
              "                                                     [key], {});\n",
              "          if (!dataTable) return;\n",
              "\n",
              "          const docLinkHtml = 'Like what you see? Visit the ' +\n",
              "            '<a target=\"_blank\" href=https://colab.research.google.com/notebooks/data_table.ipynb>data table notebook</a>'\n",
              "            + ' to learn more about interactive tables.';\n",
              "          element.innerHTML = '';\n",
              "          dataTable['output_type'] = 'display_data';\n",
              "          await google.colab.output.renderOutput(dataTable, element);\n",
              "          const docLink = document.createElement('div');\n",
              "          docLink.innerHTML = docLinkHtml;\n",
              "          element.appendChild(docLink);\n",
              "        }\n",
              "      </script>\n",
              "    </div>\n",
              "  </div>\n",
              "  "
            ]
          },
          "metadata": {},
          "execution_count": 53
        }
      ],
      "source": [
        "pluto_sub = res_pluto[['bbl', 'lotarea','comarea', 'resarea', 'officearea', 'retailarea', 'garagearea', 'numbldgs',\n",
        "       'numfloors', 'unitsres', 'lotfront', 'lotdepth', 'yearbuilt', 'landmark', 'yearalter1', 'bldgclass'  ]]\n",
        "\n",
        "pluto_sub.head()"
      ]
    },
    {
      "cell_type": "code",
      "execution_count": null,
      "metadata": {
        "colab": {
          "base_uri": "https://localhost:8080/"
        },
        "id": "h6E4UDaCskO4",
        "outputId": "b0726451-2ee9-4c99-d9f3-ffae49305b53"
      },
      "outputs": [
        {
          "output_type": "execute_result",
          "data": {
            "text/plain": [
              "bbl            int64\n",
              "lotarea       object\n",
              "comarea       object\n",
              "resarea       object\n",
              "officearea    object\n",
              "retailarea    object\n",
              "garagearea    object\n",
              "numbldgs      object\n",
              "numfloors     object\n",
              "unitsres      object\n",
              "lotfront      object\n",
              "lotdepth      object\n",
              "yearbuilt     object\n",
              "landmark      object\n",
              "yearalter1    object\n",
              "bldgclass     object\n",
              "dtype: object"
            ]
          },
          "metadata": {},
          "execution_count": 54
        }
      ],
      "source": [
        "pluto_sub.dtypes"
      ]
    },
    {
      "cell_type": "code",
      "execution_count": null,
      "metadata": {
        "colab": {
          "base_uri": "https://localhost:8080/"
        },
        "id": "PYou4o9mtFWN",
        "outputId": "0ca97a32-513f-4a1f-d656-0d5b1bb396b0"
      },
      "outputs": [
        {
          "output_type": "execute_result",
          "data": {
            "text/plain": [
              "array([nan, 'INDIVIDUAL LANDMARK', 'INDIVIDUAL AND INTERIOR LANDMARK',\n",
              "       'INTERIOR LANDMARK'], dtype=object)"
            ]
          },
          "metadata": {},
          "execution_count": 55
        }
      ],
      "source": [
        "pluto_sub['landmark'].unique()"
      ]
    },
    {
      "cell_type": "code",
      "execution_count": null,
      "metadata": {
        "colab": {
          "base_uri": "https://localhost:8080/"
        },
        "id": "5bYWmnYXtZ-c",
        "outputId": "caccaea1-404c-4b64-ea4d-e986970e67ac"
      },
      "outputs": [
        {
          "output_type": "stream",
          "name": "stderr",
          "text": [
            "<ipython-input-56-c8a37f18a5bb>:2: SettingWithCopyWarning: \n",
            "A value is trying to be set on a copy of a slice from a DataFrame.\n",
            "Try using .loc[row_indexer,col_indexer] = value instead\n",
            "\n",
            "See the caveats in the documentation: https://pandas.pydata.org/pandas-docs/stable/user_guide/indexing.html#returning-a-view-versus-a-copy\n",
            "  pluto_sub['landmark'] = pluto_sub['landmark'].apply(replace_nan)\n"
          ]
        }
      ],
      "source": [
        "replace_nan = lambda x: 0 if pd.isna(x) else 1\n",
        "pluto_sub['landmark'] = pluto_sub['landmark'].apply(replace_nan)"
      ]
    },
    {
      "cell_type": "code",
      "execution_count": null,
      "metadata": {
        "colab": {
          "base_uri": "https://localhost:8080/"
        },
        "id": "G9mMeoBZs2VE",
        "outputId": "4cb26781-aaec-4163-bf8a-8f649c92ec60"
      },
      "outputs": [
        {
          "output_type": "stream",
          "name": "stderr",
          "text": [
            "<ipython-input-57-410304af45f9>:1: SettingWithCopyWarning: \n",
            "A value is trying to be set on a copy of a slice from a DataFrame.\n",
            "Try using .loc[row_indexer,col_indexer] = value instead\n",
            "\n",
            "See the caveats in the documentation: https://pandas.pydata.org/pandas-docs/stable/user_guide/indexing.html#returning-a-view-versus-a-copy\n",
            "  pluto_sub.iloc[:, :-1] = pluto_sub.iloc[:, :-1].astype(float)\n",
            "<ipython-input-57-410304af45f9>:1: DeprecationWarning: In a future version, `df.iloc[:, i] = newvals` will attempt to set the values inplace instead of always setting a new array. To retain the old behavior, use either `df[df.columns[i]] = newvals` or, if columns are non-unique, `df.isetitem(i, newvals)`\n",
            "  pluto_sub.iloc[:, :-1] = pluto_sub.iloc[:, :-1].astype(float)\n"
          ]
        }
      ],
      "source": [
        "pluto_sub.iloc[:, :-1] = pluto_sub.iloc[:, :-1].astype(float)\n"
      ]
    },
    {
      "cell_type": "code",
      "execution_count": null,
      "metadata": {
        "id": "Nz5s_EuPue5q"
      },
      "outputs": [],
      "source": [
        "#only residential buildings \n",
        "pluto_sub = pluto_sub[pluto_sub[ 'resarea'] > 0 ]"
      ]
    },
    {
      "cell_type": "code",
      "execution_count": null,
      "metadata": {
        "id": "O6CrT04VuoXa"
      },
      "outputs": [],
      "source": [
        "# Calculate median of non-zero values\n",
        "non_zero_values = pluto_sub['lotfront'][pluto_sub['lotfront'].notna() & pluto_sub['lotfront'] != 0]\n",
        "median = np.median(non_zero_values)\n",
        "\n",
        "# Replace 0 and NaN values with median value\n",
        "pluto_sub.loc[(pluto_sub['lotfront'] == 0) | (pluto_sub['lotfront'].isna()), 'lotfront'] = median\n"
      ]
    },
    {
      "cell_type": "code",
      "execution_count": null,
      "metadata": {
        "id": "xUro8bSpvdRN"
      },
      "outputs": [],
      "source": [
        "# Calculate median of non-zero and non-NaN values\n",
        "non_zero_values = pluto_sub['lotdepth'][pluto_sub['lotdepth'].notna() & (pluto_sub['lotdepth'] != 0)]\n",
        "median = non_zero_values.median()\n",
        "\n",
        "# Replace 0 and NaN values with median value\n",
        "pluto_sub.loc[(pluto_sub['lotdepth'].isna()) | (pluto_sub['lotdepth'] == 0), 'lotdepth'] = median\n"
      ]
    },
    {
      "cell_type": "code",
      "execution_count": null,
      "metadata": {
        "id": "YNhlkQGlvnmF",
        "colab": {
          "base_uri": "https://localhost:8080/"
        },
        "outputId": "2995b870-df1f-4773-e43b-dff7fb4c1774"
      },
      "outputs": [
        {
          "output_type": "stream",
          "name": "stderr",
          "text": [
            "<ipython-input-61-1927cecc78c4>:7: SettingWithCopyWarning: \n",
            "A value is trying to be set on a copy of a slice from a DataFrame\n",
            "\n",
            "See the caveats in the documentation: https://pandas.pydata.org/pandas-docs/stable/user_guide/indexing.html#returning-a-view-versus-a-copy\n",
            "  pluto_sub['yearbuilt'].fillna(median, inplace=True)\n"
          ]
        }
      ],
      "source": [
        "# Calculate median of non-zero and non-NaN values\n",
        "non_zero_values = pluto_sub['yearbuilt'][pluto_sub['yearbuilt'].notna() & pluto_sub['yearbuilt'] != 0]\n",
        "median = np.median(non_zero_values[~np.isnan(non_zero_values)])\n",
        "\n",
        "# Replace 0 and NaN values with median value\n",
        "pluto_sub.loc[pluto_sub['yearbuilt'] == 0, 'yearbuilt'] = median\n",
        "pluto_sub['yearbuilt'].fillna(median, inplace=True)\n"
      ]
    },
    {
      "cell_type": "code",
      "execution_count": null,
      "metadata": {
        "id": "5TgyzQ_cGe3S"
      },
      "outputs": [],
      "source": [
        "# Calculate median of non-zero and non-NaN values\n",
        "non_zero_values = pluto_sub['lotarea'][pluto_sub['lotarea'].notna() & pluto_sub['lotarea'] != 0]\n",
        "median = np.median(non_zero_values[~np.isnan(non_zero_values)])\n",
        "\n",
        "# Replace 0 and NaN values with median value\n",
        "pluto_sub.loc[pluto_sub['lotarea'] == 0, 'lotarea'] = median\n",
        "pluto_sub['lotarea'].fillna(median, inplace=True)"
      ]
    },
    {
      "cell_type": "code",
      "execution_count": null,
      "metadata": {
        "id": "RG852oRBv03Y"
      },
      "outputs": [],
      "source": [
        "non_zero_values = pluto_sub['yearalter1'][pluto_sub['yearalter1'].notnull() & (pluto_sub['yearalter1'] != 0)]\n",
        "median = np.median(non_zero_values)\n",
        "\n",
        "# Replace 0 and NaN values with median value\n",
        "pluto_sub['yearalter1'] = pluto_sub['yearalter1'].apply(lambda x: median if pd.isnull(x) or x == 0 else x)\n"
      ]
    },
    {
      "cell_type": "code",
      "execution_count": null,
      "metadata": {
        "id": "7ffdMBDwvCt3"
      },
      "outputs": [],
      "source": [
        "#convert 0 values in numfloors and unitsres to 1 \n",
        "pluto_sub['numfloors'] = pluto_sub['numfloors'].fillna(1).replace(0, 1)\n",
        "pluto_sub['unitsres'] = pluto_sub['unitsres'].fillna(1).replace(0, 1)\n",
        "pluto_sub['numbldgs'] = pluto_sub['numbldgs'].fillna(1).replace(0, 1)"
      ]
    },
    {
      "cell_type": "code",
      "execution_count": null,
      "metadata": {
        "id": "ET2N-aAhqjIU"
      },
      "outputs": [],
      "source": [
        "pluto_sales = pluto_sub.merge(all_sales, left_on = 'bbl', right_on = 'bbl', how = 'left')"
      ]
    },
    {
      "cell_type": "code",
      "execution_count": null,
      "metadata": {
        "colab": {
          "base_uri": "https://localhost:8080/"
        },
        "id": "9K9B2MZzxEuu",
        "outputId": "1ca6f954-43c6-4e7a-c774-54beecd554e4"
      },
      "outputs": [
        {
          "output_type": "execute_result",
          "data": {
            "text/plain": [
              "(119545, 2)"
            ]
          },
          "metadata": {},
          "execution_count": 66
        }
      ],
      "source": [
        "all_sales.shape"
      ]
    },
    {
      "cell_type": "code",
      "execution_count": null,
      "metadata": {
        "colab": {
          "base_uri": "https://localhost:8080/"
        },
        "id": "mlhk882lxG3l",
        "outputId": "f6e4d623-e114-4901-e1a0-ef375661413a"
      },
      "outputs": [
        {
          "output_type": "execute_result",
          "data": {
            "text/plain": [
              "(755001, 16)"
            ]
          },
          "metadata": {},
          "execution_count": 67
        }
      ],
      "source": [
        "pluto_sub.shape"
      ]
    },
    {
      "cell_type": "code",
      "execution_count": null,
      "metadata": {
        "colab": {
          "base_uri": "https://localhost:8080/"
        },
        "id": "fACqPGM5Fvsd",
        "outputId": "4aa11028-ec4d-4f2b-fdaa-a9f1b9682231"
      },
      "outputs": [
        {
          "output_type": "execute_result",
          "data": {
            "text/plain": [
              "(755001, 17)"
            ]
          },
          "metadata": {},
          "execution_count": 68
        }
      ],
      "source": [
        "pluto_sales.shape"
      ]
    },
    {
      "cell_type": "markdown",
      "metadata": {
        "id": "QRtBS9iz_MoM"
      },
      "source": [
        "# Transforming the data for K-means clustering"
      ]
    },
    {
      "cell_type": "code",
      "execution_count": null,
      "metadata": {
        "colab": {
          "base_uri": "https://localhost:8080/"
        },
        "id": "w3Dy3s0V9_fn",
        "outputId": "089e155e-39a4-4f98-9f8b-6d865a7d7202"
      },
      "outputs": [
        {
          "output_type": "execute_result",
          "data": {
            "text/plain": [
              "Index(['bbl', 'lotarea', 'comarea', 'resarea', 'officearea', 'retailarea',\n",
              "       'garagearea', 'numbldgs', 'numfloors', 'unitsres', 'lotfront',\n",
              "       'lotdepth', 'yearbuilt', 'landmark', 'yearalter1', 'bldgclass',\n",
              "       'bldg_price'],\n",
              "      dtype='object')"
            ]
          },
          "metadata": {},
          "execution_count": 69
        }
      ],
      "source": [
        "copy = pluto_sales.copy()\n",
        "copy.columns"
      ]
    },
    {
      "cell_type": "code",
      "execution_count": null,
      "metadata": {
        "colab": {
          "base_uri": "https://localhost:8080/",
          "height": 270
        },
        "id": "7d-kpx2lgJV7",
        "outputId": "2af8fead-0ff0-4c88-eb7d-154c20484e3d"
      },
      "outputs": [
        {
          "output_type": "execute_result",
          "data": {
            "text/plain": [
              "            bbl  lotarea  comarea  resarea  officearea  retailarea  \\\n",
              "0 2022860024.00  1666.00     0.00  1216.00        0.00        0.00   \n",
              "1 2022860103.00  1874.00     0.00  1440.00        0.00        0.00   \n",
              "2 1012490146.00  1812.00     0.00  4378.00        0.00        0.00   \n",
              "3 1012490149.00  2115.00     0.00  6750.00        0.00        0.00   \n",
              "4 4119390131.00  3000.00     0.00  1764.00        0.00        0.00   \n",
              "\n",
              "   garagearea  numbldgs  numfloors  unitsres  lotfront  lotdepth  yearbuilt  \\\n",
              "0        0.00      1.00       2.00      1.00     16.67    100.00    1910.00   \n",
              "1        0.00      1.00       2.00      2.00     18.75    100.00    1910.00   \n",
              "2        0.00      1.00       4.00      9.00     18.00    100.67    1893.00   \n",
              "3        0.00      1.00       4.00     10.00     21.00    100.67    1894.00   \n",
              "4        0.00      1.00       2.00      2.00     30.00    100.00    1960.00   \n",
              "\n",
              "   landmark  yearalter1  bldg_price  A  B  C  D  R  S  \n",
              "0      0.00     2006.00         NaN  1  0  0  0  0  0  \n",
              "1      0.00     2006.00         NaN  0  1  0  0  0  0  \n",
              "2      0.00     2006.00         NaN  0  0  1  0  0  0  \n",
              "3      0.00     2006.00         NaN  0  0  1  0  0  0  \n",
              "4      0.00     2006.00         NaN  0  1  0  0  0  0  "
            ],
            "text/html": [
              "\n",
              "  <div id=\"df-afc4683a-b68f-4664-b55d-13248d409c14\">\n",
              "    <div class=\"colab-df-container\">\n",
              "      <div>\n",
              "<style scoped>\n",
              "    .dataframe tbody tr th:only-of-type {\n",
              "        vertical-align: middle;\n",
              "    }\n",
              "\n",
              "    .dataframe tbody tr th {\n",
              "        vertical-align: top;\n",
              "    }\n",
              "\n",
              "    .dataframe thead th {\n",
              "        text-align: right;\n",
              "    }\n",
              "</style>\n",
              "<table border=\"1\" class=\"dataframe\">\n",
              "  <thead>\n",
              "    <tr style=\"text-align: right;\">\n",
              "      <th></th>\n",
              "      <th>bbl</th>\n",
              "      <th>lotarea</th>\n",
              "      <th>comarea</th>\n",
              "      <th>resarea</th>\n",
              "      <th>officearea</th>\n",
              "      <th>retailarea</th>\n",
              "      <th>garagearea</th>\n",
              "      <th>numbldgs</th>\n",
              "      <th>numfloors</th>\n",
              "      <th>unitsres</th>\n",
              "      <th>lotfront</th>\n",
              "      <th>lotdepth</th>\n",
              "      <th>yearbuilt</th>\n",
              "      <th>landmark</th>\n",
              "      <th>yearalter1</th>\n",
              "      <th>bldg_price</th>\n",
              "      <th>A</th>\n",
              "      <th>B</th>\n",
              "      <th>C</th>\n",
              "      <th>D</th>\n",
              "      <th>R</th>\n",
              "      <th>S</th>\n",
              "    </tr>\n",
              "  </thead>\n",
              "  <tbody>\n",
              "    <tr>\n",
              "      <th>0</th>\n",
              "      <td>2022860024.00</td>\n",
              "      <td>1666.00</td>\n",
              "      <td>0.00</td>\n",
              "      <td>1216.00</td>\n",
              "      <td>0.00</td>\n",
              "      <td>0.00</td>\n",
              "      <td>0.00</td>\n",
              "      <td>1.00</td>\n",
              "      <td>2.00</td>\n",
              "      <td>1.00</td>\n",
              "      <td>16.67</td>\n",
              "      <td>100.00</td>\n",
              "      <td>1910.00</td>\n",
              "      <td>0.00</td>\n",
              "      <td>2006.00</td>\n",
              "      <td>NaN</td>\n",
              "      <td>1</td>\n",
              "      <td>0</td>\n",
              "      <td>0</td>\n",
              "      <td>0</td>\n",
              "      <td>0</td>\n",
              "      <td>0</td>\n",
              "    </tr>\n",
              "    <tr>\n",
              "      <th>1</th>\n",
              "      <td>2022860103.00</td>\n",
              "      <td>1874.00</td>\n",
              "      <td>0.00</td>\n",
              "      <td>1440.00</td>\n",
              "      <td>0.00</td>\n",
              "      <td>0.00</td>\n",
              "      <td>0.00</td>\n",
              "      <td>1.00</td>\n",
              "      <td>2.00</td>\n",
              "      <td>2.00</td>\n",
              "      <td>18.75</td>\n",
              "      <td>100.00</td>\n",
              "      <td>1910.00</td>\n",
              "      <td>0.00</td>\n",
              "      <td>2006.00</td>\n",
              "      <td>NaN</td>\n",
              "      <td>0</td>\n",
              "      <td>1</td>\n",
              "      <td>0</td>\n",
              "      <td>0</td>\n",
              "      <td>0</td>\n",
              "      <td>0</td>\n",
              "    </tr>\n",
              "    <tr>\n",
              "      <th>2</th>\n",
              "      <td>1012490146.00</td>\n",
              "      <td>1812.00</td>\n",
              "      <td>0.00</td>\n",
              "      <td>4378.00</td>\n",
              "      <td>0.00</td>\n",
              "      <td>0.00</td>\n",
              "      <td>0.00</td>\n",
              "      <td>1.00</td>\n",
              "      <td>4.00</td>\n",
              "      <td>9.00</td>\n",
              "      <td>18.00</td>\n",
              "      <td>100.67</td>\n",
              "      <td>1893.00</td>\n",
              "      <td>0.00</td>\n",
              "      <td>2006.00</td>\n",
              "      <td>NaN</td>\n",
              "      <td>0</td>\n",
              "      <td>0</td>\n",
              "      <td>1</td>\n",
              "      <td>0</td>\n",
              "      <td>0</td>\n",
              "      <td>0</td>\n",
              "    </tr>\n",
              "    <tr>\n",
              "      <th>3</th>\n",
              "      <td>1012490149.00</td>\n",
              "      <td>2115.00</td>\n",
              "      <td>0.00</td>\n",
              "      <td>6750.00</td>\n",
              "      <td>0.00</td>\n",
              "      <td>0.00</td>\n",
              "      <td>0.00</td>\n",
              "      <td>1.00</td>\n",
              "      <td>4.00</td>\n",
              "      <td>10.00</td>\n",
              "      <td>21.00</td>\n",
              "      <td>100.67</td>\n",
              "      <td>1894.00</td>\n",
              "      <td>0.00</td>\n",
              "      <td>2006.00</td>\n",
              "      <td>NaN</td>\n",
              "      <td>0</td>\n",
              "      <td>0</td>\n",
              "      <td>1</td>\n",
              "      <td>0</td>\n",
              "      <td>0</td>\n",
              "      <td>0</td>\n",
              "    </tr>\n",
              "    <tr>\n",
              "      <th>4</th>\n",
              "      <td>4119390131.00</td>\n",
              "      <td>3000.00</td>\n",
              "      <td>0.00</td>\n",
              "      <td>1764.00</td>\n",
              "      <td>0.00</td>\n",
              "      <td>0.00</td>\n",
              "      <td>0.00</td>\n",
              "      <td>1.00</td>\n",
              "      <td>2.00</td>\n",
              "      <td>2.00</td>\n",
              "      <td>30.00</td>\n",
              "      <td>100.00</td>\n",
              "      <td>1960.00</td>\n",
              "      <td>0.00</td>\n",
              "      <td>2006.00</td>\n",
              "      <td>NaN</td>\n",
              "      <td>0</td>\n",
              "      <td>1</td>\n",
              "      <td>0</td>\n",
              "      <td>0</td>\n",
              "      <td>0</td>\n",
              "      <td>0</td>\n",
              "    </tr>\n",
              "  </tbody>\n",
              "</table>\n",
              "</div>\n",
              "      <button class=\"colab-df-convert\" onclick=\"convertToInteractive('df-afc4683a-b68f-4664-b55d-13248d409c14')\"\n",
              "              title=\"Convert this dataframe to an interactive table.\"\n",
              "              style=\"display:none;\">\n",
              "        \n",
              "  <svg xmlns=\"http://www.w3.org/2000/svg\" height=\"24px\"viewBox=\"0 0 24 24\"\n",
              "       width=\"24px\">\n",
              "    <path d=\"M0 0h24v24H0V0z\" fill=\"none\"/>\n",
              "    <path d=\"M18.56 5.44l.94 2.06.94-2.06 2.06-.94-2.06-.94-.94-2.06-.94 2.06-2.06.94zm-11 1L8.5 8.5l.94-2.06 2.06-.94-2.06-.94L8.5 2.5l-.94 2.06-2.06.94zm10 10l.94 2.06.94-2.06 2.06-.94-2.06-.94-.94-2.06-.94 2.06-2.06.94z\"/><path d=\"M17.41 7.96l-1.37-1.37c-.4-.4-.92-.59-1.43-.59-.52 0-1.04.2-1.43.59L10.3 9.45l-7.72 7.72c-.78.78-.78 2.05 0 2.83L4 21.41c.39.39.9.59 1.41.59.51 0 1.02-.2 1.41-.59l7.78-7.78 2.81-2.81c.8-.78.8-2.07 0-2.86zM5.41 20L4 18.59l7.72-7.72 1.47 1.35L5.41 20z\"/>\n",
              "  </svg>\n",
              "      </button>\n",
              "      \n",
              "  <style>\n",
              "    .colab-df-container {\n",
              "      display:flex;\n",
              "      flex-wrap:wrap;\n",
              "      gap: 12px;\n",
              "    }\n",
              "\n",
              "    .colab-df-convert {\n",
              "      background-color: #E8F0FE;\n",
              "      border: none;\n",
              "      border-radius: 50%;\n",
              "      cursor: pointer;\n",
              "      display: none;\n",
              "      fill: #1967D2;\n",
              "      height: 32px;\n",
              "      padding: 0 0 0 0;\n",
              "      width: 32px;\n",
              "    }\n",
              "\n",
              "    .colab-df-convert:hover {\n",
              "      background-color: #E2EBFA;\n",
              "      box-shadow: 0px 1px 2px rgba(60, 64, 67, 0.3), 0px 1px 3px 1px rgba(60, 64, 67, 0.15);\n",
              "      fill: #174EA6;\n",
              "    }\n",
              "\n",
              "    [theme=dark] .colab-df-convert {\n",
              "      background-color: #3B4455;\n",
              "      fill: #D2E3FC;\n",
              "    }\n",
              "\n",
              "    [theme=dark] .colab-df-convert:hover {\n",
              "      background-color: #434B5C;\n",
              "      box-shadow: 0px 1px 3px 1px rgba(0, 0, 0, 0.15);\n",
              "      filter: drop-shadow(0px 1px 2px rgba(0, 0, 0, 0.3));\n",
              "      fill: #FFFFFF;\n",
              "    }\n",
              "  </style>\n",
              "\n",
              "      <script>\n",
              "        const buttonEl =\n",
              "          document.querySelector('#df-afc4683a-b68f-4664-b55d-13248d409c14 button.colab-df-convert');\n",
              "        buttonEl.style.display =\n",
              "          google.colab.kernel.accessAllowed ? 'block' : 'none';\n",
              "\n",
              "        async function convertToInteractive(key) {\n",
              "          const element = document.querySelector('#df-afc4683a-b68f-4664-b55d-13248d409c14');\n",
              "          const dataTable =\n",
              "            await google.colab.kernel.invokeFunction('convertToInteractive',\n",
              "                                                     [key], {});\n",
              "          if (!dataTable) return;\n",
              "\n",
              "          const docLinkHtml = 'Like what you see? Visit the ' +\n",
              "            '<a target=\"_blank\" href=https://colab.research.google.com/notebooks/data_table.ipynb>data table notebook</a>'\n",
              "            + ' to learn more about interactive tables.';\n",
              "          element.innerHTML = '';\n",
              "          dataTable['output_type'] = 'display_data';\n",
              "          await google.colab.output.renderOutput(dataTable, element);\n",
              "          const docLink = document.createElement('div');\n",
              "          docLink.innerHTML = docLinkHtml;\n",
              "          element.appendChild(docLink);\n",
              "        }\n",
              "      </script>\n",
              "    </div>\n",
              "  </div>\n",
              "  "
            ]
          },
          "metadata": {},
          "execution_count": 70
        }
      ],
      "source": [
        "# create dummy variables\n",
        "dummies = pd.get_dummies(copy['bldgclass'])\n",
        "\n",
        "# concatenate the dummy variables to the original DataFrame\n",
        "copy = pd.concat([copy, dummies], axis=1)\n",
        "\n",
        "# drop the original column\n",
        "copy.drop('bldgclass', axis=1, inplace=True)\n",
        "\n",
        "copy.head()"
      ]
    },
    {
      "cell_type": "code",
      "execution_count": null,
      "metadata": {
        "id": "r0X8mIma8rsI"
      },
      "outputs": [],
      "source": [
        "\n",
        "copy['bldg_price'].fillna(0, inplace = True)"
      ]
    },
    {
      "cell_type": "code",
      "execution_count": null,
      "metadata": {
        "colab": {
          "base_uri": "https://localhost:8080/"
        },
        "id": "EqxKPiAHhLVZ",
        "outputId": "f9651b71-8ac7-4131-8731-824980205fb0"
      },
      "outputs": [
        {
          "output_type": "execute_result",
          "data": {
            "text/plain": [
              "Index(['bbl', 'lotarea', 'comarea', 'resarea', 'officearea', 'retailarea',\n",
              "       'garagearea', 'numbldgs', 'numfloors', 'unitsres', 'lotfront',\n",
              "       'lotdepth', 'yearbuilt', 'landmark', 'yearalter1', 'bldg_price', 'A',\n",
              "       'B', 'C', 'D', 'R', 'S'],\n",
              "      dtype='object')"
            ]
          },
          "metadata": {},
          "execution_count": 72
        }
      ],
      "source": [
        "copy.columns"
      ]
    },
    {
      "cell_type": "code",
      "execution_count": null,
      "metadata": {
        "colab": {
          "base_uri": "https://localhost:8080/",
          "height": 270
        },
        "id": "E-dvNEINg8vD",
        "outputId": "bf78af0b-ffb0-4e03-f255-7cab6eb87516"
      },
      "outputs": [
        {
          "output_type": "execute_result",
          "data": {
            "text/plain": [
              "            bbl  lotarea  comarea  resarea  officearea  retailarea  \\\n",
              "0 2022860024.00  1666.00     0.00  1216.00        0.00        0.00   \n",
              "1 2022860103.00  1874.00     0.00  1440.00        0.00        0.00   \n",
              "2 1012490146.00  1812.00     0.00  4378.00        0.00        0.00   \n",
              "3 1012490149.00  2115.00     0.00  6750.00        0.00        0.00   \n",
              "4 4119390131.00  3000.00     0.00  1764.00        0.00        0.00   \n",
              "\n",
              "   garagearea  numbldgs  numfloors  unitsres  lotfront  lotdepth  yearbuilt  \\\n",
              "0        0.00      1.00       2.00      1.00     16.67    100.00    1910.00   \n",
              "1        0.00      1.00       2.00      2.00     18.75    100.00    1910.00   \n",
              "2        0.00      1.00       4.00      9.00     18.00    100.67    1893.00   \n",
              "3        0.00      1.00       4.00     10.00     21.00    100.67    1894.00   \n",
              "4        0.00      1.00       2.00      2.00     30.00    100.00    1960.00   \n",
              "\n",
              "   landmark  yearalter1  bldg_price  A  B  C  D  R  S  \n",
              "0      0.00     2006.00        0.00  1  0  0  0  0  0  \n",
              "1      0.00     2006.00        0.00  0  1  0  0  0  0  \n",
              "2      0.00     2006.00        0.00  0  0  1  0  0  0  \n",
              "3      0.00     2006.00        0.00  0  0  1  0  0  0  \n",
              "4      0.00     2006.00        0.00  0  1  0  0  0  0  "
            ],
            "text/html": [
              "\n",
              "  <div id=\"df-3b017e7a-252d-47e3-be1e-659c3717b617\">\n",
              "    <div class=\"colab-df-container\">\n",
              "      <div>\n",
              "<style scoped>\n",
              "    .dataframe tbody tr th:only-of-type {\n",
              "        vertical-align: middle;\n",
              "    }\n",
              "\n",
              "    .dataframe tbody tr th {\n",
              "        vertical-align: top;\n",
              "    }\n",
              "\n",
              "    .dataframe thead th {\n",
              "        text-align: right;\n",
              "    }\n",
              "</style>\n",
              "<table border=\"1\" class=\"dataframe\">\n",
              "  <thead>\n",
              "    <tr style=\"text-align: right;\">\n",
              "      <th></th>\n",
              "      <th>bbl</th>\n",
              "      <th>lotarea</th>\n",
              "      <th>comarea</th>\n",
              "      <th>resarea</th>\n",
              "      <th>officearea</th>\n",
              "      <th>retailarea</th>\n",
              "      <th>garagearea</th>\n",
              "      <th>numbldgs</th>\n",
              "      <th>numfloors</th>\n",
              "      <th>unitsres</th>\n",
              "      <th>lotfront</th>\n",
              "      <th>lotdepth</th>\n",
              "      <th>yearbuilt</th>\n",
              "      <th>landmark</th>\n",
              "      <th>yearalter1</th>\n",
              "      <th>bldg_price</th>\n",
              "      <th>A</th>\n",
              "      <th>B</th>\n",
              "      <th>C</th>\n",
              "      <th>D</th>\n",
              "      <th>R</th>\n",
              "      <th>S</th>\n",
              "    </tr>\n",
              "  </thead>\n",
              "  <tbody>\n",
              "    <tr>\n",
              "      <th>0</th>\n",
              "      <td>2022860024.00</td>\n",
              "      <td>1666.00</td>\n",
              "      <td>0.00</td>\n",
              "      <td>1216.00</td>\n",
              "      <td>0.00</td>\n",
              "      <td>0.00</td>\n",
              "      <td>0.00</td>\n",
              "      <td>1.00</td>\n",
              "      <td>2.00</td>\n",
              "      <td>1.00</td>\n",
              "      <td>16.67</td>\n",
              "      <td>100.00</td>\n",
              "      <td>1910.00</td>\n",
              "      <td>0.00</td>\n",
              "      <td>2006.00</td>\n",
              "      <td>0.00</td>\n",
              "      <td>1</td>\n",
              "      <td>0</td>\n",
              "      <td>0</td>\n",
              "      <td>0</td>\n",
              "      <td>0</td>\n",
              "      <td>0</td>\n",
              "    </tr>\n",
              "    <tr>\n",
              "      <th>1</th>\n",
              "      <td>2022860103.00</td>\n",
              "      <td>1874.00</td>\n",
              "      <td>0.00</td>\n",
              "      <td>1440.00</td>\n",
              "      <td>0.00</td>\n",
              "      <td>0.00</td>\n",
              "      <td>0.00</td>\n",
              "      <td>1.00</td>\n",
              "      <td>2.00</td>\n",
              "      <td>2.00</td>\n",
              "      <td>18.75</td>\n",
              "      <td>100.00</td>\n",
              "      <td>1910.00</td>\n",
              "      <td>0.00</td>\n",
              "      <td>2006.00</td>\n",
              "      <td>0.00</td>\n",
              "      <td>0</td>\n",
              "      <td>1</td>\n",
              "      <td>0</td>\n",
              "      <td>0</td>\n",
              "      <td>0</td>\n",
              "      <td>0</td>\n",
              "    </tr>\n",
              "    <tr>\n",
              "      <th>2</th>\n",
              "      <td>1012490146.00</td>\n",
              "      <td>1812.00</td>\n",
              "      <td>0.00</td>\n",
              "      <td>4378.00</td>\n",
              "      <td>0.00</td>\n",
              "      <td>0.00</td>\n",
              "      <td>0.00</td>\n",
              "      <td>1.00</td>\n",
              "      <td>4.00</td>\n",
              "      <td>9.00</td>\n",
              "      <td>18.00</td>\n",
              "      <td>100.67</td>\n",
              "      <td>1893.00</td>\n",
              "      <td>0.00</td>\n",
              "      <td>2006.00</td>\n",
              "      <td>0.00</td>\n",
              "      <td>0</td>\n",
              "      <td>0</td>\n",
              "      <td>1</td>\n",
              "      <td>0</td>\n",
              "      <td>0</td>\n",
              "      <td>0</td>\n",
              "    </tr>\n",
              "    <tr>\n",
              "      <th>3</th>\n",
              "      <td>1012490149.00</td>\n",
              "      <td>2115.00</td>\n",
              "      <td>0.00</td>\n",
              "      <td>6750.00</td>\n",
              "      <td>0.00</td>\n",
              "      <td>0.00</td>\n",
              "      <td>0.00</td>\n",
              "      <td>1.00</td>\n",
              "      <td>4.00</td>\n",
              "      <td>10.00</td>\n",
              "      <td>21.00</td>\n",
              "      <td>100.67</td>\n",
              "      <td>1894.00</td>\n",
              "      <td>0.00</td>\n",
              "      <td>2006.00</td>\n",
              "      <td>0.00</td>\n",
              "      <td>0</td>\n",
              "      <td>0</td>\n",
              "      <td>1</td>\n",
              "      <td>0</td>\n",
              "      <td>0</td>\n",
              "      <td>0</td>\n",
              "    </tr>\n",
              "    <tr>\n",
              "      <th>4</th>\n",
              "      <td>4119390131.00</td>\n",
              "      <td>3000.00</td>\n",
              "      <td>0.00</td>\n",
              "      <td>1764.00</td>\n",
              "      <td>0.00</td>\n",
              "      <td>0.00</td>\n",
              "      <td>0.00</td>\n",
              "      <td>1.00</td>\n",
              "      <td>2.00</td>\n",
              "      <td>2.00</td>\n",
              "      <td>30.00</td>\n",
              "      <td>100.00</td>\n",
              "      <td>1960.00</td>\n",
              "      <td>0.00</td>\n",
              "      <td>2006.00</td>\n",
              "      <td>0.00</td>\n",
              "      <td>0</td>\n",
              "      <td>1</td>\n",
              "      <td>0</td>\n",
              "      <td>0</td>\n",
              "      <td>0</td>\n",
              "      <td>0</td>\n",
              "    </tr>\n",
              "  </tbody>\n",
              "</table>\n",
              "</div>\n",
              "      <button class=\"colab-df-convert\" onclick=\"convertToInteractive('df-3b017e7a-252d-47e3-be1e-659c3717b617')\"\n",
              "              title=\"Convert this dataframe to an interactive table.\"\n",
              "              style=\"display:none;\">\n",
              "        \n",
              "  <svg xmlns=\"http://www.w3.org/2000/svg\" height=\"24px\"viewBox=\"0 0 24 24\"\n",
              "       width=\"24px\">\n",
              "    <path d=\"M0 0h24v24H0V0z\" fill=\"none\"/>\n",
              "    <path d=\"M18.56 5.44l.94 2.06.94-2.06 2.06-.94-2.06-.94-.94-2.06-.94 2.06-2.06.94zm-11 1L8.5 8.5l.94-2.06 2.06-.94-2.06-.94L8.5 2.5l-.94 2.06-2.06.94zm10 10l.94 2.06.94-2.06 2.06-.94-2.06-.94-.94-2.06-.94 2.06-2.06.94z\"/><path d=\"M17.41 7.96l-1.37-1.37c-.4-.4-.92-.59-1.43-.59-.52 0-1.04.2-1.43.59L10.3 9.45l-7.72 7.72c-.78.78-.78 2.05 0 2.83L4 21.41c.39.39.9.59 1.41.59.51 0 1.02-.2 1.41-.59l7.78-7.78 2.81-2.81c.8-.78.8-2.07 0-2.86zM5.41 20L4 18.59l7.72-7.72 1.47 1.35L5.41 20z\"/>\n",
              "  </svg>\n",
              "      </button>\n",
              "      \n",
              "  <style>\n",
              "    .colab-df-container {\n",
              "      display:flex;\n",
              "      flex-wrap:wrap;\n",
              "      gap: 12px;\n",
              "    }\n",
              "\n",
              "    .colab-df-convert {\n",
              "      background-color: #E8F0FE;\n",
              "      border: none;\n",
              "      border-radius: 50%;\n",
              "      cursor: pointer;\n",
              "      display: none;\n",
              "      fill: #1967D2;\n",
              "      height: 32px;\n",
              "      padding: 0 0 0 0;\n",
              "      width: 32px;\n",
              "    }\n",
              "\n",
              "    .colab-df-convert:hover {\n",
              "      background-color: #E2EBFA;\n",
              "      box-shadow: 0px 1px 2px rgba(60, 64, 67, 0.3), 0px 1px 3px 1px rgba(60, 64, 67, 0.15);\n",
              "      fill: #174EA6;\n",
              "    }\n",
              "\n",
              "    [theme=dark] .colab-df-convert {\n",
              "      background-color: #3B4455;\n",
              "      fill: #D2E3FC;\n",
              "    }\n",
              "\n",
              "    [theme=dark] .colab-df-convert:hover {\n",
              "      background-color: #434B5C;\n",
              "      box-shadow: 0px 1px 3px 1px rgba(0, 0, 0, 0.15);\n",
              "      filter: drop-shadow(0px 1px 2px rgba(0, 0, 0, 0.3));\n",
              "      fill: #FFFFFF;\n",
              "    }\n",
              "  </style>\n",
              "\n",
              "      <script>\n",
              "        const buttonEl =\n",
              "          document.querySelector('#df-3b017e7a-252d-47e3-be1e-659c3717b617 button.colab-df-convert');\n",
              "        buttonEl.style.display =\n",
              "          google.colab.kernel.accessAllowed ? 'block' : 'none';\n",
              "\n",
              "        async function convertToInteractive(key) {\n",
              "          const element = document.querySelector('#df-3b017e7a-252d-47e3-be1e-659c3717b617');\n",
              "          const dataTable =\n",
              "            await google.colab.kernel.invokeFunction('convertToInteractive',\n",
              "                                                     [key], {});\n",
              "          if (!dataTable) return;\n",
              "\n",
              "          const docLinkHtml = 'Like what you see? Visit the ' +\n",
              "            '<a target=\"_blank\" href=https://colab.research.google.com/notebooks/data_table.ipynb>data table notebook</a>'\n",
              "            + ' to learn more about interactive tables.';\n",
              "          element.innerHTML = '';\n",
              "          dataTable['output_type'] = 'display_data';\n",
              "          await google.colab.output.renderOutput(dataTable, element);\n",
              "          const docLink = document.createElement('div');\n",
              "          docLink.innerHTML = docLinkHtml;\n",
              "          element.appendChild(docLink);\n",
              "        }\n",
              "      </script>\n",
              "    </div>\n",
              "  </div>\n",
              "  "
            ]
          },
          "metadata": {},
          "execution_count": 73
        }
      ],
      "source": [
        "copy.head()"
      ]
    },
    {
      "cell_type": "code",
      "execution_count": null,
      "metadata": {
        "colab": {
          "base_uri": "https://localhost:8080/"
        },
        "id": "IQXNmJSNhLv8",
        "outputId": "7a4a5ac3-b813-47c4-a923-b0fd3ac9ceb3"
      },
      "outputs": [
        {
          "output_type": "execute_result",
          "data": {
            "text/plain": [
              "3677"
            ]
          },
          "metadata": {},
          "execution_count": 74
        }
      ],
      "source": [
        "(copy['garagearea'] > 0).sum()\n"
      ]
    },
    {
      "cell_type": "code",
      "execution_count": null,
      "metadata": {
        "id": "Y6Dkn_O18UwO"
      },
      "outputs": [],
      "source": [
        " copy = copy.drop (columns = ['garagearea'])"
      ]
    },
    {
      "cell_type": "code",
      "execution_count": null,
      "metadata": {
        "colab": {
          "base_uri": "https://localhost:8080/"
        },
        "id": "OVgehSupuFlo",
        "outputId": "bda9ea5b-cf54-4fa2-8a9b-7f9c4298b407"
      },
      "outputs": [
        {
          "output_type": "execute_result",
          "data": {
            "text/plain": [
              "(75156, 21)"
            ]
          },
          "metadata": {},
          "execution_count": 76
        }
      ],
      "source": [
        "df_labeled = copy[copy['bldg_price'] > 0]\n",
        "\n",
        "df_labeled.shape"
      ]
    },
    {
      "cell_type": "code",
      "execution_count": null,
      "metadata": {
        "id": "2_Ym-UhhyNp0"
      },
      "outputs": [],
      "source": [
        "from sklearn.preprocessing import MinMaxScaler\n",
        "\n",
        "# Define the columns to be scaled\n",
        "cols_to_scale = ['lotarea', 'comarea', 'resarea', 'officearea', 'retailarea', \n",
        "                 'numbldgs', 'numfloors', 'unitsres', 'lotfront', 'lotdepth', 'yearbuilt',\n",
        "                 'landmark', 'yearalter1', 'A', 'B', 'C', 'D', 'R', 'S']\n",
        "\n",
        "# Create a new dataframe with the selected columns\n",
        "df_labeled = df_labeled[['bldg_price', 'bbl'] + cols_to_scale]\n",
        "\n",
        "# Initialize the StandardScaler object and fit_transform the selected columns\n",
        "scaler = MinMaxScaler()\n",
        "df_labeled[cols_to_scale] = scaler.fit_transform(df_labeled[cols_to_scale])\n"
      ]
    },
    {
      "cell_type": "code",
      "execution_count": null,
      "metadata": {
        "id": "CfFXABfg9igK"
      },
      "outputs": [],
      "source": []
    },
    {
      "cell_type": "code",
      "execution_count": null,
      "metadata": {
        "id": "EILfWLIzDwZS"
      },
      "outputs": [],
      "source": [
        "\n",
        "df_labeled = df_labeled.drop(['bldg_price'], axis=1)\n",
        "\n"
      ]
    },
    {
      "cell_type": "code",
      "execution_count": null,
      "metadata": {
        "colab": {
          "base_uri": "https://localhost:8080/",
          "height": 781
        },
        "id": "828SqpBcYKcd",
        "outputId": "ba4f7158-982f-47b3-e291-2f5293b8b654"
      },
      "outputs": [
        {
          "output_type": "stream",
          "name": "stderr",
          "text": [
            "/usr/local/lib/python3.10/dist-packages/sklearn/cluster/_kmeans.py:870: FutureWarning: The default value of `n_init` will change from 10 to 'auto' in 1.4. Set the value of `n_init` explicitly to suppress the warning\n",
            "  warnings.warn(\n",
            "/usr/local/lib/python3.10/dist-packages/sklearn/cluster/_kmeans.py:870: FutureWarning: The default value of `n_init` will change from 10 to 'auto' in 1.4. Set the value of `n_init` explicitly to suppress the warning\n",
            "  warnings.warn(\n",
            "/usr/local/lib/python3.10/dist-packages/sklearn/cluster/_kmeans.py:870: FutureWarning: The default value of `n_init` will change from 10 to 'auto' in 1.4. Set the value of `n_init` explicitly to suppress the warning\n",
            "  warnings.warn(\n",
            "/usr/local/lib/python3.10/dist-packages/sklearn/cluster/_kmeans.py:870: FutureWarning: The default value of `n_init` will change from 10 to 'auto' in 1.4. Set the value of `n_init` explicitly to suppress the warning\n",
            "  warnings.warn(\n",
            "/usr/local/lib/python3.10/dist-packages/sklearn/cluster/_kmeans.py:870: FutureWarning: The default value of `n_init` will change from 10 to 'auto' in 1.4. Set the value of `n_init` explicitly to suppress the warning\n",
            "  warnings.warn(\n",
            "/usr/local/lib/python3.10/dist-packages/sklearn/cluster/_kmeans.py:870: FutureWarning: The default value of `n_init` will change from 10 to 'auto' in 1.4. Set the value of `n_init` explicitly to suppress the warning\n",
            "  warnings.warn(\n",
            "/usr/local/lib/python3.10/dist-packages/sklearn/cluster/_kmeans.py:870: FutureWarning: The default value of `n_init` will change from 10 to 'auto' in 1.4. Set the value of `n_init` explicitly to suppress the warning\n",
            "  warnings.warn(\n",
            "/usr/local/lib/python3.10/dist-packages/sklearn/cluster/_kmeans.py:870: FutureWarning: The default value of `n_init` will change from 10 to 'auto' in 1.4. Set the value of `n_init` explicitly to suppress the warning\n",
            "  warnings.warn(\n",
            "/usr/local/lib/python3.10/dist-packages/sklearn/cluster/_kmeans.py:870: FutureWarning: The default value of `n_init` will change from 10 to 'auto' in 1.4. Set the value of `n_init` explicitly to suppress the warning\n",
            "  warnings.warn(\n"
          ]
        },
        {
          "output_type": "display_data",
          "data": {
            "text/plain": [
              "<Figure size 640x480 with 1 Axes>"
            ],
            "image/png": "[encoded data removed]"
          },
          "metadata": {}
        }
      ],
      "source": [
        "\n",
        "\n",
        "# Use elbow method to determine optimal number of clusters\n",
        "n_clusters_range = range(2, 11)\n",
        "inertia_scores = []\n",
        "for n_clusters in n_clusters_range:\n",
        "    kmeans = KMeans(n_clusters=n_clusters, random_state=42).fit(df_labeled.drop(columns = 'bbl'))\n",
        "    inertia_scores.append(kmeans.inertia_)\n",
        "\n",
        "# Plot the elbow curve\n",
        "import matplotlib.pyplot as plt\n",
        "plt.plot(n_clusters_range, inertia_scores)\n",
        "plt.xlabel('Number of clusters')\n",
        "plt.ylabel('Inertia')\n",
        "plt.show()"
      ]
    },
    {
      "cell_type": "code",
      "execution_count": null,
      "metadata": {
        "colab": {
          "base_uri": "https://localhost:8080/",
          "height": 270
        },
        "id": "1bCw8O2bhwrC",
        "outputId": "66bfb770-ecb2-4d26-ae85-cd7c1f251aba"
      },
      "outputs": [
        {
          "output_type": "execute_result",
          "data": {
            "text/plain": [
              "             bbl  lotarea  comarea  resarea  officearea  retailarea  numbldgs  \\\n",
              "6  4100870021.00     0.00     0.00     0.00        0.00        0.00      0.00   \n",
              "27 4106250002.00     0.00     0.00     0.00        0.00        0.00      0.00   \n",
              "34 4020090010.00     0.00     0.00     0.00        0.00        0.00      0.00   \n",
              "40 4102350333.00     0.00     0.00     0.00        0.00        0.00      0.00   \n",
              "58 4098470012.00     0.00     0.00     0.00        0.00        0.00      0.00   \n",
              "\n",
              "    numfloors  unitsres  lotfront  lotdepth  yearbuilt  landmark  yearalter1  \\\n",
              "6        0.03      0.00      0.00      0.03       0.66      0.00        0.11   \n",
              "27       0.02      0.00      0.00      0.04       0.68      0.00        0.11   \n",
              "34       0.07      0.00      0.00      0.04       0.99      0.00        0.12   \n",
              "40       0.02      0.00      0.00      0.04       0.68      0.00        0.11   \n",
              "58       0.02      0.00      0.00      0.04       0.78      0.00        0.11   \n",
              "\n",
              "      A    B    C    D    R    S  \n",
              "6  1.00 0.00 0.00 0.00 0.00 0.00  \n",
              "27 1.00 0.00 0.00 0.00 0.00 0.00  \n",
              "34 0.00 0.00 1.00 0.00 0.00 0.00  \n",
              "40 1.00 0.00 0.00 0.00 0.00 0.00  \n",
              "58 0.00 1.00 0.00 0.00 0.00 0.00  "
            ],
            "text/html": [
              "\n",
              "  <div id=\"df-5cd66962-2ebd-467e-8f41-7bdfb5a912a2\">\n",
              "    <div class=\"colab-df-container\">\n",
              "      <div>\n",
              "<style scoped>\n",
              "    .dataframe tbody tr th:only-of-type {\n",
              "        vertical-align: middle;\n",
              "    }\n",
              "\n",
              "    .dataframe tbody tr th {\n",
              "        vertical-align: top;\n",
              "    }\n",
              "\n",
              "    .dataframe thead th {\n",
              "        text-align: right;\n",
              "    }\n",
              "</style>\n",
              "<table border=\"1\" class=\"dataframe\">\n",
              "  <thead>\n",
              "    <tr style=\"text-align: right;\">\n",
              "      <th></th>\n",
              "      <th>bbl</th>\n",
              "      <th>lotarea</th>\n",
              "      <th>comarea</th>\n",
              "      <th>resarea</th>\n",
              "      <th>officearea</th>\n",
              "      <th>retailarea</th>\n",
              "      <th>numbldgs</th>\n",
              "      <th>numfloors</th>\n",
              "      <th>unitsres</th>\n",
              "      <th>lotfront</th>\n",
              "      <th>lotdepth</th>\n",
              "      <th>yearbuilt</th>\n",
              "      <th>landmark</th>\n",
              "      <th>yearalter1</th>\n",
              "      <th>A</th>\n",
              "      <th>B</th>\n",
              "      <th>C</th>\n",
              "      <th>D</th>\n",
              "      <th>R</th>\n",
              "      <th>S</th>\n",
              "    </tr>\n",
              "  </thead>\n",
              "  <tbody>\n",
              "    <tr>\n",
              "      <th>6</th>\n",
              "      <td>4100870021.00</td>\n",
              "      <td>0.00</td>\n",
              "      <td>0.00</td>\n",
              "      <td>0.00</td>\n",
              "      <td>0.00</td>\n",
              "      <td>0.00</td>\n",
              "      <td>0.00</td>\n",
              "      <td>0.03</td>\n",
              "      <td>0.00</td>\n",
              "      <td>0.00</td>\n",
              "      <td>0.03</td>\n",
              "      <td>0.66</td>\n",
              "      <td>0.00</td>\n",
              "      <td>0.11</td>\n",
              "      <td>1.00</td>\n",
              "      <td>0.00</td>\n",
              "      <td>0.00</td>\n",
              "      <td>0.00</td>\n",
              "      <td>0.00</td>\n",
              "      <td>0.00</td>\n",
              "    </tr>\n",
              "    <tr>\n",
              "      <th>27</th>\n",
              "      <td>4106250002.00</td>\n",
              "      <td>0.00</td>\n",
              "      <td>0.00</td>\n",
              "      <td>0.00</td>\n",
              "      <td>0.00</td>\n",
              "      <td>0.00</td>\n",
              "      <td>0.00</td>\n",
              "      <td>0.02</td>\n",
              "      <td>0.00</td>\n",
              "      <td>0.00</td>\n",
              "      <td>0.04</td>\n",
              "      <td>0.68</td>\n",
              "      <td>0.00</td>\n",
              "      <td>0.11</td>\n",
              "      <td>1.00</td>\n",
              "      <td>0.00</td>\n",
              "      <td>0.00</td>\n",
              "      <td>0.00</td>\n",
              "      <td>0.00</td>\n",
              "      <td>0.00</td>\n",
              "    </tr>\n",
              "    <tr>\n",
              "      <th>34</th>\n",
              "      <td>4020090010.00</td>\n",
              "      <td>0.00</td>\n",
              "      <td>0.00</td>\n",
              "      <td>0.00</td>\n",
              "      <td>0.00</td>\n",
              "      <td>0.00</td>\n",
              "      <td>0.00</td>\n",
              "      <td>0.07</td>\n",
              "      <td>0.00</td>\n",
              "      <td>0.00</td>\n",
              "      <td>0.04</td>\n",
              "      <td>0.99</td>\n",
              "      <td>0.00</td>\n",
              "      <td>0.12</td>\n",
              "      <td>0.00</td>\n",
              "      <td>0.00</td>\n",
              "      <td>1.00</td>\n",
              "      <td>0.00</td>\n",
              "      <td>0.00</td>\n",
              "      <td>0.00</td>\n",
              "    </tr>\n",
              "    <tr>\n",
              "      <th>40</th>\n",
              "      <td>4102350333.00</td>\n",
              "      <td>0.00</td>\n",
              "      <td>0.00</td>\n",
              "      <td>0.00</td>\n",
              "      <td>0.00</td>\n",
              "      <td>0.00</td>\n",
              "      <td>0.00</td>\n",
              "      <td>0.02</td>\n",
              "      <td>0.00</td>\n",
              "      <td>0.00</td>\n",
              "      <td>0.04</td>\n",
              "      <td>0.68</td>\n",
              "      <td>0.00</td>\n",
              "      <td>0.11</td>\n",
              "      <td>1.00</td>\n",
              "      <td>0.00</td>\n",
              "      <td>0.00</td>\n",
              "      <td>0.00</td>\n",
              "      <td>0.00</td>\n",
              "      <td>0.00</td>\n",
              "    </tr>\n",
              "    <tr>\n",
              "      <th>58</th>\n",
              "      <td>4098470012.00</td>\n",
              "      <td>0.00</td>\n",
              "      <td>0.00</td>\n",
              "      <td>0.00</td>\n",
              "      <td>0.00</td>\n",
              "      <td>0.00</td>\n",
              "      <td>0.00</td>\n",
              "      <td>0.02</td>\n",
              "      <td>0.00</td>\n",
              "      <td>0.00</td>\n",
              "      <td>0.04</td>\n",
              "      <td>0.78</td>\n",
              "      <td>0.00</td>\n",
              "      <td>0.11</td>\n",
              "      <td>0.00</td>\n",
              "      <td>1.00</td>\n",
              "      <td>0.00</td>\n",
              "      <td>0.00</td>\n",
              "      <td>0.00</td>\n",
              "      <td>0.00</td>\n",
              "    </tr>\n",
              "  </tbody>\n",
              "</table>\n",
              "</div>\n",
              "      <button class=\"colab-df-convert\" onclick=\"convertToInteractive('df-5cd66962-2ebd-467e-8f41-7bdfb5a912a2')\"\n",
              "              title=\"Convert this dataframe to an interactive table.\"\n",
              "              style=\"display:none;\">\n",
              "        \n",
              "  <svg xmlns=\"http://www.w3.org/2000/svg\" height=\"24px\"viewBox=\"0 0 24 24\"\n",
              "       width=\"24px\">\n",
              "    <path d=\"M0 0h24v24H0V0z\" fill=\"none\"/>\n",
              "    <path d=\"M18.56 5.44l.94 2.06.94-2.06 2.06-.94-2.06-.94-.94-2.06-.94 2.06-2.06.94zm-11 1L8.5 8.5l.94-2.06 2.06-.94-2.06-.94L8.5 2.5l-.94 2.06-2.06.94zm10 10l.94 2.06.94-2.06 2.06-.94-2.06-.94-.94-2.06-.94 2.06-2.06.94z\"/><path d=\"M17.41 7.96l-1.37-1.37c-.4-.4-.92-.59-1.43-.59-.52 0-1.04.2-1.43.59L10.3 9.45l-7.72 7.72c-.78.78-.78 2.05 0 2.83L4 21.41c.39.39.9.59 1.41.59.51 0 1.02-.2 1.41-.59l7.78-7.78 2.81-2.81c.8-.78.8-2.07 0-2.86zM5.41 20L4 18.59l7.72-7.72 1.47 1.35L5.41 20z\"/>\n",
              "  </svg>\n",
              "      </button>\n",
              "      \n",
              "  <style>\n",
              "    .colab-df-container {\n",
              "      display:flex;\n",
              "      flex-wrap:wrap;\n",
              "      gap: 12px;\n",
              "    }\n",
              "\n",
              "    .colab-df-convert {\n",
              "      background-color: #E8F0FE;\n",
              "      border: none;\n",
              "      border-radius: 50%;\n",
              "      cursor: pointer;\n",
              "      display: none;\n",
              "      fill: #1967D2;\n",
              "      height: 32px;\n",
              "      padding: 0 0 0 0;\n",
              "      width: 32px;\n",
              "    }\n",
              "\n",
              "    .colab-df-convert:hover {\n",
              "      background-color: #E2EBFA;\n",
              "      box-shadow: 0px 1px 2px rgba(60, 64, 67, 0.3), 0px 1px 3px 1px rgba(60, 64, 67, 0.15);\n",
              "      fill: #174EA6;\n",
              "    }\n",
              "\n",
              "    [theme=dark] .colab-df-convert {\n",
              "      background-color: #3B4455;\n",
              "      fill: #D2E3FC;\n",
              "    }\n",
              "\n",
              "    [theme=dark] .colab-df-convert:hover {\n",
              "      background-color: #434B5C;\n",
              "      box-shadow: 0px 1px 3px 1px rgba(0, 0, 0, 0.15);\n",
              "      filter: drop-shadow(0px 1px 2px rgba(0, 0, 0, 0.3));\n",
              "      fill: #FFFFFF;\n",
              "    }\n",
              "  </style>\n",
              "\n",
              "      <script>\n",
              "        const buttonEl =\n",
              "          document.querySelector('#df-5cd66962-2ebd-467e-8f41-7bdfb5a912a2 button.colab-df-convert');\n",
              "        buttonEl.style.display =\n",
              "          google.colab.kernel.accessAllowed ? 'block' : 'none';\n",
              "\n",
              "        async function convertToInteractive(key) {\n",
              "          const element = document.querySelector('#df-5cd66962-2ebd-467e-8f41-7bdfb5a912a2');\n",
              "          const dataTable =\n",
              "            await google.colab.kernel.invokeFunction('convertToInteractive',\n",
              "                                                     [key], {});\n",
              "          if (!dataTable) return;\n",
              "\n",
              "          const docLinkHtml = 'Like what you see? Visit the ' +\n",
              "            '<a target=\"_blank\" href=https://colab.research.google.com/notebooks/data_table.ipynb>data table notebook</a>'\n",
              "            + ' to learn more about interactive tables.';\n",
              "          element.innerHTML = '';\n",
              "          dataTable['output_type'] = 'display_data';\n",
              "          await google.colab.output.renderOutput(dataTable, element);\n",
              "          const docLink = document.createElement('div');\n",
              "          docLink.innerHTML = docLinkHtml;\n",
              "          element.appendChild(docLink);\n",
              "        }\n",
              "      </script>\n",
              "    </div>\n",
              "  </div>\n",
              "  "
            ]
          },
          "metadata": {},
          "execution_count": 80
        }
      ],
      "source": [
        "df_labeled.head()"
      ]
    },
    {
      "cell_type": "code",
      "execution_count": null,
      "metadata": {
        "colab": {
          "base_uri": "https://localhost:8080/"
        },
        "id": "RCxHzdVcaaw6",
        "outputId": "40859a94-7f60-4548-ca13-54d087cfecfc"
      },
      "outputs": [
        {
          "output_type": "stream",
          "name": "stderr",
          "text": [
            "/usr/local/lib/python3.10/dist-packages/sklearn/cluster/_kmeans.py:870: FutureWarning: The default value of `n_init` will change from 10 to 'auto' in 1.4. Set the value of `n_init` explicitly to suppress the warning\n",
            "  warnings.warn(\n"
          ]
        }
      ],
      "source": [
        "kmeans = KMeans(n_clusters=5, random_state=42)\n",
        "kmeans.fit(df_labeled.drop(columns = 'bbl'))\n",
        "df_labeled['cluster_label'] = kmeans.labels_"
      ]
    },
    {
      "cell_type": "code",
      "execution_count": null,
      "metadata": {
        "colab": {
          "base_uri": "https://localhost:8080/"
        },
        "id": "1d74yKc9ZM9e",
        "outputId": "0d2245b5-57f7-4a98-b459-3dfe0e862aca"
      },
      "outputs": [
        {
          "output_type": "execute_result",
          "data": {
            "text/plain": [
              "(679845, 21)"
            ]
          },
          "metadata": {},
          "execution_count": 82
        }
      ],
      "source": [
        "#scale unlabeled data\n",
        "df_unlabeled = copy[copy['bldg_price'] == 0]\n",
        "df_unlabeled.shape"
      ]
    },
    {
      "cell_type": "code",
      "execution_count": null,
      "metadata": {
        "colab": {
          "base_uri": "https://localhost:8080/",
          "height": 270
        },
        "id": "eCn9pT-thLxd",
        "outputId": "24ea2b12-016f-4af9-a3f0-e934ea70f153"
      },
      "outputs": [
        {
          "output_type": "execute_result",
          "data": {
            "text/plain": [
              "            bbl  lotarea  comarea  resarea  officearea  retailarea  numbldgs  \\\n",
              "0 2022860024.00  1666.00     0.00  1216.00        0.00        0.00      1.00   \n",
              "1 2022860103.00  1874.00     0.00  1440.00        0.00        0.00      1.00   \n",
              "2 1012490146.00  1812.00     0.00  4378.00        0.00        0.00      1.00   \n",
              "3 1012490149.00  2115.00     0.00  6750.00        0.00        0.00      1.00   \n",
              "4 4119390131.00  3000.00     0.00  1764.00        0.00        0.00      1.00   \n",
              "\n",
              "   numfloors  unitsres  lotfront  lotdepth  yearbuilt  landmark  yearalter1  \\\n",
              "0       2.00      1.00     16.67    100.00    1910.00      0.00     2006.00   \n",
              "1       2.00      2.00     18.75    100.00    1910.00      0.00     2006.00   \n",
              "2       4.00      9.00     18.00    100.67    1893.00      0.00     2006.00   \n",
              "3       4.00     10.00     21.00    100.67    1894.00      0.00     2006.00   \n",
              "4       2.00      2.00     30.00    100.00    1960.00      0.00     2006.00   \n",
              "\n",
              "   bldg_price  A  B  C  D  R  S  \n",
              "0        0.00  1  0  0  0  0  0  \n",
              "1        0.00  0  1  0  0  0  0  \n",
              "2        0.00  0  0  1  0  0  0  \n",
              "3        0.00  0  0  1  0  0  0  \n",
              "4        0.00  0  1  0  0  0  0  "
            ],
            "text/html": [
              "\n",
              "  <div id=\"df-d485466a-86d7-4eb2-8e22-de671c9ada33\">\n",
              "    <div class=\"colab-df-container\">\n",
              "      <div>\n",
              "<style scoped>\n",
              "    .dataframe tbody tr th:only-of-type {\n",
              "        vertical-align: middle;\n",
              "    }\n",
              "\n",
              "    .dataframe tbody tr th {\n",
              "        vertical-align: top;\n",
              "    }\n",
              "\n",
              "    .dataframe thead th {\n",
              "        text-align: right;\n",
              "    }\n",
              "</style>\n",
              "<table border=\"1\" class=\"dataframe\">\n",
              "  <thead>\n",
              "    <tr style=\"text-align: right;\">\n",
              "      <th></th>\n",
              "      <th>bbl</th>\n",
              "      <th>lotarea</th>\n",
              "      <th>comarea</th>\n",
              "      <th>resarea</th>\n",
              "      <th>officearea</th>\n",
              "      <th>retailarea</th>\n",
              "      <th>numbldgs</th>\n",
              "      <th>numfloors</th>\n",
              "      <th>unitsres</th>\n",
              "      <th>lotfront</th>\n",
              "      <th>lotdepth</th>\n",
              "      <th>yearbuilt</th>\n",
              "      <th>landmark</th>\n",
              "      <th>yearalter1</th>\n",
              "      <th>bldg_price</th>\n",
              "      <th>A</th>\n",
              "      <th>B</th>\n",
              "      <th>C</th>\n",
              "      <th>D</th>\n",
              "      <th>R</th>\n",
              "      <th>S</th>\n",
              "    </tr>\n",
              "  </thead>\n",
              "  <tbody>\n",
              "    <tr>\n",
              "      <th>0</th>\n",
              "      <td>2022860024.00</td>\n",
              "      <td>1666.00</td>\n",
              "      <td>0.00</td>\n",
              "      <td>1216.00</td>\n",
              "      <td>0.00</td>\n",
              "      <td>0.00</td>\n",
              "      <td>1.00</td>\n",
              "      <td>2.00</td>\n",
              "      <td>1.00</td>\n",
              "      <td>16.67</td>\n",
              "      <td>100.00</td>\n",
              "      <td>1910.00</td>\n",
              "      <td>0.00</td>\n",
              "      <td>2006.00</td>\n",
              "      <td>0.00</td>\n",
              "      <td>1</td>\n",
              "      <td>0</td>\n",
              "      <td>0</td>\n",
              "      <td>0</td>\n",
              "      <td>0</td>\n",
              "      <td>0</td>\n",
              "    </tr>\n",
              "    <tr>\n",
              "      <th>1</th>\n",
              "      <td>2022860103.00</td>\n",
              "      <td>1874.00</td>\n",
              "      <td>0.00</td>\n",
              "      <td>1440.00</td>\n",
              "      <td>0.00</td>\n",
              "      <td>0.00</td>\n",
              "      <td>1.00</td>\n",
              "      <td>2.00</td>\n",
              "      <td>2.00</td>\n",
              "      <td>18.75</td>\n",
              "      <td>100.00</td>\n",
              "      <td>1910.00</td>\n",
              "      <td>0.00</td>\n",
              "      <td>2006.00</td>\n",
              "      <td>0.00</td>\n",
              "      <td>0</td>\n",
              "      <td>1</td>\n",
              "      <td>0</td>\n",
              "      <td>0</td>\n",
              "      <td>0</td>\n",
              "      <td>0</td>\n",
              "    </tr>\n",
              "    <tr>\n",
              "      <th>2</th>\n",
              "      <td>1012490146.00</td>\n",
              "      <td>1812.00</td>\n",
              "      <td>0.00</td>\n",
              "      <td>4378.00</td>\n",
              "      <td>0.00</td>\n",
              "      <td>0.00</td>\n",
              "      <td>1.00</td>\n",
              "      <td>4.00</td>\n",
              "      <td>9.00</td>\n",
              "      <td>18.00</td>\n",
              "      <td>100.67</td>\n",
              "      <td>1893.00</td>\n",
              "      <td>0.00</td>\n",
              "      <td>2006.00</td>\n",
              "      <td>0.00</td>\n",
              "      <td>0</td>\n",
              "      <td>0</td>\n",
              "      <td>1</td>\n",
              "      <td>0</td>\n",
              "      <td>0</td>\n",
              "      <td>0</td>\n",
              "    </tr>\n",
              "    <tr>\n",
              "      <th>3</th>\n",
              "      <td>1012490149.00</td>\n",
              "      <td>2115.00</td>\n",
              "      <td>0.00</td>\n",
              "      <td>6750.00</td>\n",
              "      <td>0.00</td>\n",
              "      <td>0.00</td>\n",
              "      <td>1.00</td>\n",
              "      <td>4.00</td>\n",
              "      <td>10.00</td>\n",
              "      <td>21.00</td>\n",
              "      <td>100.67</td>\n",
              "      <td>1894.00</td>\n",
              "      <td>0.00</td>\n",
              "      <td>2006.00</td>\n",
              "      <td>0.00</td>\n",
              "      <td>0</td>\n",
              "      <td>0</td>\n",
              "      <td>1</td>\n",
              "      <td>0</td>\n",
              "      <td>0</td>\n",
              "      <td>0</td>\n",
              "    </tr>\n",
              "    <tr>\n",
              "      <th>4</th>\n",
              "      <td>4119390131.00</td>\n",
              "      <td>3000.00</td>\n",
              "      <td>0.00</td>\n",
              "      <td>1764.00</td>\n",
              "      <td>0.00</td>\n",
              "      <td>0.00</td>\n",
              "      <td>1.00</td>\n",
              "      <td>2.00</td>\n",
              "      <td>2.00</td>\n",
              "      <td>30.00</td>\n",
              "      <td>100.00</td>\n",
              "      <td>1960.00</td>\n",
              "      <td>0.00</td>\n",
              "      <td>2006.00</td>\n",
              "      <td>0.00</td>\n",
              "      <td>0</td>\n",
              "      <td>1</td>\n",
              "      <td>0</td>\n",
              "      <td>0</td>\n",
              "      <td>0</td>\n",
              "      <td>0</td>\n",
              "    </tr>\n",
              "  </tbody>\n",
              "</table>\n",
              "</div>\n",
              "      <button class=\"colab-df-convert\" onclick=\"convertToInteractive('df-d485466a-86d7-4eb2-8e22-de671c9ada33')\"\n",
              "              title=\"Convert this dataframe to an interactive table.\"\n",
              "              style=\"display:none;\">\n",
              "        \n",
              "  <svg xmlns=\"http://www.w3.org/2000/svg\" height=\"24px\"viewBox=\"0 0 24 24\"\n",
              "       width=\"24px\">\n",
              "    <path d=\"M0 0h24v24H0V0z\" fill=\"none\"/>\n",
              "    <path d=\"M18.56 5.44l.94 2.06.94-2.06 2.06-.94-2.06-.94-.94-2.06-.94 2.06-2.06.94zm-11 1L8.5 8.5l.94-2.06 2.06-.94-2.06-.94L8.5 2.5l-.94 2.06-2.06.94zm10 10l.94 2.06.94-2.06 2.06-.94-2.06-.94-.94-2.06-.94 2.06-2.06.94z\"/><path d=\"M17.41 7.96l-1.37-1.37c-.4-.4-.92-.59-1.43-.59-.52 0-1.04.2-1.43.59L10.3 9.45l-7.72 7.72c-.78.78-.78 2.05 0 2.83L4 21.41c.39.39.9.59 1.41.59.51 0 1.02-.2 1.41-.59l7.78-7.78 2.81-2.81c.8-.78.8-2.07 0-2.86zM5.41 20L4 18.59l7.72-7.72 1.47 1.35L5.41 20z\"/>\n",
              "  </svg>\n",
              "      </button>\n",
              "      \n",
              "  <style>\n",
              "    .colab-df-container {\n",
              "      display:flex;\n",
              "      flex-wrap:wrap;\n",
              "      gap: 12px;\n",
              "    }\n",
              "\n",
              "    .colab-df-convert {\n",
              "      background-color: #E8F0FE;\n",
              "      border: none;\n",
              "      border-radius: 50%;\n",
              "      cursor: pointer;\n",
              "      display: none;\n",
              "      fill: #1967D2;\n",
              "      height: 32px;\n",
              "      padding: 0 0 0 0;\n",
              "      width: 32px;\n",
              "    }\n",
              "\n",
              "    .colab-df-convert:hover {\n",
              "      background-color: #E2EBFA;\n",
              "      box-shadow: 0px 1px 2px rgba(60, 64, 67, 0.3), 0px 1px 3px 1px rgba(60, 64, 67, 0.15);\n",
              "      fill: #174EA6;\n",
              "    }\n",
              "\n",
              "    [theme=dark] .colab-df-convert {\n",
              "      background-color: #3B4455;\n",
              "      fill: #D2E3FC;\n",
              "    }\n",
              "\n",
              "    [theme=dark] .colab-df-convert:hover {\n",
              "      background-color: #434B5C;\n",
              "      box-shadow: 0px 1px 3px 1px rgba(0, 0, 0, 0.15);\n",
              "      filter: drop-shadow(0px 1px 2px rgba(0, 0, 0, 0.3));\n",
              "      fill: #FFFFFF;\n",
              "    }\n",
              "  </style>\n",
              "\n",
              "      <script>\n",
              "        const buttonEl =\n",
              "          document.querySelector('#df-d485466a-86d7-4eb2-8e22-de671c9ada33 button.colab-df-convert');\n",
              "        buttonEl.style.display =\n",
              "          google.colab.kernel.accessAllowed ? 'block' : 'none';\n",
              "\n",
              "        async function convertToInteractive(key) {\n",
              "          const element = document.querySelector('#df-d485466a-86d7-4eb2-8e22-de671c9ada33');\n",
              "          const dataTable =\n",
              "            await google.colab.kernel.invokeFunction('convertToInteractive',\n",
              "                                                     [key], {});\n",
              "          if (!dataTable) return;\n",
              "\n",
              "          const docLinkHtml = 'Like what you see? Visit the ' +\n",
              "            '<a target=\"_blank\" href=https://colab.research.google.com/notebooks/data_table.ipynb>data table notebook</a>'\n",
              "            + ' to learn more about interactive tables.';\n",
              "          element.innerHTML = '';\n",
              "          dataTable['output_type'] = 'display_data';\n",
              "          await google.colab.output.renderOutput(dataTable, element);\n",
              "          const docLink = document.createElement('div');\n",
              "          docLink.innerHTML = docLinkHtml;\n",
              "          element.appendChild(docLink);\n",
              "        }\n",
              "      </script>\n",
              "    </div>\n",
              "  </div>\n",
              "  "
            ]
          },
          "metadata": {},
          "execution_count": 83
        }
      ],
      "source": [
        "df_unlabeled.head()"
      ]
    },
    {
      "cell_type": "code",
      "execution_count": null,
      "metadata": {
        "id": "-vVUZe9lZW6E"
      },
      "outputs": [],
      "source": [
        "\n",
        "cols_to_scale = ['lotarea', 'comarea', 'resarea', 'officearea', 'retailarea', \n",
        "                 'numbldgs', 'numfloors', 'unitsres', 'lotfront', 'lotdepth', 'yearbuilt',\n",
        "                 'landmark', 'yearalter1', 'A', 'B', 'C', 'D', 'R', 'S', 'bldg_price']\n",
        "\n",
        "# Create a new dataframe with the selected columns\n",
        "df_unlabeled = df_unlabeled[['bldg_price', 'bbl'] + cols_to_scale]\n",
        "\n",
        "# Initialize the StandardScaler object and fit_transform the selected columns\n",
        "scaler = MinMaxScaler()\n",
        "df_unlabeled[cols_to_scale] = scaler.fit_transform(df_unlabeled[cols_to_scale])"
      ]
    },
    {
      "cell_type": "code",
      "execution_count": null,
      "metadata": {
        "id": "yk8o2vDZZCkF"
      },
      "outputs": [],
      "source": [
        "# Use the trained k-means model to predict cluster assignments for the unlabeled data\n",
        "unlabeled_cluster_assignments = kmeans.predict(df_unlabeled.drop(columns=[ 'bldg_price', 'bbl']))\n",
        "df_unlabeled['cluster_label'] = unlabeled_cluster_assignments\n"
      ]
    },
    {
      "cell_type": "code",
      "source": [
        "df_unlabeled = df_unlabeled.drop(columns = ['bldg_price'])"
      ],
      "metadata": {
        "id": "6pvstTR-pw5o"
      },
      "execution_count": null,
      "outputs": []
    },
    {
      "cell_type": "code",
      "source": [
        "df_labeled.head()"
      ],
      "metadata": {
        "colab": {
          "base_uri": "https://localhost:8080/",
          "height": 270
        },
        "id": "vi2-aAWmpzfE",
        "outputId": "59819219-6325-4924-9d60-8ddbece5a8c2"
      },
      "execution_count": null,
      "outputs": [
        {
          "output_type": "execute_result",
          "data": {
            "text/plain": [
              "             bbl  lotarea  comarea  resarea  officearea  retailarea  numbldgs  \\\n",
              "6  4100870021.00     0.00     0.00     0.00        0.00        0.00      0.00   \n",
              "27 4106250002.00     0.00     0.00     0.00        0.00        0.00      0.00   \n",
              "34 4020090010.00     0.00     0.00     0.00        0.00        0.00      0.00   \n",
              "40 4102350333.00     0.00     0.00     0.00        0.00        0.00      0.00   \n",
              "58 4098470012.00     0.00     0.00     0.00        0.00        0.00      0.00   \n",
              "\n",
              "    numfloors  unitsres  lotfront  lotdepth  yearbuilt  landmark  yearalter1  \\\n",
              "6        0.03      0.00      0.00      0.03       0.66      0.00        0.11   \n",
              "27       0.02      0.00      0.00      0.04       0.68      0.00        0.11   \n",
              "34       0.07      0.00      0.00      0.04       0.99      0.00        0.12   \n",
              "40       0.02      0.00      0.00      0.04       0.68      0.00        0.11   \n",
              "58       0.02      0.00      0.00      0.04       0.78      0.00        0.11   \n",
              "\n",
              "      A    B    C    D    R    S  cluster_label  \n",
              "6  1.00 0.00 0.00 0.00 0.00 0.00              2  \n",
              "27 1.00 0.00 0.00 0.00 0.00 0.00              2  \n",
              "34 0.00 0.00 1.00 0.00 0.00 0.00              1  \n",
              "40 1.00 0.00 0.00 0.00 0.00 0.00              2  \n",
              "58 0.00 1.00 0.00 0.00 0.00 0.00              0  "
            ],
            "text/html": [
              "\n",
              "  <div id=\"df-624556da-5b91-42fe-8e19-cbd1af2b9ce0\">\n",
              "    <div class=\"colab-df-container\">\n",
              "      <div>\n",
              "<style scoped>\n",
              "    .dataframe tbody tr th:only-of-type {\n",
              "        vertical-align: middle;\n",
              "    }\n",
              "\n",
              "    .dataframe tbody tr th {\n",
              "        vertical-align: top;\n",
              "    }\n",
              "\n",
              "    .dataframe thead th {\n",
              "        text-align: right;\n",
              "    }\n",
              "</style>\n",
              "<table border=\"1\" class=\"dataframe\">\n",
              "  <thead>\n",
              "    <tr style=\"text-align: right;\">\n",
              "      <th></th>\n",
              "      <th>bbl</th>\n",
              "      <th>lotarea</th>\n",
              "      <th>comarea</th>\n",
              "      <th>resarea</th>\n",
              "      <th>officearea</th>\n",
              "      <th>retailarea</th>\n",
              "      <th>numbldgs</th>\n",
              "      <th>numfloors</th>\n",
              "      <th>unitsres</th>\n",
              "      <th>lotfront</th>\n",
              "      <th>lotdepth</th>\n",
              "      <th>yearbuilt</th>\n",
              "      <th>landmark</th>\n",
              "      <th>yearalter1</th>\n",
              "      <th>A</th>\n",
              "      <th>B</th>\n",
              "      <th>C</th>\n",
              "      <th>D</th>\n",
              "      <th>R</th>\n",
              "      <th>S</th>\n",
              "      <th>cluster_label</th>\n",
              "    </tr>\n",
              "  </thead>\n",
              "  <tbody>\n",
              "    <tr>\n",
              "      <th>6</th>\n",
              "      <td>4100870021.00</td>\n",
              "      <td>0.00</td>\n",
              "      <td>0.00</td>\n",
              "      <td>0.00</td>\n",
              "      <td>0.00</td>\n",
              "      <td>0.00</td>\n",
              "      <td>0.00</td>\n",
              "      <td>0.03</td>\n",
              "      <td>0.00</td>\n",
              "      <td>0.00</td>\n",
              "      <td>0.03</td>\n",
              "      <td>0.66</td>\n",
              "      <td>0.00</td>\n",
              "      <td>0.11</td>\n",
              "      <td>1.00</td>\n",
              "      <td>0.00</td>\n",
              "      <td>0.00</td>\n",
              "      <td>0.00</td>\n",
              "      <td>0.00</td>\n",
              "      <td>0.00</td>\n",
              "      <td>2</td>\n",
              "    </tr>\n",
              "    <tr>\n",
              "      <th>27</th>\n",
              "      <td>4106250002.00</td>\n",
              "      <td>0.00</td>\n",
              "      <td>0.00</td>\n",
              "      <td>0.00</td>\n",
              "      <td>0.00</td>\n",
              "      <td>0.00</td>\n",
              "      <td>0.00</td>\n",
              "      <td>0.02</td>\n",
              "      <td>0.00</td>\n",
              "      <td>0.00</td>\n",
              "      <td>0.04</td>\n",
              "      <td>0.68</td>\n",
              "      <td>0.00</td>\n",
              "      <td>0.11</td>\n",
              "      <td>1.00</td>\n",
              "      <td>0.00</td>\n",
              "      <td>0.00</td>\n",
              "      <td>0.00</td>\n",
              "      <td>0.00</td>\n",
              "      <td>0.00</td>\n",
              "      <td>2</td>\n",
              "    </tr>\n",
              "    <tr>\n",
              "      <th>34</th>\n",
              "      <td>4020090010.00</td>\n",
              "      <td>0.00</td>\n",
              "      <td>0.00</td>\n",
              "      <td>0.00</td>\n",
              "      <td>0.00</td>\n",
              "      <td>0.00</td>\n",
              "      <td>0.00</td>\n",
              "      <td>0.07</td>\n",
              "      <td>0.00</td>\n",
              "      <td>0.00</td>\n",
              "      <td>0.04</td>\n",
              "      <td>0.99</td>\n",
              "      <td>0.00</td>\n",
              "      <td>0.12</td>\n",
              "      <td>0.00</td>\n",
              "      <td>0.00</td>\n",
              "      <td>1.00</td>\n",
              "      <td>0.00</td>\n",
              "      <td>0.00</td>\n",
              "      <td>0.00</td>\n",
              "      <td>1</td>\n",
              "    </tr>\n",
              "    <tr>\n",
              "      <th>40</th>\n",
              "      <td>4102350333.00</td>\n",
              "      <td>0.00</td>\n",
              "      <td>0.00</td>\n",
              "      <td>0.00</td>\n",
              "      <td>0.00</td>\n",
              "      <td>0.00</td>\n",
              "      <td>0.00</td>\n",
              "      <td>0.02</td>\n",
              "      <td>0.00</td>\n",
              "      <td>0.00</td>\n",
              "      <td>0.04</td>\n",
              "      <td>0.68</td>\n",
              "      <td>0.00</td>\n",
              "      <td>0.11</td>\n",
              "      <td>1.00</td>\n",
              "      <td>0.00</td>\n",
              "      <td>0.00</td>\n",
              "      <td>0.00</td>\n",
              "      <td>0.00</td>\n",
              "      <td>0.00</td>\n",
              "      <td>2</td>\n",
              "    </tr>\n",
              "    <tr>\n",
              "      <th>58</th>\n",
              "      <td>4098470012.00</td>\n",
              "      <td>0.00</td>\n",
              "      <td>0.00</td>\n",
              "      <td>0.00</td>\n",
              "      <td>0.00</td>\n",
              "      <td>0.00</td>\n",
              "      <td>0.00</td>\n",
              "      <td>0.02</td>\n",
              "      <td>0.00</td>\n",
              "      <td>0.00</td>\n",
              "      <td>0.04</td>\n",
              "      <td>0.78</td>\n",
              "      <td>0.00</td>\n",
              "      <td>0.11</td>\n",
              "      <td>0.00</td>\n",
              "      <td>1.00</td>\n",
              "      <td>0.00</td>\n",
              "      <td>0.00</td>\n",
              "      <td>0.00</td>\n",
              "      <td>0.00</td>\n",
              "      <td>0</td>\n",
              "    </tr>\n",
              "  </tbody>\n",
              "</table>\n",
              "</div>\n",
              "      <button class=\"colab-df-convert\" onclick=\"convertToInteractive('df-624556da-5b91-42fe-8e19-cbd1af2b9ce0')\"\n",
              "              title=\"Convert this dataframe to an interactive table.\"\n",
              "              style=\"display:none;\">\n",
              "        \n",
              "  <svg xmlns=\"http://www.w3.org/2000/svg\" height=\"24px\"viewBox=\"0 0 24 24\"\n",
              "       width=\"24px\">\n",
              "    <path d=\"M0 0h24v24H0V0z\" fill=\"none\"/>\n",
              "    <path d=\"M18.56 5.44l.94 2.06.94-2.06 2.06-.94-2.06-.94-.94-2.06-.94 2.06-2.06.94zm-11 1L8.5 8.5l.94-2.06 2.06-.94-2.06-.94L8.5 2.5l-.94 2.06-2.06.94zm10 10l.94 2.06.94-2.06 2.06-.94-2.06-.94-.94-2.06-.94 2.06-2.06.94z\"/><path d=\"M17.41 7.96l-1.37-1.37c-.4-.4-.92-.59-1.43-.59-.52 0-1.04.2-1.43.59L10.3 9.45l-7.72 7.72c-.78.78-.78 2.05 0 2.83L4 21.41c.39.39.9.59 1.41.59.51 0 1.02-.2 1.41-.59l7.78-7.78 2.81-2.81c.8-.78.8-2.07 0-2.86zM5.41 20L4 18.59l7.72-7.72 1.47 1.35L5.41 20z\"/>\n",
              "  </svg>\n",
              "      </button>\n",
              "      \n",
              "  <style>\n",
              "    .colab-df-container {\n",
              "      display:flex;\n",
              "      flex-wrap:wrap;\n",
              "      gap: 12px;\n",
              "    }\n",
              "\n",
              "    .colab-df-convert {\n",
              "      background-color: #E8F0FE;\n",
              "      border: none;\n",
              "      border-radius: 50%;\n",
              "      cursor: pointer;\n",
              "      display: none;\n",
              "      fill: #1967D2;\n",
              "      height: 32px;\n",
              "      padding: 0 0 0 0;\n",
              "      width: 32px;\n",
              "    }\n",
              "\n",
              "    .colab-df-convert:hover {\n",
              "      background-color: #E2EBFA;\n",
              "      box-shadow: 0px 1px 2px rgba(60, 64, 67, 0.3), 0px 1px 3px 1px rgba(60, 64, 67, 0.15);\n",
              "      fill: #174EA6;\n",
              "    }\n",
              "\n",
              "    [theme=dark] .colab-df-convert {\n",
              "      background-color: #3B4455;\n",
              "      fill: #D2E3FC;\n",
              "    }\n",
              "\n",
              "    [theme=dark] .colab-df-convert:hover {\n",
              "      background-color: #434B5C;\n",
              "      box-shadow: 0px 1px 3px 1px rgba(0, 0, 0, 0.15);\n",
              "      filter: drop-shadow(0px 1px 2px rgba(0, 0, 0, 0.3));\n",
              "      fill: #FFFFFF;\n",
              "    }\n",
              "  </style>\n",
              "\n",
              "      <script>\n",
              "        const buttonEl =\n",
              "          document.querySelector('#df-624556da-5b91-42fe-8e19-cbd1af2b9ce0 button.colab-df-convert');\n",
              "        buttonEl.style.display =\n",
              "          google.colab.kernel.accessAllowed ? 'block' : 'none';\n",
              "\n",
              "        async function convertToInteractive(key) {\n",
              "          const element = document.querySelector('#df-624556da-5b91-42fe-8e19-cbd1af2b9ce0');\n",
              "          const dataTable =\n",
              "            await google.colab.kernel.invokeFunction('convertToInteractive',\n",
              "                                                     [key], {});\n",
              "          if (!dataTable) return;\n",
              "\n",
              "          const docLinkHtml = 'Like what you see? Visit the ' +\n",
              "            '<a target=\"_blank\" href=https://colab.research.google.com/notebooks/data_table.ipynb>data table notebook</a>'\n",
              "            + ' to learn more about interactive tables.';\n",
              "          element.innerHTML = '';\n",
              "          dataTable['output_type'] = 'display_data';\n",
              "          await google.colab.output.renderOutput(dataTable, element);\n",
              "          const docLink = document.createElement('div');\n",
              "          docLink.innerHTML = docLinkHtml;\n",
              "          element.appendChild(docLink);\n",
              "        }\n",
              "      </script>\n",
              "    </div>\n",
              "  </div>\n",
              "  "
            ]
          },
          "metadata": {},
          "execution_count": 87
        }
      ]
    },
    {
      "cell_type": "code",
      "execution_count": null,
      "metadata": {
        "id": "A4SX17Mdb77B"
      },
      "outputs": [],
      "source": [
        "cluster_labels = pd.concat([df_labeled , df_unlabeled], axis = 0)\n"
      ]
    },
    {
      "cell_type": "code",
      "source": [
        "cluster_labels = cluster_labels[['bbl', 'cluster_label']]\n",
        "cluster_labels = copy.merge(cluster_labels, right_on = 'bbl', left_on = 'bbl')"
      ],
      "metadata": {
        "id": "IvKsxDPvqJpg"
      },
      "execution_count": null,
      "outputs": []
    },
    {
      "cell_type": "code",
      "source": [
        "cluster_labels.head()"
      ],
      "metadata": {
        "colab": {
          "base_uri": "https://localhost:8080/",
          "height": 270
        },
        "id": "mhEDsHDQqnjE",
        "outputId": "41b7797e-c048-445b-c278-ed81a99bfd75"
      },
      "execution_count": null,
      "outputs": [
        {
          "output_type": "execute_result",
          "data": {
            "text/plain": [
              "            bbl  lotarea  comarea  resarea  officearea  retailarea  numbldgs  \\\n",
              "0 2022860024.00  1666.00     0.00  1216.00        0.00        0.00      1.00   \n",
              "1 2022860103.00  1874.00     0.00  1440.00        0.00        0.00      1.00   \n",
              "2 1012490146.00  1812.00     0.00  4378.00        0.00        0.00      1.00   \n",
              "3 1012490149.00  2115.00     0.00  6750.00        0.00        0.00      1.00   \n",
              "4 4119390131.00  3000.00     0.00  1764.00        0.00        0.00      1.00   \n",
              "\n",
              "   numfloors  unitsres  lotfront  lotdepth  yearbuilt  landmark  yearalter1  \\\n",
              "0       2.00      1.00     16.67    100.00    1910.00      0.00     2006.00   \n",
              "1       2.00      2.00     18.75    100.00    1910.00      0.00     2006.00   \n",
              "2       4.00      9.00     18.00    100.67    1893.00      0.00     2006.00   \n",
              "3       4.00     10.00     21.00    100.67    1894.00      0.00     2006.00   \n",
              "4       2.00      2.00     30.00    100.00    1960.00      0.00     2006.00   \n",
              "\n",
              "   bldg_price  A  B  C  D  R  S  cluster_label  \n",
              "0        0.00  1  0  0  0  0  0              2  \n",
              "1        0.00  0  1  0  0  0  0              0  \n",
              "2        0.00  0  0  1  0  0  0              1  \n",
              "3        0.00  0  0  1  0  0  0              1  \n",
              "4        0.00  0  1  0  0  0  0              0  "
            ],
            "text/html": [
              "\n",
              "  <div id=\"df-68b70897-7397-44ff-acfb-1e5ae468d1ad\">\n",
              "    <div class=\"colab-df-container\">\n",
              "      <div>\n",
              "<style scoped>\n",
              "    .dataframe tbody tr th:only-of-type {\n",
              "        vertical-align: middle;\n",
              "    }\n",
              "\n",
              "    .dataframe tbody tr th {\n",
              "        vertical-align: top;\n",
              "    }\n",
              "\n",
              "    .dataframe thead th {\n",
              "        text-align: right;\n",
              "    }\n",
              "</style>\n",
              "<table border=\"1\" class=\"dataframe\">\n",
              "  <thead>\n",
              "    <tr style=\"text-align: right;\">\n",
              "      <th></th>\n",
              "      <th>bbl</th>\n",
              "      <th>lotarea</th>\n",
              "      <th>comarea</th>\n",
              "      <th>resarea</th>\n",
              "      <th>officearea</th>\n",
              "      <th>retailarea</th>\n",
              "      <th>numbldgs</th>\n",
              "      <th>numfloors</th>\n",
              "      <th>unitsres</th>\n",
              "      <th>lotfront</th>\n",
              "      <th>lotdepth</th>\n",
              "      <th>yearbuilt</th>\n",
              "      <th>landmark</th>\n",
              "      <th>yearalter1</th>\n",
              "      <th>bldg_price</th>\n",
              "      <th>A</th>\n",
              "      <th>B</th>\n",
              "      <th>C</th>\n",
              "      <th>D</th>\n",
              "      <th>R</th>\n",
              "      <th>S</th>\n",
              "      <th>cluster_label</th>\n",
              "    </tr>\n",
              "  </thead>\n",
              "  <tbody>\n",
              "    <tr>\n",
              "      <th>0</th>\n",
              "      <td>2022860024.00</td>\n",
              "      <td>1666.00</td>\n",
              "      <td>0.00</td>\n",
              "      <td>1216.00</td>\n",
              "      <td>0.00</td>\n",
              "      <td>0.00</td>\n",
              "      <td>1.00</td>\n",
              "      <td>2.00</td>\n",
              "      <td>1.00</td>\n",
              "      <td>16.67</td>\n",
              "      <td>100.00</td>\n",
              "      <td>1910.00</td>\n",
              "      <td>0.00</td>\n",
              "      <td>2006.00</td>\n",
              "      <td>0.00</td>\n",
              "      <td>1</td>\n",
              "      <td>0</td>\n",
              "      <td>0</td>\n",
              "      <td>0</td>\n",
              "      <td>0</td>\n",
              "      <td>0</td>\n",
              "      <td>2</td>\n",
              "    </tr>\n",
              "    <tr>\n",
              "      <th>1</th>\n",
              "      <td>2022860103.00</td>\n",
              "      <td>1874.00</td>\n",
              "      <td>0.00</td>\n",
              "      <td>1440.00</td>\n",
              "      <td>0.00</td>\n",
              "      <td>0.00</td>\n",
              "      <td>1.00</td>\n",
              "      <td>2.00</td>\n",
              "      <td>2.00</td>\n",
              "      <td>18.75</td>\n",
              "      <td>100.00</td>\n",
              "      <td>1910.00</td>\n",
              "      <td>0.00</td>\n",
              "      <td>2006.00</td>\n",
              "      <td>0.00</td>\n",
              "      <td>0</td>\n",
              "      <td>1</td>\n",
              "      <td>0</td>\n",
              "      <td>0</td>\n",
              "      <td>0</td>\n",
              "      <td>0</td>\n",
              "      <td>0</td>\n",
              "    </tr>\n",
              "    <tr>\n",
              "      <th>2</th>\n",
              "      <td>1012490146.00</td>\n",
              "      <td>1812.00</td>\n",
              "      <td>0.00</td>\n",
              "      <td>4378.00</td>\n",
              "      <td>0.00</td>\n",
              "      <td>0.00</td>\n",
              "      <td>1.00</td>\n",
              "      <td>4.00</td>\n",
              "      <td>9.00</td>\n",
              "      <td>18.00</td>\n",
              "      <td>100.67</td>\n",
              "      <td>1893.00</td>\n",
              "      <td>0.00</td>\n",
              "      <td>2006.00</td>\n",
              "      <td>0.00</td>\n",
              "      <td>0</td>\n",
              "      <td>0</td>\n",
              "      <td>1</td>\n",
              "      <td>0</td>\n",
              "      <td>0</td>\n",
              "      <td>0</td>\n",
              "      <td>1</td>\n",
              "    </tr>\n",
              "    <tr>\n",
              "      <th>3</th>\n",
              "      <td>1012490149.00</td>\n",
              "      <td>2115.00</td>\n",
              "      <td>0.00</td>\n",
              "      <td>6750.00</td>\n",
              "      <td>0.00</td>\n",
              "      <td>0.00</td>\n",
              "      <td>1.00</td>\n",
              "      <td>4.00</td>\n",
              "      <td>10.00</td>\n",
              "      <td>21.00</td>\n",
              "      <td>100.67</td>\n",
              "      <td>1894.00</td>\n",
              "      <td>0.00</td>\n",
              "      <td>2006.00</td>\n",
              "      <td>0.00</td>\n",
              "      <td>0</td>\n",
              "      <td>0</td>\n",
              "      <td>1</td>\n",
              "      <td>0</td>\n",
              "      <td>0</td>\n",
              "      <td>0</td>\n",
              "      <td>1</td>\n",
              "    </tr>\n",
              "    <tr>\n",
              "      <th>4</th>\n",
              "      <td>4119390131.00</td>\n",
              "      <td>3000.00</td>\n",
              "      <td>0.00</td>\n",
              "      <td>1764.00</td>\n",
              "      <td>0.00</td>\n",
              "      <td>0.00</td>\n",
              "      <td>1.00</td>\n",
              "      <td>2.00</td>\n",
              "      <td>2.00</td>\n",
              "      <td>30.00</td>\n",
              "      <td>100.00</td>\n",
              "      <td>1960.00</td>\n",
              "      <td>0.00</td>\n",
              "      <td>2006.00</td>\n",
              "      <td>0.00</td>\n",
              "      <td>0</td>\n",
              "      <td>1</td>\n",
              "      <td>0</td>\n",
              "      <td>0</td>\n",
              "      <td>0</td>\n",
              "      <td>0</td>\n",
              "      <td>0</td>\n",
              "    </tr>\n",
              "  </tbody>\n",
              "</table>\n",
              "</div>\n",
              "      <button class=\"colab-df-convert\" onclick=\"convertToInteractive('df-68b70897-7397-44ff-acfb-1e5ae468d1ad')\"\n",
              "              title=\"Convert this dataframe to an interactive table.\"\n",
              "              style=\"display:none;\">\n",
              "        \n",
              "  <svg xmlns=\"http://www.w3.org/2000/svg\" height=\"24px\"viewBox=\"0 0 24 24\"\n",
              "       width=\"24px\">\n",
              "    <path d=\"M0 0h24v24H0V0z\" fill=\"none\"/>\n",
              "    <path d=\"M18.56 5.44l.94 2.06.94-2.06 2.06-.94-2.06-.94-.94-2.06-.94 2.06-2.06.94zm-11 1L8.5 8.5l.94-2.06 2.06-.94-2.06-.94L8.5 2.5l-.94 2.06-2.06.94zm10 10l.94 2.06.94-2.06 2.06-.94-2.06-.94-.94-2.06-.94 2.06-2.06.94z\"/><path d=\"M17.41 7.96l-1.37-1.37c-.4-.4-.92-.59-1.43-.59-.52 0-1.04.2-1.43.59L10.3 9.45l-7.72 7.72c-.78.78-.78 2.05 0 2.83L4 21.41c.39.39.9.59 1.41.59.51 0 1.02-.2 1.41-.59l7.78-7.78 2.81-2.81c.8-.78.8-2.07 0-2.86zM5.41 20L4 18.59l7.72-7.72 1.47 1.35L5.41 20z\"/>\n",
              "  </svg>\n",
              "      </button>\n",
              "      \n",
              "  <style>\n",
              "    .colab-df-container {\n",
              "      display:flex;\n",
              "      flex-wrap:wrap;\n",
              "      gap: 12px;\n",
              "    }\n",
              "\n",
              "    .colab-df-convert {\n",
              "      background-color: #E8F0FE;\n",
              "      border: none;\n",
              "      border-radius: 50%;\n",
              "      cursor: pointer;\n",
              "      display: none;\n",
              "      fill: #1967D2;\n",
              "      height: 32px;\n",
              "      padding: 0 0 0 0;\n",
              "      width: 32px;\n",
              "    }\n",
              "\n",
              "    .colab-df-convert:hover {\n",
              "      background-color: #E2EBFA;\n",
              "      box-shadow: 0px 1px 2px rgba(60, 64, 67, 0.3), 0px 1px 3px 1px rgba(60, 64, 67, 0.15);\n",
              "      fill: #174EA6;\n",
              "    }\n",
              "\n",
              "    [theme=dark] .colab-df-convert {\n",
              "      background-color: #3B4455;\n",
              "      fill: #D2E3FC;\n",
              "    }\n",
              "\n",
              "    [theme=dark] .colab-df-convert:hover {\n",
              "      background-color: #434B5C;\n",
              "      box-shadow: 0px 1px 3px 1px rgba(0, 0, 0, 0.15);\n",
              "      filter: drop-shadow(0px 1px 2px rgba(0, 0, 0, 0.3));\n",
              "      fill: #FFFFFF;\n",
              "    }\n",
              "  </style>\n",
              "\n",
              "      <script>\n",
              "        const buttonEl =\n",
              "          document.querySelector('#df-68b70897-7397-44ff-acfb-1e5ae468d1ad button.colab-df-convert');\n",
              "        buttonEl.style.display =\n",
              "          google.colab.kernel.accessAllowed ? 'block' : 'none';\n",
              "\n",
              "        async function convertToInteractive(key) {\n",
              "          const element = document.querySelector('#df-68b70897-7397-44ff-acfb-1e5ae468d1ad');\n",
              "          const dataTable =\n",
              "            await google.colab.kernel.invokeFunction('convertToInteractive',\n",
              "                                                     [key], {});\n",
              "          if (!dataTable) return;\n",
              "\n",
              "          const docLinkHtml = 'Like what you see? Visit the ' +\n",
              "            '<a target=\"_blank\" href=https://colab.research.google.com/notebooks/data_table.ipynb>data table notebook</a>'\n",
              "            + ' to learn more about interactive tables.';\n",
              "          element.innerHTML = '';\n",
              "          dataTable['output_type'] = 'display_data';\n",
              "          await google.colab.output.renderOutput(dataTable, element);\n",
              "          const docLink = document.createElement('div');\n",
              "          docLink.innerHTML = docLinkHtml;\n",
              "          element.appendChild(docLink);\n",
              "        }\n",
              "      </script>\n",
              "    </div>\n",
              "  </div>\n",
              "  "
            ]
          },
          "metadata": {},
          "execution_count": 90
        }
      ]
    },
    {
      "cell_type": "code",
      "execution_count": null,
      "metadata": {
        "id": "HXifIDC9RKza"
      },
      "outputs": [],
      "source": [
        "#properties of clusters\n",
        "summary =cluster_labels.groupby(['cluster_label']).agg({'A': 'sum', 'B' :'sum', 'C'  :'sum' ,\n",
        "       'D':'sum', 'R':'sum',\n",
        "       'S':'sum', 'lotarea': 'mean', 'comarea': 'mean', 'resarea': 'mean', 'officearea': 'mean', 'retailarea': 'mean', 'numbldgs': 'mean', 'numfloors': 'mean', 'unitsres': 'mean', 'lotfront': 'mean',\n",
        "       'lotdepth': 'mean', 'yearbuilt': 'mean', 'landmark': 'mean', 'yearalter1': 'mean'}).reset_index()\n"
      ]
    },
    {
      "cell_type": "code",
      "execution_count": null,
      "metadata": {
        "colab": {
          "base_uri": "https://localhost:8080/",
          "height": 270
        },
        "id": "KiRlDxdTdXGD",
        "outputId": "533b5a94-901a-4374-9e65-8f8bc77a0358"
      },
      "outputs": [
        {
          "output_type": "execute_result",
          "data": {
            "text/plain": [
              "   cluster_label       A       B       C      D     R      S  lotarea  \\\n",
              "0              0       0  250641       0      0     0      0  2935.16   \n",
              "1              1       0       0  134566      0     0      0  3452.43   \n",
              "2              2  311961       0       0      0     0      0  3461.90   \n",
              "3              3       0       0       0  15014   191      0 26404.77   \n",
              "4              4       0       0       0      0  9416  33212  4613.13   \n",
              "\n",
              "   comarea  resarea  officearea  retailarea  numbldgs  numfloors  unitsres  \\\n",
              "0     0.18  1987.01        0.01        0.00      1.29       2.12      2.00   \n",
              "1   151.50  5628.53       11.07      126.29      1.26       3.06      7.04   \n",
              "2     0.12  1552.85        0.01        0.00      1.38       2.00      1.01   \n",
              "3  5233.11 89955.08      942.18     1799.96      1.31       8.75     94.08   \n",
              "4  2305.39  9380.83      344.66     1361.47      1.38       3.50      9.22   \n",
              "\n",
              "   lotfront  lotdepth  yearbuilt  landmark  yearalter1  \n",
              "0     29.62    100.00    1940.91      0.00     2006.21  \n",
              "1     31.43     99.56    1933.19      0.00     2004.50  \n",
              "2     33.73     99.76    1944.33      0.00     2006.06  \n",
              "3    129.34    138.43    1950.03      0.01     2001.49  \n",
              "4     33.43     95.21    1935.44      0.00     2005.49  "
            ],
            "text/html": [
              "\n",
              "  <div id=\"df-eae10d45-f3dd-40a2-955a-f521808c25d3\">\n",
              "    <div class=\"colab-df-container\">\n",
              "      <div>\n",
              "<style scoped>\n",
              "    .dataframe tbody tr th:only-of-type {\n",
              "        vertical-align: middle;\n",
              "    }\n",
              "\n",
              "    .dataframe tbody tr th {\n",
              "        vertical-align: top;\n",
              "    }\n",
              "\n",
              "    .dataframe thead th {\n",
              "        text-align: right;\n",
              "    }\n",
              "</style>\n",
              "<table border=\"1\" class=\"dataframe\">\n",
              "  <thead>\n",
              "    <tr style=\"text-align: right;\">\n",
              "      <th></th>\n",
              "      <th>cluster_label</th>\n",
              "      <th>A</th>\n",
              "      <th>B</th>\n",
              "      <th>C</th>\n",
              "      <th>D</th>\n",
              "      <th>R</th>\n",
              "      <th>S</th>\n",
              "      <th>lotarea</th>\n",
              "      <th>comarea</th>\n",
              "      <th>resarea</th>\n",
              "      <th>officearea</th>\n",
              "      <th>retailarea</th>\n",
              "      <th>numbldgs</th>\n",
              "      <th>numfloors</th>\n",
              "      <th>unitsres</th>\n",
              "      <th>lotfront</th>\n",
              "      <th>lotdepth</th>\n",
              "      <th>yearbuilt</th>\n",
              "      <th>landmark</th>\n",
              "      <th>yearalter1</th>\n",
              "    </tr>\n",
              "  </thead>\n",
              "  <tbody>\n",
              "    <tr>\n",
              "      <th>0</th>\n",
              "      <td>0</td>\n",
              "      <td>0</td>\n",
              "      <td>250641</td>\n",
              "      <td>0</td>\n",
              "      <td>0</td>\n",
              "      <td>0</td>\n",
              "      <td>0</td>\n",
              "      <td>2935.16</td>\n",
              "      <td>0.18</td>\n",
              "      <td>1987.01</td>\n",
              "      <td>0.01</td>\n",
              "      <td>0.00</td>\n",
              "      <td>1.29</td>\n",
              "      <td>2.12</td>\n",
              "      <td>2.00</td>\n",
              "      <td>29.62</td>\n",
              "      <td>100.00</td>\n",
              "      <td>1940.91</td>\n",
              "      <td>0.00</td>\n",
              "      <td>2006.21</td>\n",
              "    </tr>\n",
              "    <tr>\n",
              "      <th>1</th>\n",
              "      <td>1</td>\n",
              "      <td>0</td>\n",
              "      <td>0</td>\n",
              "      <td>134566</td>\n",
              "      <td>0</td>\n",
              "      <td>0</td>\n",
              "      <td>0</td>\n",
              "      <td>3452.43</td>\n",
              "      <td>151.50</td>\n",
              "      <td>5628.53</td>\n",
              "      <td>11.07</td>\n",
              "      <td>126.29</td>\n",
              "      <td>1.26</td>\n",
              "      <td>3.06</td>\n",
              "      <td>7.04</td>\n",
              "      <td>31.43</td>\n",
              "      <td>99.56</td>\n",
              "      <td>1933.19</td>\n",
              "      <td>0.00</td>\n",
              "      <td>2004.50</td>\n",
              "    </tr>\n",
              "    <tr>\n",
              "      <th>2</th>\n",
              "      <td>2</td>\n",
              "      <td>311961</td>\n",
              "      <td>0</td>\n",
              "      <td>0</td>\n",
              "      <td>0</td>\n",
              "      <td>0</td>\n",
              "      <td>0</td>\n",
              "      <td>3461.90</td>\n",
              "      <td>0.12</td>\n",
              "      <td>1552.85</td>\n",
              "      <td>0.01</td>\n",
              "      <td>0.00</td>\n",
              "      <td>1.38</td>\n",
              "      <td>2.00</td>\n",
              "      <td>1.01</td>\n",
              "      <td>33.73</td>\n",
              "      <td>99.76</td>\n",
              "      <td>1944.33</td>\n",
              "      <td>0.00</td>\n",
              "      <td>2006.06</td>\n",
              "    </tr>\n",
              "    <tr>\n",
              "      <th>3</th>\n",
              "      <td>3</td>\n",
              "      <td>0</td>\n",
              "      <td>0</td>\n",
              "      <td>0</td>\n",
              "      <td>15014</td>\n",
              "      <td>191</td>\n",
              "      <td>0</td>\n",
              "      <td>26404.77</td>\n",
              "      <td>5233.11</td>\n",
              "      <td>89955.08</td>\n",
              "      <td>942.18</td>\n",
              "      <td>1799.96</td>\n",
              "      <td>1.31</td>\n",
              "      <td>8.75</td>\n",
              "      <td>94.08</td>\n",
              "      <td>129.34</td>\n",
              "      <td>138.43</td>\n",
              "      <td>1950.03</td>\n",
              "      <td>0.01</td>\n",
              "      <td>2001.49</td>\n",
              "    </tr>\n",
              "    <tr>\n",
              "      <th>4</th>\n",
              "      <td>4</td>\n",
              "      <td>0</td>\n",
              "      <td>0</td>\n",
              "      <td>0</td>\n",
              "      <td>0</td>\n",
              "      <td>9416</td>\n",
              "      <td>33212</td>\n",
              "      <td>4613.13</td>\n",
              "      <td>2305.39</td>\n",
              "      <td>9380.83</td>\n",
              "      <td>344.66</td>\n",
              "      <td>1361.47</td>\n",
              "      <td>1.38</td>\n",
              "      <td>3.50</td>\n",
              "      <td>9.22</td>\n",
              "      <td>33.43</td>\n",
              "      <td>95.21</td>\n",
              "      <td>1935.44</td>\n",
              "      <td>0.00</td>\n",
              "      <td>2005.49</td>\n",
              "    </tr>\n",
              "  </tbody>\n",
              "</table>\n",
              "</div>\n",
              "      <button class=\"colab-df-convert\" onclick=\"convertToInteractive('df-eae10d45-f3dd-40a2-955a-f521808c25d3')\"\n",
              "              title=\"Convert this dataframe to an interactive table.\"\n",
              "              style=\"display:none;\">\n",
              "        \n",
              "  <svg xmlns=\"http://www.w3.org/2000/svg\" height=\"24px\"viewBox=\"0 0 24 24\"\n",
              "       width=\"24px\">\n",
              "    <path d=\"M0 0h24v24H0V0z\" fill=\"none\"/>\n",
              "    <path d=\"M18.56 5.44l.94 2.06.94-2.06 2.06-.94-2.06-.94-.94-2.06-.94 2.06-2.06.94zm-11 1L8.5 8.5l.94-2.06 2.06-.94-2.06-.94L8.5 2.5l-.94 2.06-2.06.94zm10 10l.94 2.06.94-2.06 2.06-.94-2.06-.94-.94-2.06-.94 2.06-2.06.94z\"/><path d=\"M17.41 7.96l-1.37-1.37c-.4-.4-.92-.59-1.43-.59-.52 0-1.04.2-1.43.59L10.3 9.45l-7.72 7.72c-.78.78-.78 2.05 0 2.83L4 21.41c.39.39.9.59 1.41.59.51 0 1.02-.2 1.41-.59l7.78-7.78 2.81-2.81c.8-.78.8-2.07 0-2.86zM5.41 20L4 18.59l7.72-7.72 1.47 1.35L5.41 20z\"/>\n",
              "  </svg>\n",
              "      </button>\n",
              "      \n",
              "  <style>\n",
              "    .colab-df-container {\n",
              "      display:flex;\n",
              "      flex-wrap:wrap;\n",
              "      gap: 12px;\n",
              "    }\n",
              "\n",
              "    .colab-df-convert {\n",
              "      background-color: #E8F0FE;\n",
              "      border: none;\n",
              "      border-radius: 50%;\n",
              "      cursor: pointer;\n",
              "      display: none;\n",
              "      fill: #1967D2;\n",
              "      height: 32px;\n",
              "      padding: 0 0 0 0;\n",
              "      width: 32px;\n",
              "    }\n",
              "\n",
              "    .colab-df-convert:hover {\n",
              "      background-color: #E2EBFA;\n",
              "      box-shadow: 0px 1px 2px rgba(60, 64, 67, 0.3), 0px 1px 3px 1px rgba(60, 64, 67, 0.15);\n",
              "      fill: #174EA6;\n",
              "    }\n",
              "\n",
              "    [theme=dark] .colab-df-convert {\n",
              "      background-color: #3B4455;\n",
              "      fill: #D2E3FC;\n",
              "    }\n",
              "\n",
              "    [theme=dark] .colab-df-convert:hover {\n",
              "      background-color: #434B5C;\n",
              "      box-shadow: 0px 1px 3px 1px rgba(0, 0, 0, 0.15);\n",
              "      filter: drop-shadow(0px 1px 2px rgba(0, 0, 0, 0.3));\n",
              "      fill: #FFFFFF;\n",
              "    }\n",
              "  </style>\n",
              "\n",
              "      <script>\n",
              "        const buttonEl =\n",
              "          document.querySelector('#df-eae10d45-f3dd-40a2-955a-f521808c25d3 button.colab-df-convert');\n",
              "        buttonEl.style.display =\n",
              "          google.colab.kernel.accessAllowed ? 'block' : 'none';\n",
              "\n",
              "        async function convertToInteractive(key) {\n",
              "          const element = document.querySelector('#df-eae10d45-f3dd-40a2-955a-f521808c25d3');\n",
              "          const dataTable =\n",
              "            await google.colab.kernel.invokeFunction('convertToInteractive',\n",
              "                                                     [key], {});\n",
              "          if (!dataTable) return;\n",
              "\n",
              "          const docLinkHtml = 'Like what you see? Visit the ' +\n",
              "            '<a target=\"_blank\" href=https://colab.research.google.com/notebooks/data_table.ipynb>data table notebook</a>'\n",
              "            + ' to learn more about interactive tables.';\n",
              "          element.innerHTML = '';\n",
              "          dataTable['output_type'] = 'display_data';\n",
              "          await google.colab.output.renderOutput(dataTable, element);\n",
              "          const docLink = document.createElement('div');\n",
              "          docLink.innerHTML = docLinkHtml;\n",
              "          element.appendChild(docLink);\n",
              "        }\n",
              "      </script>\n",
              "    </div>\n",
              "  </div>\n",
              "  "
            ]
          },
          "metadata": {},
          "execution_count": 92
        }
      ],
      "source": [
        "summary.head(10)"
      ]
    },
    {
      "cell_type": "code",
      "source": [
        "summary.to_csv('summary.csv')"
      ],
      "metadata": {
        "id": "VXakIVsJrxMe"
      },
      "execution_count": null,
      "outputs": []
    },
    {
      "cell_type": "code",
      "execution_count": null,
      "metadata": {
        "colab": {
          "base_uri": "https://localhost:8080/"
        },
        "id": "0DlIEwVZcqB_",
        "outputId": "64f91dbe-3c95-42a1-c0c5-07028ccc742a"
      },
      "outputs": [
        {
          "output_type": "stream",
          "name": "stdout",
          "text": [
            "Inertia: 1130.4462064622503\n"
          ]
        }
      ],
      "source": [
        "inertia = kmeans.inertia_\n",
        "\n",
        "print(f\"Inertia: {inertia}\")"
      ]
    },
    {
      "cell_type": "markdown",
      "metadata": {
        "id": "QG2H3dyQyOFO"
      },
      "source": [
        "# Loading Spatial Data in "
      ]
    },
    {
      "cell_type": "code",
      "execution_count": null,
      "metadata": {
        "colab": {
          "base_uri": "https://localhost:8080/",
          "height": 206
        },
        "id": "cZA2F-Oxyq8v",
        "outputId": "7b98bf38-343c-4171-9601-d068819935fb"
      },
      "outputs": [
        {
          "output_type": "execute_result",
          "data": {
            "text/plain": [
              "            BBL                                           geometry\n",
              "0 1000010101.00  MULTIPOLYGON (((972409.690 190685.560, 972428....\n",
              "1 1000010201.00  POLYGON ((973648.661 193712.461, 973648.066 19...\n",
              "2 1000030001.00  MULTIPOLYGON (((980152.176 194762.899, 980089....\n",
              "3 1000030003.00  POLYGON ((980713.169 194965.339, 980726.198 19...\n",
              "4 1000030004.00  POLYGON ((980403.205 194731.754, 980401.324 19..."
            ],
            "text/html": [
              "\n",
              "  <div id=\"df-1c18b8b0-ab31-4b5a-9eec-7f304f156d5c\">\n",
              "    <div class=\"colab-df-container\">\n",
              "      <div>\n",
              "<style scoped>\n",
              "    .dataframe tbody tr th:only-of-type {\n",
              "        vertical-align: middle;\n",
              "    }\n",
              "\n",
              "    .dataframe tbody tr th {\n",
              "        vertical-align: top;\n",
              "    }\n",
              "\n",
              "    .dataframe thead th {\n",
              "        text-align: right;\n",
              "    }\n",
              "</style>\n",
              "<table border=\"1\" class=\"dataframe\">\n",
              "  <thead>\n",
              "    <tr style=\"text-align: right;\">\n",
              "      <th></th>\n",
              "      <th>BBL</th>\n",
              "      <th>geometry</th>\n",
              "    </tr>\n",
              "  </thead>\n",
              "  <tbody>\n",
              "    <tr>\n",
              "      <th>0</th>\n",
              "      <td>1000010101.00</td>\n",
              "      <td>MULTIPOLYGON (((972409.690 190685.560, 972428....</td>\n",
              "    </tr>\n",
              "    <tr>\n",
              "      <th>1</th>\n",
              "      <td>1000010201.00</td>\n",
              "      <td>POLYGON ((973648.661 193712.461, 973648.066 19...</td>\n",
              "    </tr>\n",
              "    <tr>\n",
              "      <th>2</th>\n",
              "      <td>1000030001.00</td>\n",
              "      <td>MULTIPOLYGON (((980152.176 194762.899, 980089....</td>\n",
              "    </tr>\n",
              "    <tr>\n",
              "      <th>3</th>\n",
              "      <td>1000030003.00</td>\n",
              "      <td>POLYGON ((980713.169 194965.339, 980726.198 19...</td>\n",
              "    </tr>\n",
              "    <tr>\n",
              "      <th>4</th>\n",
              "      <td>1000030004.00</td>\n",
              "      <td>POLYGON ((980403.205 194731.754, 980401.324 19...</td>\n",
              "    </tr>\n",
              "  </tbody>\n",
              "</table>\n",
              "</div>\n",
              "      <button class=\"colab-df-convert\" onclick=\"convertToInteractive('df-1c18b8b0-ab31-4b5a-9eec-7f304f156d5c')\"\n",
              "              title=\"Convert this dataframe to an interactive table.\"\n",
              "              style=\"display:none;\">\n",
              "        \n",
              "  <svg xmlns=\"http://www.w3.org/2000/svg\" height=\"24px\"viewBox=\"0 0 24 24\"\n",
              "       width=\"24px\">\n",
              "    <path d=\"M0 0h24v24H0V0z\" fill=\"none\"/>\n",
              "    <path d=\"M18.56 5.44l.94 2.06.94-2.06 2.06-.94-2.06-.94-.94-2.06-.94 2.06-2.06.94zm-11 1L8.5 8.5l.94-2.06 2.06-.94-2.06-.94L8.5 2.5l-.94 2.06-2.06.94zm10 10l.94 2.06.94-2.06 2.06-.94-2.06-.94-.94-2.06-.94 2.06-2.06.94z\"/><path d=\"M17.41 7.96l-1.37-1.37c-.4-.4-.92-.59-1.43-.59-.52 0-1.04.2-1.43.59L10.3 9.45l-7.72 7.72c-.78.78-.78 2.05 0 2.83L4 21.41c.39.39.9.59 1.41.59.51 0 1.02-.2 1.41-.59l7.78-7.78 2.81-2.81c.8-.78.8-2.07 0-2.86zM5.41 20L4 18.59l7.72-7.72 1.47 1.35L5.41 20z\"/>\n",
              "  </svg>\n",
              "      </button>\n",
              "      \n",
              "  <style>\n",
              "    .colab-df-container {\n",
              "      display:flex;\n",
              "      flex-wrap:wrap;\n",
              "      gap: 12px;\n",
              "    }\n",
              "\n",
              "    .colab-df-convert {\n",
              "      background-color: #E8F0FE;\n",
              "      border: none;\n",
              "      border-radius: 50%;\n",
              "      cursor: pointer;\n",
              "      display: none;\n",
              "      fill: #1967D2;\n",
              "      height: 32px;\n",
              "      padding: 0 0 0 0;\n",
              "      width: 32px;\n",
              "    }\n",
              "\n",
              "    .colab-df-convert:hover {\n",
              "      background-color: #E2EBFA;\n",
              "      box-shadow: 0px 1px 2px rgba(60, 64, 67, 0.3), 0px 1px 3px 1px rgba(60, 64, 67, 0.15);\n",
              "      fill: #174EA6;\n",
              "    }\n",
              "\n",
              "    [theme=dark] .colab-df-convert {\n",
              "      background-color: #3B4455;\n",
              "      fill: #D2E3FC;\n",
              "    }\n",
              "\n",
              "    [theme=dark] .colab-df-convert:hover {\n",
              "      background-color: #434B5C;\n",
              "      box-shadow: 0px 1px 3px 1px rgba(0, 0, 0, 0.15);\n",
              "      filter: drop-shadow(0px 1px 2px rgba(0, 0, 0, 0.3));\n",
              "      fill: #FFFFFF;\n",
              "    }\n",
              "  </style>\n",
              "\n",
              "      <script>\n",
              "        const buttonEl =\n",
              "          document.querySelector('#df-1c18b8b0-ab31-4b5a-9eec-7f304f156d5c button.colab-df-convert');\n",
              "        buttonEl.style.display =\n",
              "          google.colab.kernel.accessAllowed ? 'block' : 'none';\n",
              "\n",
              "        async function convertToInteractive(key) {\n",
              "          const element = document.querySelector('#df-1c18b8b0-ab31-4b5a-9eec-7f304f156d5c');\n",
              "          const dataTable =\n",
              "            await google.colab.kernel.invokeFunction('convertToInteractive',\n",
              "                                                     [key], {});\n",
              "          if (!dataTable) return;\n",
              "\n",
              "          const docLinkHtml = 'Like what you see? Visit the ' +\n",
              "            '<a target=\"_blank\" href=https://colab.research.google.com/notebooks/data_table.ipynb>data table notebook</a>'\n",
              "            + ' to learn more about interactive tables.';\n",
              "          element.innerHTML = '';\n",
              "          dataTable['output_type'] = 'display_data';\n",
              "          await google.colab.output.renderOutput(dataTable, element);\n",
              "          const docLink = document.createElement('div');\n",
              "          docLink.innerHTML = docLinkHtml;\n",
              "          element.appendChild(docLink);\n",
              "        }\n",
              "      </script>\n",
              "    </div>\n",
              "  </div>\n",
              "  "
            ]
          },
          "metadata": {},
          "execution_count": 95
        }
      ],
      "source": [
        "gdf = gpd.read_file('/content/gdrive/MyDrive/Spatial/PlutoData/MapPLUTO.shp')\n",
        "gdf.head()"
      ]
    },
    {
      "cell_type": "code",
      "execution_count": null,
      "metadata": {
        "colab": {
          "base_uri": "https://localhost:8080/"
        },
        "id": "LyFtolcUTTIB",
        "outputId": "657806ab-44ef-4f24-a9fd-fdd1e0c68039"
      },
      "outputs": [
        {
          "output_type": "execute_result",
          "data": {
            "text/plain": [
              "<Projected CRS: EPSG:2263>\n",
              "Name: NAD83 / New York Long Island (ftUS)\n",
              "Axis Info [cartesian]:\n",
              "- X[east]: Easting (US survey foot)\n",
              "- Y[north]: Northing (US survey foot)\n",
              "Area of Use:\n",
              "- name: United States (USA) - New York - counties of Bronx; Kings; Nassau; New York; Queens; Richmond; Suffolk.\n",
              "- bounds: (-74.26, 40.47, -71.8, 41.3)\n",
              "Coordinate Operation:\n",
              "- name: SPCS83 New York Long Island zone (US Survey feet)\n",
              "- method: Lambert Conic Conformal (2SP)\n",
              "Datum: North American Datum 1983\n",
              "- Ellipsoid: GRS 1980\n",
              "- Prime Meridian: Greenwich"
            ]
          },
          "metadata": {},
          "execution_count": 96
        }
      ],
      "source": [
        "gdf.crs"
      ]
    },
    {
      "cell_type": "code",
      "execution_count": null,
      "metadata": {
        "colab": {
          "base_uri": "https://localhost:8080/",
          "height": 206
        },
        "id": "MWFBTHNZehHa",
        "outputId": "76627fca-ab7d-447b-bad2-a57b0f06aa7c"
      },
      "outputs": [
        {
          "output_type": "execute_result",
          "data": {
            "text/plain": [
              "            BBL                                           geometry   x_coord  \\\n",
              "0 1000010101.00  MULTIPOLYGON (((972409.690 190685.560, 972428.... 971670.00   \n",
              "1 1000010201.00  POLYGON ((973648.661 193712.461, 973648.066 19... 972917.35   \n",
              "2 1000030001.00  MULTIPOLYGON (((980152.176 194762.899, 980089.... 979893.07   \n",
              "3 1000030003.00  POLYGON ((980713.169 194965.339, 980726.198 19... 980605.51   \n",
              "4 1000030004.00  POLYGON ((980403.205 194731.754, 980401.324 19... 980385.73   \n",
              "\n",
              "    y_coord  \n",
              "0 190635.94  \n",
              "1 193838.47  \n",
              "2 195396.33  \n",
              "3 195017.89  \n",
              "4 194763.52  "
            ],
            "text/html": [
              "\n",
              "  <div id=\"df-40a6623c-1986-4f49-a64d-d85096ac0797\">\n",
              "    <div class=\"colab-df-container\">\n",
              "      <div>\n",
              "<style scoped>\n",
              "    .dataframe tbody tr th:only-of-type {\n",
              "        vertical-align: middle;\n",
              "    }\n",
              "\n",
              "    .dataframe tbody tr th {\n",
              "        vertical-align: top;\n",
              "    }\n",
              "\n",
              "    .dataframe thead th {\n",
              "        text-align: right;\n",
              "    }\n",
              "</style>\n",
              "<table border=\"1\" class=\"dataframe\">\n",
              "  <thead>\n",
              "    <tr style=\"text-align: right;\">\n",
              "      <th></th>\n",
              "      <th>BBL</th>\n",
              "      <th>geometry</th>\n",
              "      <th>x_coord</th>\n",
              "      <th>y_coord</th>\n",
              "    </tr>\n",
              "  </thead>\n",
              "  <tbody>\n",
              "    <tr>\n",
              "      <th>0</th>\n",
              "      <td>1000010101.00</td>\n",
              "      <td>MULTIPOLYGON (((972409.690 190685.560, 972428....</td>\n",
              "      <td>971670.00</td>\n",
              "      <td>190635.94</td>\n",
              "    </tr>\n",
              "    <tr>\n",
              "      <th>1</th>\n",
              "      <td>1000010201.00</td>\n",
              "      <td>POLYGON ((973648.661 193712.461, 973648.066 19...</td>\n",
              "      <td>972917.35</td>\n",
              "      <td>193838.47</td>\n",
              "    </tr>\n",
              "    <tr>\n",
              "      <th>2</th>\n",
              "      <td>1000030001.00</td>\n",
              "      <td>MULTIPOLYGON (((980152.176 194762.899, 980089....</td>\n",
              "      <td>979893.07</td>\n",
              "      <td>195396.33</td>\n",
              "    </tr>\n",
              "    <tr>\n",
              "      <th>3</th>\n",
              "      <td>1000030003.00</td>\n",
              "      <td>POLYGON ((980713.169 194965.339, 980726.198 19...</td>\n",
              "      <td>980605.51</td>\n",
              "      <td>195017.89</td>\n",
              "    </tr>\n",
              "    <tr>\n",
              "      <th>4</th>\n",
              "      <td>1000030004.00</td>\n",
              "      <td>POLYGON ((980403.205 194731.754, 980401.324 19...</td>\n",
              "      <td>980385.73</td>\n",
              "      <td>194763.52</td>\n",
              "    </tr>\n",
              "  </tbody>\n",
              "</table>\n",
              "</div>\n",
              "      <button class=\"colab-df-convert\" onclick=\"convertToInteractive('df-40a6623c-1986-4f49-a64d-d85096ac0797')\"\n",
              "              title=\"Convert this dataframe to an interactive table.\"\n",
              "              style=\"display:none;\">\n",
              "        \n",
              "  <svg xmlns=\"http://www.w3.org/2000/svg\" height=\"24px\"viewBox=\"0 0 24 24\"\n",
              "       width=\"24px\">\n",
              "    <path d=\"M0 0h24v24H0V0z\" fill=\"none\"/>\n",
              "    <path d=\"M18.56 5.44l.94 2.06.94-2.06 2.06-.94-2.06-.94-.94-2.06-.94 2.06-2.06.94zm-11 1L8.5 8.5l.94-2.06 2.06-.94-2.06-.94L8.5 2.5l-.94 2.06-2.06.94zm10 10l.94 2.06.94-2.06 2.06-.94-2.06-.94-.94-2.06-.94 2.06-2.06.94z\"/><path d=\"M17.41 7.96l-1.37-1.37c-.4-.4-.92-.59-1.43-.59-.52 0-1.04.2-1.43.59L10.3 9.45l-7.72 7.72c-.78.78-.78 2.05 0 2.83L4 21.41c.39.39.9.59 1.41.59.51 0 1.02-.2 1.41-.59l7.78-7.78 2.81-2.81c.8-.78.8-2.07 0-2.86zM5.41 20L4 18.59l7.72-7.72 1.47 1.35L5.41 20z\"/>\n",
              "  </svg>\n",
              "      </button>\n",
              "      \n",
              "  <style>\n",
              "    .colab-df-container {\n",
              "      display:flex;\n",
              "      flex-wrap:wrap;\n",
              "      gap: 12px;\n",
              "    }\n",
              "\n",
              "    .colab-df-convert {\n",
              "      background-color: #E8F0FE;\n",
              "      border: none;\n",
              "      border-radius: 50%;\n",
              "      cursor: pointer;\n",
              "      display: none;\n",
              "      fill: #1967D2;\n",
              "      height: 32px;\n",
              "      padding: 0 0 0 0;\n",
              "      width: 32px;\n",
              "    }\n",
              "\n",
              "    .colab-df-convert:hover {\n",
              "      background-color: #E2EBFA;\n",
              "      box-shadow: 0px 1px 2px rgba(60, 64, 67, 0.3), 0px 1px 3px 1px rgba(60, 64, 67, 0.15);\n",
              "      fill: #174EA6;\n",
              "    }\n",
              "\n",
              "    [theme=dark] .colab-df-convert {\n",
              "      background-color: #3B4455;\n",
              "      fill: #D2E3FC;\n",
              "    }\n",
              "\n",
              "    [theme=dark] .colab-df-convert:hover {\n",
              "      background-color: #434B5C;\n",
              "      box-shadow: 0px 1px 3px 1px rgba(0, 0, 0, 0.15);\n",
              "      filter: drop-shadow(0px 1px 2px rgba(0, 0, 0, 0.3));\n",
              "      fill: #FFFFFF;\n",
              "    }\n",
              "  </style>\n",
              "\n",
              "      <script>\n",
              "        const buttonEl =\n",
              "          document.querySelector('#df-40a6623c-1986-4f49-a64d-d85096ac0797 button.colab-df-convert');\n",
              "        buttonEl.style.display =\n",
              "          google.colab.kernel.accessAllowed ? 'block' : 'none';\n",
              "\n",
              "        async function convertToInteractive(key) {\n",
              "          const element = document.querySelector('#df-40a6623c-1986-4f49-a64d-d85096ac0797');\n",
              "          const dataTable =\n",
              "            await google.colab.kernel.invokeFunction('convertToInteractive',\n",
              "                                                     [key], {});\n",
              "          if (!dataTable) return;\n",
              "\n",
              "          const docLinkHtml = 'Like what you see? Visit the ' +\n",
              "            '<a target=\"_blank\" href=https://colab.research.google.com/notebooks/data_table.ipynb>data table notebook</a>'\n",
              "            + ' to learn more about interactive tables.';\n",
              "          element.innerHTML = '';\n",
              "          dataTable['output_type'] = 'display_data';\n",
              "          await google.colab.output.renderOutput(dataTable, element);\n",
              "          const docLink = document.createElement('div');\n",
              "          docLink.innerHTML = docLinkHtml;\n",
              "          element.appendChild(docLink);\n",
              "        }\n",
              "      </script>\n",
              "    </div>\n",
              "  </div>\n",
              "  "
            ]
          },
          "metadata": {},
          "execution_count": 97
        }
      ],
      "source": [
        "centroids = gdf.geometry.centroid\n",
        "\n",
        "gdf['x_coord'] = centroids.x\n",
        "gdf['y_coord'] = centroids.y\n",
        "\n",
        "gdf.head()"
      ]
    },
    {
      "cell_type": "code",
      "execution_count": null,
      "metadata": {
        "id": "ZPpfnxgpe6l5"
      },
      "outputs": [],
      "source": [
        "gdf['BBL'] = gdf['BBL'].astype(int)"
      ]
    },
    {
      "cell_type": "code",
      "source": [],
      "metadata": {
        "id": "Y8Lx8IjygeWq"
      },
      "execution_count": null,
      "outputs": []
    },
    {
      "cell_type": "code",
      "source": [
        "labeled = cluster_labels[cluster_labels['bldg_price']> 0]\n",
        "unlabeled = cluster_labels[cluster_labels['bldg_price'] == 0]"
      ],
      "metadata": {
        "id": "4xkIFzXZg6Mb"
      },
      "execution_count": null,
      "outputs": []
    },
    {
      "cell_type": "code",
      "execution_count": null,
      "metadata": {
        "id": "axX_g_pMfKgE"
      },
      "outputs": [],
      "source": [
        "unlabeled = gdf.merge(unlabeled, left_on = 'BBL', right_on = 'bbl', how = 'right')\n",
        "labeled = gdf.merge(labeled, left_on = 'BBL', right_on = 'bbl', how = 'right')\n"
      ]
    },
    {
      "cell_type": "code",
      "execution_count": null,
      "metadata": {
        "id": "VyoxWcF09NsB"
      },
      "outputs": [],
      "source": [
        "\n"
      ]
    },
    {
      "cell_type": "code",
      "execution_count": null,
      "metadata": {
        "id": "q_It1TnK9Uzg"
      },
      "outputs": [],
      "source": [
        "labeled = labeled[['x_coord', 'y_coord', 'cluster_label', 'bldg_price']]\n",
        "unlabeled = unlabeled[['x_coord', 'y_coord', 'cluster_label', 'bldg_price']]"
      ]
    },
    {
      "cell_type": "code",
      "execution_count": null,
      "metadata": {
        "colab": {
          "base_uri": "https://localhost:8080/"
        },
        "id": "aahkd1jM99LT",
        "outputId": "a90f5a7b-c908-4309-caae-33d85bffc2f5"
      },
      "outputs": [
        {
          "output_type": "stream",
          "name": "stderr",
          "text": [
            "<ipython-input-111-ca695163e1ca>:3: SettingWithCopyWarning: \n",
            "A value is trying to be set on a copy of a slice from a DataFrame\n",
            "\n",
            "See the caveats in the documentation: https://pandas.pydata.org/pandas-docs/stable/user_guide/indexing.html#returning-a-view-versus-a-copy\n",
            "  filtered_df.drop(columns=['cluster_label'], inplace=True)\n",
            "<ipython-input-111-ca695163e1ca>:3: SettingWithCopyWarning: \n",
            "A value is trying to be set on a copy of a slice from a DataFrame\n",
            "\n",
            "See the caveats in the documentation: https://pandas.pydata.org/pandas-docs/stable/user_guide/indexing.html#returning-a-view-versus-a-copy\n",
            "  filtered_df.drop(columns=['cluster_label'], inplace=True)\n",
            "<ipython-input-111-ca695163e1ca>:3: SettingWithCopyWarning: \n",
            "A value is trying to be set on a copy of a slice from a DataFrame\n",
            "\n",
            "See the caveats in the documentation: https://pandas.pydata.org/pandas-docs/stable/user_guide/indexing.html#returning-a-view-versus-a-copy\n",
            "  filtered_df.drop(columns=['cluster_label'], inplace=True)\n",
            "<ipython-input-111-ca695163e1ca>:3: SettingWithCopyWarning: \n",
            "A value is trying to be set on a copy of a slice from a DataFrame\n",
            "\n",
            "See the caveats in the documentation: https://pandas.pydata.org/pandas-docs/stable/user_guide/indexing.html#returning-a-view-versus-a-copy\n",
            "  filtered_df.drop(columns=['cluster_label'], inplace=True)\n",
            "<ipython-input-111-ca695163e1ca>:3: SettingWithCopyWarning: \n",
            "A value is trying to be set on a copy of a slice from a DataFrame\n",
            "\n",
            "See the caveats in the documentation: https://pandas.pydata.org/pandas-docs/stable/user_guide/indexing.html#returning-a-view-versus-a-copy\n",
            "  filtered_df.drop(columns=['cluster_label'], inplace=True)\n"
          ]
        }
      ],
      "source": [
        "\n",
        "for val in range(0,5):\n",
        "    filtered_df = labeled[labeled['cluster_label'] == val]\n",
        "    filtered_df.drop(columns=['cluster_label'], inplace=True)\n",
        "    output_filename = f'/content/gdrive/MyDrive/Spatial/datasets/labeled_{val}.csv'\n",
        "    filtered_df.to_csv(output_filename)"
      ]
    },
    {
      "cell_type": "code",
      "source": [
        "\n",
        "for val in range(0,5):\n",
        "    filtered_df = unlabeled[unlabeled['cluster_label'] == val]\n",
        "    filtered_df.drop(columns=['cluster_label'], inplace=True)\n",
        "    output_filename = f'/content/gdrive/MyDrive/Spatial/datasets/unlabeled_{val}.csv'\n",
        "    filtered_df.to_csv(output_filename)"
      ],
      "metadata": {
        "colab": {
          "base_uri": "https://localhost:8080/"
        },
        "id": "DF2BYEQpa-A6",
        "outputId": "d2a6cffc-3e19-4409-b29a-99ae5ed89768"
      },
      "execution_count": null,
      "outputs": [
        {
          "output_type": "stream",
          "name": "stderr",
          "text": [
            "<ipython-input-112-81ad9c4096f9>:3: SettingWithCopyWarning: \n",
            "A value is trying to be set on a copy of a slice from a DataFrame\n",
            "\n",
            "See the caveats in the documentation: https://pandas.pydata.org/pandas-docs/stable/user_guide/indexing.html#returning-a-view-versus-a-copy\n",
            "  filtered_df.drop(columns=['cluster_label'], inplace=True)\n",
            "<ipython-input-112-81ad9c4096f9>:3: SettingWithCopyWarning: \n",
            "A value is trying to be set on a copy of a slice from a DataFrame\n",
            "\n",
            "See the caveats in the documentation: https://pandas.pydata.org/pandas-docs/stable/user_guide/indexing.html#returning-a-view-versus-a-copy\n",
            "  filtered_df.drop(columns=['cluster_label'], inplace=True)\n",
            "<ipython-input-112-81ad9c4096f9>:3: SettingWithCopyWarning: \n",
            "A value is trying to be set on a copy of a slice from a DataFrame\n",
            "\n",
            "See the caveats in the documentation: https://pandas.pydata.org/pandas-docs/stable/user_guide/indexing.html#returning-a-view-versus-a-copy\n",
            "  filtered_df.drop(columns=['cluster_label'], inplace=True)\n",
            "<ipython-input-112-81ad9c4096f9>:3: SettingWithCopyWarning: \n",
            "A value is trying to be set on a copy of a slice from a DataFrame\n",
            "\n",
            "See the caveats in the documentation: https://pandas.pydata.org/pandas-docs/stable/user_guide/indexing.html#returning-a-view-versus-a-copy\n",
            "  filtered_df.drop(columns=['cluster_label'], inplace=True)\n",
            "<ipython-input-112-81ad9c4096f9>:3: SettingWithCopyWarning: \n",
            "A value is trying to be set on a copy of a slice from a DataFrame\n",
            "\n",
            "See the caveats in the documentation: https://pandas.pydata.org/pandas-docs/stable/user_guide/indexing.html#returning-a-view-versus-a-copy\n",
            "  filtered_df.drop(columns=['cluster_label'], inplace=True)\n"
          ]
        }
      ]
    }
  ],
  "metadata": {
    "colab": {
      "provenance": []
    },
    "kernelspec": {
      "display_name": "Python 3",
      "name": "python3"
    },
    "language_info": {
      "name": "python"
    }
  },
  "nbformat": 4,
  "nbformat_minor": 0
}